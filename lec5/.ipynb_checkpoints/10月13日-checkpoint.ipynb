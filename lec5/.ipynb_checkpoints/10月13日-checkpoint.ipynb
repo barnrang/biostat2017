{
 "cells": [
  {
   "cell_type": "code",
   "execution_count": 185,
   "metadata": {
    "collapsed": true
   },
   "outputs": [],
   "source": [
    "import urllib.request\n",
    "import math as mt\n",
    "import matplotlib.pyplot as plt\n",
    "import numpy as np\n",
    "%matplotlib inline"
   ]
  },
  {
   "cell_type": "code",
   "execution_count": 186,
   "metadata": {
    "collapsed": true
   },
   "outputs": [],
   "source": [
    "def mean(arr):\n",
    "    sum = 0\n",
    "    for el in arr:\n",
    "        sum += el\n",
    "    return sum/len(arr)\n",
    "\n",
    "def var(arr,sample = False):\n",
    "    var_sum = 0\n",
    "    mu = mean(arr)\n",
    "    for el in arr:\n",
    "        var_sum += (el - mu) ** 2\n",
    "    divisor = len(arr)\n",
    "    if sample:\n",
    "        divisor -= 1 #不偏\n",
    "    return var_sum/divisor\n",
    "\n",
    "def sd(arr, sample = False):\n",
    "    return mt.sqrt(var(arr, sample))\n",
    "\n",
    "def  stanerr(arr):\n",
    "    return sd(arr, True)/mt.sqrt(len(arr))\n",
    "\n",
    "def sos(arr):\n",
    "    return var(arr) * len(arr)"
   ]
  },
  {
   "cell_type": "code",
   "execution_count": 187,
   "metadata": {
    "collapsed": true
   },
   "outputs": [],
   "source": [
    "#課題6.1\n",
    "wakuwaku = [80, 75, 80, 90, 95, 80, 80, 85, 85, 80, 90, 80, 75, 90, 85, 85, 90, 90, 85, 80]\n",
    "mogumogu = [75, 70, 80, 85, 90, 75, 85, 80, 80, 75, 80, 75, 70, 85, 80, 75, 80, 80, 90, 80]\n",
    "pakupaku = [80, 80, 80, 90, 95, 85, 95, 90, 85, 90, 95, 85, 98, 95, 85, 85, 90, 90, 85, 85]"
   ]
  },
  {
   "cell_type": "code",
   "execution_count": 188,
   "metadata": {},
   "outputs": [
    {
     "data": {
      "text/plain": [
       "(84.0, 79.5, 88.15)"
      ]
     },
     "execution_count": 188,
     "metadata": {},
     "output_type": "execute_result"
    }
   ],
   "source": [
    "mean(wakuwaku), mean(mogumogu), mean(pakupaku)"
   ]
  },
  {
   "cell_type": "code",
   "execution_count": 189,
   "metadata": {},
   "outputs": [
    {
     "data": {
      "text/plain": [
       "(5.385164807134504, 5.454356057317857, 5.341114115987412)"
      ]
     },
     "execution_count": 189,
     "metadata": {},
     "output_type": "execute_result"
    }
   ],
   "source": [
    "sd(wakuwaku), sd(mogumogu), sd(pakupaku)"
   ]
  },
  {
   "cell_type": "code",
   "execution_count": 190,
   "metadata": {},
   "outputs": [
    {
     "data": {
      "text/plain": [
       "(83.88333333333334, 6.447458586313078)"
      ]
     },
     "execution_count": 190,
     "metadata": {},
     "output_type": "execute_result"
    }
   ],
   "source": [
    "mean(wakuwaku + mogumogu + pakupaku), sd(wakuwaku + mogumogu + pakupaku)"
   ]
  },
  {
   "cell_type": "code",
   "execution_count": 191,
   "metadata": {
    "collapsed": true
   },
   "outputs": [],
   "source": [
    "# 対立仮説\n",
    "# 少なくとも、3つのお店のポテトの評価（母集団）の平均の一つの組み合わせにおいて差はある"
   ]
  },
  {
   "cell_type": "code",
   "execution_count": 192,
   "metadata": {
    "collapsed": true
   },
   "outputs": [],
   "source": [
    "#課題6.2\n",
    "wakuwaku = [80, 75, 80, 90, 95, 80, 80, 85, 85, 80, 90, 80, 75, 90, 85, 85, 90, 90, 85, 80]\n",
    "mogumogu = [75, 70, 80, 85, 90, 75, 85, 80, 80, 75, 80, 75, 70, 85, 80, 75, 80, 80, 90, 80]\n",
    "pakupaku = [80, 80, 80, 90, 95, 85, 95, 90, 85, 90, 95, 85, 98, 95, 85, 85, 90, 90, 85, 85]"
   ]
  },
  {
   "cell_type": "code",
   "execution_count": 193,
   "metadata": {
    "collapsed": true
   },
   "outputs": [],
   "source": [
    "# それぞれの店のポテトの点数の平均（上表 a, b, c ）"
   ]
  },
  {
   "cell_type": "code",
   "execution_count": 194,
   "metadata": {
    "scrolled": true
   },
   "outputs": [
    {
     "data": {
      "text/plain": [
       "(84.0, 79.5, 88.15)"
      ]
     },
     "execution_count": 194,
     "metadata": {},
     "output_type": "execute_result"
    }
   ],
   "source": [
    "mean(wakuwaku), mean(mogumogu), mean(pakupaku)"
   ]
  },
  {
   "cell_type": "code",
   "execution_count": 195,
   "metadata": {
    "collapsed": true
   },
   "outputs": [],
   "source": [
    "# 全体の平均（上表 d ）"
   ]
  },
  {
   "cell_type": "code",
   "execution_count": 196,
   "metadata": {
    "collapsed": true
   },
   "outputs": [],
   "source": [
    "mean(wakuwaku + mogumogu + pakupaku)\n",
    "all = wakuwaku + mogumogu + pakupaku"
   ]
  },
  {
   "cell_type": "code",
   "execution_count": 197,
   "metadata": {},
   "outputs": [
    {
     "data": {
      "text/plain": [
       "83.88333333333334"
      ]
     },
     "execution_count": 197,
     "metadata": {},
     "output_type": "execute_result"
    }
   ],
   "source": [
    "mean(all)"
   ]
  },
  {
   "cell_type": "code",
   "execution_count": 198,
   "metadata": {
    "collapsed": true
   },
   "outputs": [],
   "source": [
    "# それぞれの店のポテトの点数の偏差平方和（上表 e, f, g ）\n",
    "# 全体の偏差平方和（上表 h ）"
   ]
  },
  {
   "cell_type": "code",
   "execution_count": 199,
   "metadata": {
    "collapsed": true
   },
   "outputs": [],
   "source": [
    "def deviation_sos(arr, av=None):\n",
    "    if av==None:\n",
    "        av = mean(arr)\n",
    "    sum = 0\n",
    "    for x in arr:\n",
    "        sum += (av - x) ** 2\n",
    "    return sum"
   ]
  },
  {
   "cell_type": "code",
   "execution_count": 200,
   "metadata": {
    "collapsed": true
   },
   "outputs": [],
   "source": [
    "def deviation_sos_cross(arr):\n",
    "    all_arr = []\n",
    "    sum = 0\n",
    "    for arrt in arr:\n",
    "        all_arr += arrt\n",
    "    all_av = mean(all_arr)\n",
    "    for arrt in arr:\n",
    "        av = mean(arrt)\n",
    "        sum += (av - all_av) ** 2 * len(arrt)\n",
    "    return sum"
   ]
  },
  {
   "cell_type": "code",
   "execution_count": 201,
   "metadata": {
    "scrolled": true
   },
   "outputs": [
    {
     "data": {
      "text/plain": [
       "(580.0, 595.0, 570.5499999999998, 2494.1833333333343)"
      ]
     },
     "execution_count": 201,
     "metadata": {},
     "output_type": "execute_result"
    }
   ],
   "source": [
    "deviation_sos(wakuwaku), deviation_sos(mogumogu), deviation_sos(pakupaku), deviation_sos(all)"
   ]
  },
  {
   "cell_type": "code",
   "execution_count": 202,
   "metadata": {
    "collapsed": true
   },
   "outputs": [],
   "source": [
    "# 群内の偏差平方和（上表　i ）"
   ]
  },
  {
   "cell_type": "code",
   "execution_count": 203,
   "metadata": {},
   "outputs": [
    {
     "data": {
      "text/plain": [
       "1745.5499999999997"
      ]
     },
     "execution_count": 203,
     "metadata": {},
     "output_type": "execute_result"
    }
   ],
   "source": [
    "deviation_sos(wakuwaku) + deviation_sos(mogumogu) + deviation_sos(pakupaku)"
   ]
  },
  {
   "cell_type": "code",
   "execution_count": 204,
   "metadata": {
    "collapsed": true
   },
   "outputs": [],
   "source": [
    "# 群間の偏差平方和（上表 j ）"
   ]
  },
  {
   "cell_type": "code",
   "execution_count": 205,
   "metadata": {},
   "outputs": [
    {
     "data": {
      "text/plain": [
       "748.6333333333343"
      ]
     },
     "execution_count": 205,
     "metadata": {},
     "output_type": "execute_result"
    }
   ],
   "source": [
    "deviation_sos_cross([wakuwaku, mogumogu, pakupaku])"
   ]
  },
  {
   "cell_type": "markdown",
   "metadata": {},
   "source": [
    "自由度を求めてください。\n",
    "- ( k ) 群間の自由度　=　群の数　－　1\n",
    "- ( l ) 群内の自由度　=　（群1のデータ数－1）＋（群2のデータ数－1）+（群3のデータ数－1）\n",
    "- ( m ) 全体の自由度　=　データの総個数　－　1"
   ]
  },
  {
   "cell_type": "code",
   "execution_count": 206,
   "metadata": {},
   "outputs": [
    {
     "data": {
      "text/plain": [
       "2"
      ]
     },
     "execution_count": 206,
     "metadata": {},
     "output_type": "execute_result"
    }
   ],
   "source": [
    "3 - 1"
   ]
  },
  {
   "cell_type": "code",
   "execution_count": 207,
   "metadata": {},
   "outputs": [
    {
     "data": {
      "text/plain": [
       "57"
      ]
     },
     "execution_count": 207,
     "metadata": {},
     "output_type": "execute_result"
    }
   ],
   "source": [
    "len(wakuwaku) - 1 + len(mogumogu) -1 + len(pakupaku) - 1"
   ]
  },
  {
   "cell_type": "code",
   "execution_count": 208,
   "metadata": {},
   "outputs": [
    {
     "data": {
      "text/plain": [
       "59"
      ]
     },
     "execution_count": 208,
     "metadata": {},
     "output_type": "execute_result"
    }
   ],
   "source": [
    "len(all) - 1"
   ]
  },
  {
   "cell_type": "markdown",
   "metadata": {},
   "source": [
    " 群間の平均平方"
   ]
  },
  {
   "cell_type": "code",
   "execution_count": 209,
   "metadata": {},
   "outputs": [
    {
     "data": {
      "text/plain": [
       "374.3166666666672"
      ]
     },
     "execution_count": 209,
     "metadata": {},
     "output_type": "execute_result"
    }
   ],
   "source": [
    "a = deviation_sos_cross([wakuwaku, mogumogu, pakupaku])/2\n",
    "a"
   ]
  },
  {
   "cell_type": "markdown",
   "metadata": {},
   "source": [
    "群内の平均平方"
   ]
  },
  {
   "cell_type": "code",
   "execution_count": 210,
   "metadata": {},
   "outputs": [
    {
     "data": {
      "text/plain": [
       "30.62368421052631"
      ]
     },
     "execution_count": 210,
     "metadata": {},
     "output_type": "execute_result"
    }
   ],
   "source": [
    "b = (deviation_sos(wakuwaku) + deviation_sos(mogumogu) + deviation_sos(pakupaku))/57\n",
    "b"
   ]
  },
  {
   "cell_type": "markdown",
   "metadata": {},
   "source": [
    "F値"
   ]
  },
  {
   "cell_type": "code",
   "execution_count": 211,
   "metadata": {},
   "outputs": [
    {
     "data": {
      "text/plain": [
       "12.223110194494591"
      ]
     },
     "execution_count": 211,
     "metadata": {},
     "output_type": "execute_result"
    }
   ],
   "source": [
    "a/b"
   ]
  },
  {
   "cell_type": "code",
   "execution_count": 212,
   "metadata": {
    "collapsed": true
   },
   "outputs": [],
   "source": [
    "# 計算したF値と、F分布表を比較\n",
    "# 群間自由度2、群内自由度57、4.98\n",
    "#帰無仮説を棄却して、少なくとも、3つのお店のポテトの評価の平均の一つの組み合わせにおいて差はあるということになります。"
   ]
  },
  {
   "cell_type": "code",
   "execution_count": 213,
   "metadata": {
    "collapsed": true
   },
   "outputs": [],
   "source": [
    "#課題6.4\n",
    "wakuwaku = [90, 70, 75, 90, 65, 70, 80, 85, 75, 75, 85, 75, 80, 90, 80]\n",
    "mogumogu = [75, 95, 75, 80, 75, 85, 75, 85, 80, 65, 90, 75, 90, 75, 85]\n",
    "pakupaku = [65, 60, 75, 80, 65, 60, 70, 85, 70, 75, 75, 70, 80, 75, 80]"
   ]
  },
  {
   "cell_type": "code",
   "execution_count": 214,
   "metadata": {
    "collapsed": true
   },
   "outputs": [],
   "source": [
    "# 帰無仮説 : 3つのお店のポテトの評価の平均のどんな組み合わせにおいても差はない\n",
    "# 対立仮説 : 少なくとも、3つのお店のポテトの評価の平均の一つの組み合わせにおいて差はある"
   ]
  },
  {
   "cell_type": "code",
   "execution_count": 215,
   "metadata": {},
   "outputs": [
    {
     "data": {
      "text/plain": [
       "(79.0, 80.33333333333333, 72.33333333333333, 77.22222222222223)"
      ]
     },
     "execution_count": 215,
     "metadata": {},
     "output_type": "execute_result"
    }
   ],
   "source": [
    "all = wakuwaku + mogumogu + pakupaku\n",
    "mean(wakuwaku), mean(mogumogu), mean(pakupaku), mean(all)"
   ]
  },
  {
   "cell_type": "code",
   "execution_count": 216,
   "metadata": {},
   "outputs": [
    {
     "data": {
      "text/plain": [
       "(57.333333333333336, 58.222222222222214, 52.888888888888886, 68.39506172839505)"
      ]
     },
     "execution_count": 216,
     "metadata": {},
     "output_type": "execute_result"
    }
   ],
   "source": [
    "var(wakuwaku), var(mogumogu), var(pakupaku), var(all)"
   ]
  },
  {
   "cell_type": "markdown",
   "metadata": {},
   "source": [
    " <TABLE BORDER=\"1\" align=\"center\" CELLPADDING=\"2\" CELLSPACING=\"0\">\n",
    "   <TR> \n",
    "     <TD WIDTH=100 BGCOLOR=\"#CCCCCC\"> <CENTER>\n",
    "         要因 </CENTER></TD>\n",
    "     <TD WIDTH=100 BGCOLOR=\"#DDDDDD\"> <CENTER>\n",
    "         偏差平方和 </CENTER></TD>\n",
    "     <TD WIDTH=100 BGCOLOR=\"#DDDDDD\"> <CENTER>\n",
    "         自由度 </CENTER></TD>\n",
    "     <TD WIDTH=100 BGCOLOR=\"#DDDDDD\"> <CENTER>\n",
    "         平均平方 </CENTER></TD>\n",
    "     <TD WIDTH=100 BGCOLOR=\"#DDDDDD\"> <CENTER>\n",
    "         F\n",
    " </CENTER></TD>\n",
    "   </TR>\n",
    "   <TR> \n",
    "     <TD WIDTH=100 BGCOLOR=\"#DDDDDD\"> <CENTER>\n",
    "         群間\n",
    " </CENTER></TD>\n",
    "     <TD WIDTH=100> <CENTER>551.111\n",
    "         　 </CENTER></TD>\n",
    "     <TD WIDTH=100> <CENTER>2\n",
    "         　 </CENTER></TD>\n",
    "     <TD WIDTH=100> <CENTER>275.56\n",
    "         　 </CENTER></TD>\n",
    "     <TD WIDTH=100> <CENTER>4.580\n",
    "         　 </CENTER></TD>\n",
    "   </TR>\n",
    "   <TR> \n",
    "     <TD WIDTH=100 BGCOLOR=\"#DDDDDD\"> <CENTER>\n",
    "         群内 \n",
    "       </CENTER></TD>\n",
    "     <TD WIDTH=100> <CENTER>2526.67\n",
    "         　 </CENTER></TD>\n",
    "     <TD WIDTH=100> <CENTER>42\n",
    "         　 </CENTER></TD>\n",
    "     <TD WIDTH=100> <CENTER>60.159\n",
    "         　 </CENTER></TD>\n",
    "   </TR>\n",
    "   <TR> \n",
    "     <TD WIDTH=100 BGCOLOR=\"#CCCCCC\"> <CENTER>\n",
    "         全体 </CENTER></TD>\n",
    "     <TD WIDTH=100> <CENTER>3077.78\n",
    "         　 </CENTER></TD>\n",
    "     <TD WIDTH=100> <CENTER>44\n",
    "         　 </CENTER></TD>\n",
    "   </TR>\n",
    " </TABLE>"
   ]
  },
  {
   "cell_type": "code",
   "execution_count": 217,
   "metadata": {},
   "outputs": [
    {
     "data": {
      "text/plain": [
       "2526.6666666666665"
      ]
     },
     "execution_count": 217,
     "metadata": {},
     "output_type": "execute_result"
    }
   ],
   "source": [
    "#i\n",
    "deviation_sos(wakuwaku) + deviation_sos(mogumogu) + deviation_sos(pakupaku)"
   ]
  },
  {
   "cell_type": "code",
   "execution_count": 218,
   "metadata": {},
   "outputs": [
    {
     "data": {
      "text/plain": [
       "551.1111111111114"
      ]
     },
     "execution_count": 218,
     "metadata": {},
     "output_type": "execute_result"
    }
   ],
   "source": [
    "#j\n",
    "deviation_sos_cross([wakuwaku,mogumogu,pakupaku])"
   ]
  },
  {
   "cell_type": "code",
   "execution_count": 219,
   "metadata": {},
   "outputs": [
    {
     "data": {
      "text/plain": [
       "3077.7777777777774"
      ]
     },
     "execution_count": 219,
     "metadata": {},
     "output_type": "execute_result"
    }
   ],
   "source": [
    "#h\n",
    "deviation_sos(all)"
   ]
  },
  {
   "cell_type": "code",
   "execution_count": 220,
   "metadata": {},
   "outputs": [
    {
     "data": {
      "text/plain": [
       "(2, 42, 44)"
      ]
     },
     "execution_count": 220,
     "metadata": {},
     "output_type": "execute_result"
    }
   ],
   "source": [
    "#k,l,m\n",
    "3-1, len(wakuwaku) - 1 + len(mogumogu) - 1 + len(pakupaku) - 1, len(all) - 1"
   ]
  },
  {
   "cell_type": "code",
   "execution_count": 221,
   "metadata": {},
   "outputs": [
    {
     "data": {
      "text/plain": [
       "(275.5555555555557, 60.15873015873016)"
      ]
     },
     "execution_count": 221,
     "metadata": {},
     "output_type": "execute_result"
    }
   ],
   "source": [
    "#n,o\n",
    "a,b = deviation_sos_cross([wakuwaku, mogumogu, pakupaku])/2,(deviation_sos(wakuwaku) \n",
    "                                                             + deviation_sos(mogumogu) + deviation_sos(pakupaku))/42\n",
    "a,b"
   ]
  },
  {
   "cell_type": "code",
   "execution_count": 222,
   "metadata": {},
   "outputs": [
    {
     "data": {
      "text/plain": [
       "4.580474934036942"
      ]
     },
     "execution_count": 222,
     "metadata": {},
     "output_type": "execute_result"
    }
   ],
   "source": [
    "#p\n",
    "f = a/b\n",
    "f"
   ]
  },
  {
   "cell_type": "code",
   "execution_count": 223,
   "metadata": {
    "collapsed": true
   },
   "outputs": [],
   "source": [
    "#3.23, 5.18 5%,1%"
   ]
  },
  {
   "cell_type": "markdown",
   "metadata": {},
   "source": [
    "- 5%有意水準で棄却域に入って帰無仮説を棄却します。「少なくとも、3つのお店のポテトの評価（母集団）の平均の一つの組み合わせにおいて差はある」ということになります。\n",
    "- 1%有意水準で棄却域に入ってないので、帰無仮説を賛成し、「3つのお店のポテトの評価の平均のどんな組み合わせにおいても差はない」ということになります。\n"
   ]
  },
  {
   "cell_type": "markdown",
   "metadata": {},
   "source": [
    "# 第7章"
   ]
  },
  {
   "cell_type": "code",
   "execution_count": 224,
   "metadata": {
    "collapsed": true
   },
   "outputs": [],
   "source": [
    "a1b1 = [65, 85, 75, 85, 75, 80, 90, 75, 85, 65, 75, 85, 80, 85, 90] # クリスピーで辛口\n",
    "a1b2 = [65, 70, 80, 75, 70, 60, 65, 70, 85, 60, 65, 75, 70, 80, 75] # クリスピーで普通味\n",
    "a2b1 = [70, 65, 85, 80, 75, 65, 75, 60, 85, 65, 75, 70, 65, 80, 75] # 普通の衣で辛口\n",
    "a2b2 = [70, 70, 85, 80, 65, 75, 65, 85, 80, 60, 70, 75, 70, 80, 85] # 普通の衣で普通味"
   ]
  },
  {
   "cell_type": "markdown",
   "metadata": {},
   "source": [
    "\n",
    "  <TABLE HEIGHT=\"345\" BORDER=\"1\" CELLSPACING=\"0\" \n",
    "   CELLPADDING=\"0\">\n",
    "     <TR> \n",
    "       <td bgcolor=\"#cccccc\"></td>\n",
    "       <TD BGCOLOR=\"#dddddd\" HEIGHT=\"20\"> <CENTER>\n",
    "           クリスピーで辛口 </CENTER></TD>\n",
    "       <TD BGCOLOR=\"#dddddd\"> <CENTER>\n",
    "           クリスピーで普通味 \n",
    "         </CENTER></TD>\n",
    "       <TD BGCOLOR=\"#dddddd\"> <CENTER>\n",
    "           普通の衣で辛口 </CENTER></TD>\n",
    "       <TD WIDTH=\"20%\" BGCOLOR=\"#dddddd\"> <CENTER>\n",
    "           普通の衣で普通味 \n",
    "         </CENTER></TD>\n",
    "       <TD BGCOLOR=\"#dddddd\" HEIGHT=\"20\"> <CENTER>\n",
    "           クリスピー </CENTER></TD>\n",
    "       <TD BGCOLOR=\"#dddddd\"> <CENTER>\n",
    "           普通の衣 \n",
    "         </CENTER></TD>\n",
    "       <TD BGCOLOR=\"#dddddd\"> <CENTER>\n",
    "           辛口 </CENTER></TD>\n",
    "       <TD BGCOLOR=\"#dddddd\"> <CENTER>\n",
    "           普通味 \n",
    "         </CENTER></TD>\n",
    "       <TD BGCOLOR=\"#dddddd\"> <CENTER>\n",
    "           全体 \n",
    "         </CENTER></TD>\n",
    "     </TR>\n",
    "     <TR> \n",
    "       <td bgcolor=\"#cccccc\">1</td>\n",
    "       <TD ALIGN=\"CENTER\" HEIGHT=\"20\"> 65</TD>\n",
    "       <TD ALIGN=\"CENTER\"> 65</TD>\n",
    "       <TD ALIGN=\"CENTER\"> 70</TD>\n",
    "       <TD ALIGN=\"CENTER\"> 70</TD>\n",
    "       <td bgcolor=\"#cccccc\"></td>\n",
    "       <td bgcolor=\"#cccccc\"></td>\n",
    "       <td bgcolor=\"#cccccc\"></td>\n",
    "       <td bgcolor=\"#cccccc\"></td>\n",
    "       <td bgcolor=\"#cccccc\"></td>\n",
    "     </TR>\n",
    "     <TR> \n",
    "       <td bgcolor=\"#cccccc\">2</td>\n",
    "       <TD ALIGN=\"CENTER\" HEIGHT=\"20\"> 85</TD>\n",
    "       <TD ALIGN=\"CENTER\"> 70</TD>\n",
    "       <TD ALIGN=\"CENTER\"> 65</TD>\n",
    "       <TD ALIGN=\"CENTER\"??> 70</TD>\n",
    "       <td bgcolor=\"#cccccc\"></td>\n",
    "       <td bgcolor=\"#cccccc\"></td>\n",
    "       <td bgcolor=\"#cccccc\"></td>\n",
    "       <td bgcolor=\"#cccccc\"></td>\n",
    "       <td bgcolor=\"#cccccc\"></td>\n",
    "     </TR>\n",
    "     <TR> \n",
    "       <td bgcolor=\"#cccccc\">3</td>\n",
    "       <TD ALIGN=\"CENTER\" HEIGHT=\"20\"> 75</TD>\n",
    "       <TD ALIGN=\"CENTER\"> 80</TD>\n",
    "       <TD ALIGN=\"CENTER\"> 85</TD>\n",
    "       <TD ALIGN=\"CENTER\"> 85</TD>\n",
    "       <td bgcolor=\"#cccccc\"></td>\n",
    "       <td bgcolor=\"#cccccc\"></td>\n",
    "       <td bgcolor=\"#cccccc\"></td>\n",
    "       <td bgcolor=\"#cccccc\"></td>\n",
    "       <td bgcolor=\"#cccccc\"></td>\n",
    "     </TR>\n",
    "     <TR> \n",
    "       <td bgcolor=\"#cccccc\">4</td>\n",
    "       <TD ALIGN=\"CENTER\" HEIGHT=\"20\"> 85</TD>\n",
    "       <TD ALIGN=\"CENTER\"> 75</TD>\n",
    "       <TD ALIGN=\"CENTER\"> 80</TD>\n",
    "       <TD ALIGN=\"CENTER\"> 80</TD>\n",
    "       <td bgcolor=\"#cccccc\"></td>\n",
    "       <td bgcolor=\"#cccccc\"></td>\n",
    "       <td bgcolor=\"#cccccc\"></td>\n",
    "       <td bgcolor=\"#cccccc\"></td>\n",
    "       <td bgcolor=\"#cccccc\"></td>\n",
    "     </TR>\n",
    "     <TR> \n",
    "       <td bgcolor=\"#cccccc\">5</td>\n",
    "       <TD ALIGN=\"CENTER\" HEIGHT=\"20\"> 75</TD>\n",
    "       <TD ALIGN=\"CENTER\"> 70</TD>\n",
    "       <TD ALIGN=\"CENTER\"> 75</TD>\n",
    "       <TD ALIGN=\"CENTER\"> 65</TD>\n",
    "       <td bgcolor=\"#cccccc\"></td>\n",
    "       <td bgcolor=\"#cccccc\"></td>\n",
    "       <td bgcolor=\"#cccccc\"></td>\n",
    "       <td bgcolor=\"#cccccc\"></td>\n",
    "       <td bgcolor=\"#cccccc\"></td>\n",
    "     </TR>\n",
    "     <TR> \n",
    "       <td bgcolor=\"#cccccc\">6</td>\n",
    "       <TD ALIGN=\"CENTER\" HEIGHT=\"20\"> 80</TD>\n",
    "       <TD ALIGN=\"CENTER\"> 60</TD>\n",
    "       <TD ALIGN=\"CENTER\"> 65</TD>\n",
    "       <TD ALIGN=\"CENTER\"> 75</TD>\n",
    "       <td bgcolor=\"#cccccc\"></td>\n",
    "       <td bgcolor=\"#cccccc\"></td>\n",
    "       <td bgcolor=\"#cccccc\"></td>\n",
    "       <td bgcolor=\"#cccccc\"></td>\n",
    "       <td bgcolor=\"#cccccc\"></td>\n",
    "     </TR>\n",
    "     <TR> \n",
    "       <td bgcolor=\"#cccccc\">7</td>\n",
    "       <TD ALIGN=\"CENTER\" HEIGHT=\"20\"> 90</TD>\n",
    "       <TD ALIGN=\"CENTER\"> 65</TD>\n",
    "       <TD ALIGN=\"CENTER\"> 75</TD>\n",
    "       <TD ALIGN=\"CENTER\"> 65</TD>\n",
    "       <td bgcolor=\"#cccccc\"></td>\n",
    "       <td bgcolor=\"#cccccc\"></td>\n",
    "       <td bgcolor=\"#cccccc\"></td>\n",
    "       <td bgcolor=\"#cccccc\"></td>\n",
    "       <td bgcolor=\"#cccccc\"></td>\n",
    "     </TR>\n",
    "     <TR> \n",
    "       <td bgcolor=\"#cccccc\">8</td>\n",
    "       <TD ALIGN=\"CENTER\" HEIGHT=\"20\"> 75</TD>\n",
    "       <TD ALIGN=\"CENTER\"> 70</TD>\n",
    "       <TD ALIGN=\"CENTER\"> 60</TD>\n",
    "       <TD ALIGN=\"CENTER\"> 85</TD>\n",
    "       <td bgcolor=\"#cccccc\"></td>\n",
    "       <td bgcolor=\"#cccccc\"></td>\n",
    "       <td bgcolor=\"#cccccc\"></td>\n",
    "       <td bgcolor=\"#cccccc\"></td>\n",
    "       <td bgcolor=\"#cccccc\"></td>\n",
    "     </TR>\n",
    "     <TR> \n",
    "       <td bgcolor=\"#cccccc\">9</td>\n",
    "       <TD ALIGN=\"CENTER\" HEIGHT=\"20\"> 85</TD>\n",
    "       <TD ALIGN=\"CENTER\"> 85</TD>\n",
    "       <TD ALIGN=\"CENTER\"> 85</TD>\n",
    "       <TD ALIGN=\"CENTER\"> 80</TD>\n",
    "       <td bgcolor=\"#cccccc\"></td>\n",
    "       <td bgcolor=\"#cccccc\"></td>\n",
    "       <td bgcolor=\"#cccccc\"></td>\n",
    "       <td bgcolor=\"#cccccc\"></td>\n",
    "       <td bgcolor=\"#cccccc\"></td>\n",
    "     </TR>\n",
    "     <TR> \n",
    "       <td bgcolor=\"#cccccc\">10</td>\n",
    "       <TD ALIGN=\"CENTER\" HEIGHT=\"20\"> 65</TD>\n",
    "       <TD ALIGN=\"CENTER\"> 60</TD>\n",
    "       <TD ALIGN=\"CENTER\"> 65</TD>\n",
    "       <TD ALIGN=\"CENTER\"> 60</TD>\n",
    "       <td bgcolor=\"#cccccc\"></td>\n",
    "       <td bgcolor=\"#cccccc\"></td>\n",
    "       <td bgcolor=\"#cccccc\"></td>\n",
    "       <td bgcolor=\"#cccccc\"></td>\n",
    "       <td bgcolor=\"#cccccc\"></td>\n",
    "     </TR>\n",
    "     <TR> \n",
    "       <td bgcolor=\"#cccccc\">11</td>\n",
    "       <TD ALIGN=\"CENTER\" HEIGHT=\"20\"> 75</TD>\n",
    "       <TD ALIGN=\"CENTER\"> 65</TD>\n",
    "       <TD ALIGN=\"CENTER\"> 75</TD>\n",
    "       <TD ALIGN=\"CENTER\"> 70</TD>\n",
    "       <td bgcolor=\"#cccccc\"></td>\n",
    "       <td bgcolor=\"#cccccc\"></td>\n",
    "       <td bgcolor=\"#cccccc\"></td>\n",
    "       <td bgcolor=\"#cccccc\"></td>\n",
    "       <td bgcolor=\"#cccccc\"></td>\n",
    "     </TR>\n",
    "     <TR> \n",
    "       <td bgcolor=\"#cccccc\">12</td>\n",
    "       <TD ALIGN=\"CENTER\" HEIGHT=\"20\"> 85</TD>\n",
    "       <TD ALIGN=\"CENTER\"> 75</TD>\n",
    "       <TD ALIGN=\"CENTER\"> 70</TD>\n",
    "       <TD ALIGN=\"CENTER\"> 75</TD>\n",
    "       <td bgcolor=\"#cccccc\"></td>\n",
    "       <td bgcolor=\"#cccccc\"></td>\n",
    "       <td bgcolor=\"#cccccc\"></td>\n",
    "       <td bgcolor=\"#cccccc\"></td>\n",
    "       <td bgcolor=\"#cccccc\"></td>\n",
    "     </TR>\n",
    "     <TR> \n",
    "       <td bgcolor=\"#cccccc\">13</td>\n",
    "       <TD ALIGN=\"CENTER\" HEIGHT=\"20\"> 80</TD>\n",
    "       <TD ALIGN=\"CENTER\"> 70</TD>\n",
    "       <TD ALIGN=\"CENTER\"> 65</TD>\n",
    "       <TD ALIGN=\"CENTER\"> 70</TD>\n",
    "       <td bgcolor=\"#cccccc\"></td>\n",
    "       <td bgcolor=\"#cccccc\"></td>\n",
    "       <td bgcolor=\"#cccccc\"></td>\n",
    "       <td bgcolor=\"#cccccc\"></td>\n",
    "       <td bgcolor=\"#cccccc\"></td>\n",
    "     </TR>\n",
    "     <TR> \n",
    "       <td bgcolor=\"#cccccc\">14</td>\n",
    "       <TD ALIGN=\"CENTER\" HEIGHT=\"20\"> 85</TD>\n",
    "       <TD ALIGN=\"CENTER\"> 80</TD>\n",
    "       <TD ALIGN=\"CENTER\"> 80</TD>\n",
    "       <TD ALIGN=\"CENTER\"> 80</TD>\n",
    "       <td bgcolor=\"#cccccc\"></td>\n",
    "       <td bgcolor=\"#cccccc\"></td>\n",
    "       <td bgcolor=\"#cccccc\"></td>\n",
    "       <td bgcolor=\"#cccccc\"></td>\n",
    "       <td bgcolor=\"#cccccc\"></td>\n",
    "     </TR>\n",
    "     <TR> \n",
    "       <td bgcolor=\"#cccccc\">15</td>\n",
    "       <TD ALIGN=\"CENTER\" HEIGHT=\"20\"> 90</TD>\n",
    "       <TD ALIGN=\"CENTER\"> 75</TD>\n",
    "       <TD ALIGN=\"CENTER\"> 75</TD>\n",
    "       <TD ALIGN=\"CENTER\"> 85</TD>\n",
    "       <td bgcolor=\"#cccccc\"></td>\n",
    "       <td bgcolor=\"#cccccc\"></td>\n",
    "       <td bgcolor=\"#cccccc\"></td>\n",
    "       <td bgcolor=\"#cccccc\"></td>\n",
    "       <td bgcolor=\"#cccccc\"></td>\n",
    "     </TR>\n",
    "     <tr><td bgcolor=\"#cccccc\">平均</td><td>( a )</td><td>( b )</td><td>( c )</td><td>( d )</td>\n",
    "         <td>( e )</td><td>( f )</td><td>( g )</td><td> ( h )</td><td>( i )</td>\n",
    "     </tr>\n",
    "     <tr><td bgcolor=\"#cccccc\">偏差平方和</td><td>( j )</td><td>( k )</td><td>( l )</td><td>( m )</td>\n",
    "         <td bgcolor=\"#cccccc\"></td><td bgcolor=\"#cccccc\"></td><td bgcolor=\"#cccccc\"></td><td bgcolor=\"#cccccc\"></td><td>( n )</td>\n",
    "     </tr>\n",
    "     </TABLE>"
   ]
  },
  {
   "cell_type": "code",
   "execution_count": 225,
   "metadata": {
    "collapsed": true
   },
   "outputs": [],
   "source": [
    "# 以下の４つのうち、上２つを「要因A（食感）」、下２つを「要因B（味）」と呼びます。\n",
    "a1 = a1b1 + a1b2# クリスピーのデータを作ってください。\n",
    "a2 = a2b1 + a2b2# 普通の衣のデータを作ってください。\n",
    "b1 = a1b1 + a2b1# 辛口のデータを作ってください。\n",
    "b2 = a1b2 + a2b2# 普通味のデータを作ってください。"
   ]
  },
  {
   "cell_type": "code",
   "execution_count": 226,
   "metadata": {
    "collapsed": true
   },
   "outputs": [],
   "source": [
    "all = a1 + a2"
   ]
  },
  {
   "cell_type": "code",
   "execution_count": 227,
   "metadata": {},
   "outputs": [
    {
     "data": {
      "text/plain": [
       "(79.66666666666667,\n",
       " 71.0,\n",
       " 72.66666666666667,\n",
       " 74.33333333333333,\n",
       " 75.33333333333333,\n",
       " 73.5,\n",
       " 76.16666666666667,\n",
       " 72.66666666666667,\n",
       " 74.41666666666667)"
      ]
     },
     "execution_count": 227,
     "metadata": {},
     "output_type": "execute_result"
    }
   ],
   "source": [
    "# 各項目の平均値を計算してください（上表 a, b, c, d, e, f, g, h, i ）\n",
    "a, b, c, d, e, f, g, h, i=mean(a1b1),mean(a1b2),mean(a2b1),mean(a2b2),\\\n",
    "    mean(a1),mean(a2),mean(b1),mean(b2),mean(all)\n",
    "a, b, c, d, e, f, g, h, i"
   ]
  },
  {
   "cell_type": "code",
   "execution_count": 228,
   "metadata": {},
   "outputs": [
    {
     "data": {
      "text/plain": [
       "(873.3333333333333, 760.0, 843.3333333333333, 893.3333333333333)"
      ]
     },
     "execution_count": 228,
     "metadata": {},
     "output_type": "execute_result"
    }
   ],
   "source": [
    "# 各群の偏差平方和を計算してください（上表 j, k, l, m ）\n",
    "j,k,l,m = deviation_sos(a1b1),deviation_sos(a1b2),deviation_sos(a2b1),deviation_sos(a2b2) \n",
    "j,k,l,m"
   ]
  },
  {
   "cell_type": "code",
   "execution_count": 229,
   "metadata": {},
   "outputs": [
    {
     "data": {
      "text/plain": [
       "4004.5833333333326"
      ]
     },
     "execution_count": 229,
     "metadata": {},
     "output_type": "execute_result"
    }
   ],
   "source": [
    "# 全体の偏差平方和を計算してください（上表 n ）\n",
    "n = deviation_sos(all)\n",
    "n"
   ]
  },
  {
   "cell_type": "code",
   "execution_count": 230,
   "metadata": {
    "collapsed": true
   },
   "outputs": [],
   "source": [
    "# 要因Aによる残差（偏差平方和）を計算してください （下表 o )"
   ]
  },
  {
   "cell_type": "markdown",
   "metadata": {},
   "source": [
    "要因Aによる残差（偏差平方和）を計算してください （下表 o )\n",
    "\n",
    "- 要因A（食感）による残差 ＝ (クリスピーの平均 ー 全体の平均)の２乗 ✕ クリスピーのデータ個数　＋　(普通の衣の平均 ー 全体の平均)の２乗　✕ 普通衣のデータ個数"
   ]
  },
  {
   "cell_type": "code",
   "execution_count": 231,
   "metadata": {
    "collapsed": true
   },
   "outputs": [],
   "source": [
    "def fact_diff(arr,arri,all=None):\n",
    "    if all == None:\n",
    "        all = arr + arri\n",
    "    tmp1 = (mean(arr) - mean(all)) ** 2 * len(arr)\n",
    "    tmp2 = (mean(arri) - mean(all)) ** 2 * len(arri)\n",
    "    return tmp1 + tmp2"
   ]
  },
  {
   "cell_type": "code",
   "execution_count": 232,
   "metadata": {},
   "outputs": [
    {
     "data": {
      "text/plain": [
       "50.4166666666664"
      ]
     },
     "execution_count": 232,
     "metadata": {},
     "output_type": "execute_result"
    }
   ],
   "source": [
    "o = fact_diff(a1,a2)\n",
    "o"
   ]
  },
  {
   "cell_type": "code",
   "execution_count": 233,
   "metadata": {},
   "outputs": [
    {
     "data": {
      "text/plain": [
       "183.75"
      ]
     },
     "execution_count": 233,
     "metadata": {},
     "output_type": "execute_result"
    }
   ],
   "source": [
    "# 要因Bによる残差（偏差平方和）を計算してください (下表 p )\n",
    "p = fact_diff(b1,b2)\n",
    "p"
   ]
  },
  {
   "cell_type": "code",
   "execution_count": 234,
   "metadata": {
    "collapsed": true
   },
   "outputs": [],
   "source": [
    "#arr = {[mure],[a1,a2],[b1,b2]}\n",
    "def all_diff(arr):\n",
    "    all = arr[1][0] + arr[1][1]\n",
    "    all_mu = mean(all)\n",
    "    sum = 0\n",
    "    for x in arr[0]:\n",
    "        sum += (mean(x) - all_mu) ** 2 * len(x)\n",
    "    sum -= fact_diff(arr[1][0], arr[1][1]) + fact_diff(arr[2][0],arr[2][1])\n",
    "    return sum"
   ]
  },
  {
   "cell_type": "code",
   "execution_count": 235,
   "metadata": {},
   "outputs": [
    {
     "data": {
      "text/plain": [
       "400.41666666666754"
      ]
     },
     "execution_count": 235,
     "metadata": {},
     "output_type": "execute_result"
    }
   ],
   "source": [
    "# 交互作用による残差（偏差平方和）を計算してください (下表 q )\n",
    "q = all_diff([[a1b1,a1b2,a2b1,a2b2], [a1,a2],[b1,b2]])\n",
    "q"
   ]
  },
  {
   "cell_type": "code",
   "execution_count": 236,
   "metadata": {},
   "outputs": [
    {
     "name": "stdout",
     "output_type": "stream",
     "text": [
      "1 1 1 56 59\n"
     ]
    }
   ],
   "source": [
    "s = 2 - 1\n",
    "t = 2 - 1\n",
    "u = s * t\n",
    "v = len(all) - 1\n",
    "w = v -s -t -u\n",
    "print(s,t,u,w,v)"
   ]
  },
  {
   "cell_type": "code",
   "execution_count": 237,
   "metadata": {},
   "outputs": [
    {
     "name": "stdout",
     "output_type": "stream",
     "text": [
      "3370.0\n"
     ]
    }
   ],
   "source": [
    "# 残りの残差（偏差平方和）を計算してください (下表 r )\n",
    "r = sum([deviation_sos(a1b1),deviation_sos(a1b2)\\\n",
    "         ,deviation_sos(a2b1),deviation_sos(a2b2)])\n",
    "print(r)"
   ]
  },
  {
   "cell_type": "code",
   "execution_count": 238,
   "metadata": {},
   "outputs": [
    {
     "data": {
      "text/plain": [
       "(50.4166666666664, 183.75, 400.41666666666754, 60.17857142857143)"
      ]
     },
     "execution_count": 238,
     "metadata": {},
     "output_type": "execute_result"
    }
   ],
   "source": [
    "# 要因A、要因B、交互作用、残差の平均平方をそれぞれ求めてください。(上表 x, y, z, aa )\n",
    "x = o/s\n",
    "y = p/t\n",
    "z = q/u\n",
    "aa = r/w\n",
    "x,y,z,aa"
   ]
  },
  {
   "cell_type": "code",
   "execution_count": 239,
   "metadata": {},
   "outputs": [
    {
     "data": {
      "text/plain": [
       "(0.8377843719089966, 3.0534124629080117, 6.653808110781418)"
      ]
     },
     "execution_count": 239,
     "metadata": {},
     "output_type": "execute_result"
    }
   ],
   "source": [
    "# F値を求めてください。\n",
    "bb = x/aa\n",
    "cc = y/aa\n",
    "dd = z/aa\n",
    "bb,cc,dd"
   ]
  },
  {
   "cell_type": "code",
   "execution_count": 240,
   "metadata": {
    "collapsed": true
   },
   "outputs": [],
   "source": [
    "# 以下の４つをそれぞれ「群」と呼びます。\n",
    "a1b1 = [80, 85, 75, 70, 75, 60, 70, 75, 85, 70, 75, 85, 75, 85, 90] # ピリ辛バーガー + ピリ辛ポテト\n",
    "a1b2 = [85, 65, 80, 75, 85, 65, 75, 60, 80, 70, 75, 80, 65, 85, 75] # ピリ辛バーガー + 普通のポテト\n",
    "a2b1 = [60, 70, 80, 75, 65, 60, 70, 75, 80, 65, 65, 75, 70, 85, 60] # 普通のハンバーガー + ピリ辛ポテト\n",
    "a2b2 = [55, 65, 50, 70, 50, 65, 75, 65, 75, 65, 70, 55, 65, 70, 65] # 普通のハンバーガー + 普通のポテト"
   ]
  },
  {
   "cell_type": "code",
   "execution_count": 241,
   "metadata": {
    "collapsed": true
   },
   "outputs": [],
   "source": [
    "# 以下の４つのうち、上２つを「要因１（バーガーの味）」、下２つを「要因２（ポテトの味）」と呼びます。\n",
    "a1 = a1b1 + a1b2# ピリ辛バーガーのデータを作ってください。\n",
    "a2 = a2b1 + a2b2# 普通のバーガーのデータを作ってください。\n",
    "b1 = a1b1 + a2b1# ピリ辛ポテトのデータを作ってください。\n",
    "b2 = a1b2 + a2b2# 普通のポテトのデータを作ってください。"
   ]
  },
  {
   "cell_type": "code",
   "execution_count": 242,
   "metadata": {
    "scrolled": false
   },
   "outputs": [
    {
     "data": {
      "text/plain": [
       "(77.0,\n",
       " 74.66666666666667,\n",
       " 70.33333333333333,\n",
       " 64.0,\n",
       " 75.83333333333333,\n",
       " 67.16666666666667,\n",
       " 73.66666666666667,\n",
       " 69.33333333333333,\n",
       " 74.41666666666667)"
      ]
     },
     "execution_count": 242,
     "metadata": {},
     "output_type": "execute_result"
    }
   ],
   "source": [
    "# 各項目の平均値を計算してください（上表 a, b, c, d, e, f, g, h, i ）\n",
    "a, b, c, d, e, f, g, h, i=mean(a1b1),mean(a1b2),mean(a2b1),mean(a2b2),\\\n",
    "    mean(a1),mean(a2),mean(b1),mean(b2),mean(all)\n",
    "a, b, c, d, e, f, g, h, i"
   ]
  },
  {
   "cell_type": "code",
   "execution_count": 243,
   "metadata": {},
   "outputs": [
    {
     "data": {
      "text/plain": [
       "4004.5833333333326"
      ]
     },
     "execution_count": 243,
     "metadata": {},
     "output_type": "execute_result"
    }
   ],
   "source": [
    "# 全体の偏差平方和を計算してください（上表 n ）\n",
    "n = deviation_sos(all)\n",
    "n"
   ]
  },
  {
   "cell_type": "code",
   "execution_count": 244,
   "metadata": {},
   "outputs": [
    {
     "data": {
      "text/plain": [
       "1126.6666666666642"
      ]
     },
     "execution_count": 244,
     "metadata": {},
     "output_type": "execute_result"
    }
   ],
   "source": [
    "o = fact_diff(a1,a2)\n",
    "o"
   ]
  },
  {
   "cell_type": "code",
   "execution_count": 245,
   "metadata": {},
   "outputs": [
    {
     "data": {
      "text/plain": [
       "281.6666666666679"
      ]
     },
     "execution_count": 245,
     "metadata": {},
     "output_type": "execute_result"
    }
   ],
   "source": [
    "# 要因Bによる残差（偏差平方和）を計算してください (下表 p )\n",
    "p = fact_diff(b1,b2)\n",
    "p"
   ]
  },
  {
   "cell_type": "code",
   "execution_count": 246,
   "metadata": {},
   "outputs": [
    {
     "data": {
      "text/plain": [
       "60.00000000000182"
      ]
     },
     "execution_count": 246,
     "metadata": {},
     "output_type": "execute_result"
    }
   ],
   "source": [
    "# 交互作用による残差（偏差平方和）を計算してください (下表 q )\n",
    "q = all_diff([[a1b1,a1b2,a2b1,a2b2], [a1,a2],[b1,b2]])\n",
    "q"
   ]
  },
  {
   "cell_type": "code",
   "execution_count": 247,
   "metadata": {},
   "outputs": [
    {
     "name": "stdout",
     "output_type": "stream",
     "text": [
      "1 1 1 56 59\n"
     ]
    }
   ],
   "source": [
    "s = 2 - 1\n",
    "t = 2 - 1\n",
    "u = s * t\n",
    "v = len(all) - 1\n",
    "w = v -s -t -u\n",
    "print(s,t,u,w,v)"
   ]
  },
  {
   "cell_type": "code",
   "execution_count": 248,
   "metadata": {},
   "outputs": [
    {
     "name": "stdout",
     "output_type": "stream",
     "text": [
      "3596.666666666667\n"
     ]
    }
   ],
   "source": [
    "# 残りの残差（偏差平方和）を計算してください (下表 r )\n",
    "r = sum([deviation_sos(a1b1),deviation_sos(a1b2)\\\n",
    "         ,deviation_sos(a2b1),deviation_sos(a2b2)])\n",
    "print(r)"
   ]
  },
  {
   "cell_type": "code",
   "execution_count": 249,
   "metadata": {},
   "outputs": [
    {
     "data": {
      "text/plain": [
       "(1126.6666666666642, 281.6666666666679, 60.00000000000182, 64.22619047619048)"
      ]
     },
     "execution_count": 249,
     "metadata": {},
     "output_type": "execute_result"
    }
   ],
   "source": [
    "# 要因A、要因B、交互作用、残差の平均平方をそれぞれ求めてください。(上表 x, y, z, aa )\n",
    "x = o/s\n",
    "y = p/t\n",
    "z = q/u\n",
    "aa = r/w\n",
    "x,y,z,aa"
   ]
  },
  {
   "cell_type": "code",
   "execution_count": 250,
   "metadata": {},
   "outputs": [
    {
     "data": {
      "text/plain": [
       "(17.542168674698758, 4.385542168674717, 0.9341983317887215)"
      ]
     },
     "execution_count": 250,
     "metadata": {},
     "output_type": "execute_result"
    }
   ],
   "source": [
    "# F値を求めてください。要因A、要因B、交互作用\n",
    "bb = x/aa\n",
    "cc = y/aa\n",
    "dd = z/aa\n",
    "bb,cc,dd"
   ]
  },
  {
   "cell_type": "markdown",
   "metadata": {},
   "source": [
    "5%有意水準\n",
    "- 要因A（食感）により、棄却域に入って、点数の差がある。\n",
    "- 要因B（味）により、棄却域に入って、点数の差がある。\n",
    "- 交互要因により、棄却域に入ってないので、、点数の差がない。<br>\n",
    "\n",
    "1%有意水準\n",
    "- 要因A（食感）により、棄却域に入って、点数の差がある。\n",
    "- 要因B（味）により、棄却域に入ってないので、点数の差がない。\n",
    "- 交互要因により、棄却域に入ってないので、、点数の差がない。"
   ]
  },
  {
   "cell_type": "markdown",
   "metadata": {},
   "source": [
    "<table border=\"1\" align=\"center\" cellpadding=\"2\" cellspacing=\"0\">\n",
    "  <tbody><tr> \n",
    "    <td width=\"100\" rowspan=\"2\" bgcolor=\"#CCCCCC\"> <center>\n",
    "        群内の自由度 \n",
    "      </center>\n",
    "      <div align=\"center\"></div></td>\n",
    "    <td colspan=\"5\" bgcolor=\"#dddddd\"> <center>\n",
    "        群間の自由度 \n",
    "      </center>\n",
    "      <center>\n",
    "      </center>\n",
    "      <center>\n",
    "      </center>\n",
    "      <center>\n",
    "      </center></td>\n",
    "  </tr>\n",
    "  <tr> \n",
    "    <td width=\"100\" bgcolor=\"#dddddd\"> <div align=\"center\">1</div></td>\n",
    "    <td width=\"100\" bgcolor=\"#dddddd\"> <div align=\"center\">2</div></td>\n",
    "    <td width=\"100\" bgcolor=\"#dddddd\"> <div align=\"center\">3</div></td>\n",
    "    <td width=\"100\" bgcolor=\"#dddddd\"> <div align=\"center\">4</div></td>\n",
    "    <td width=\"100\" bgcolor=\"#dddddd\"> <div align=\"center\">5</div></td>\n",
    "  </tr>\n",
    "  <tr> \n",
    "    <td bgcolor=\"#CCCCCC\"><div align=\"center\">10</div></td>\n",
    "    <td bgcolor=\"#eeeeee\"><div align=\"right\">4.96</div></td>\n",
    "    <td bgcolor=\"#eeeeee\"><div align=\"right\">4.10</div></td>\n",
    "    <td bgcolor=\"#eeeeee\"><div align=\"right\">3.71</div></td>\n",
    "    <td bgcolor=\"#eeeeee\"><div align=\"right\">3.48</div></td>\n",
    "    <td bgcolor=\"#eeeeee\"><div align=\"right\">3.33</div></td>\n",
    "  </tr>\n",
    "  <tr> \n",
    "    <td bgcolor=\"#CCCCCC\"><div align=\"center\">20</div></td>\n",
    "    <td bgcolor=\"#eeeeee\"><div align=\"right\">4.35</div></td>\n",
    "    <td bgcolor=\"#eeeeee\"><div align=\"right\">3.49</div></td>\n",
    "    <td bgcolor=\"#eeeeee\"><div align=\"right\">3.10</div></td>\n",
    "    <td bgcolor=\"#eeeeee\"><div align=\"right\">2.87</div></td>\n",
    "    <td bgcolor=\"#eeeeee\"><div align=\"right\">2.71</div></td>\n",
    "  </tr>\n",
    "  <tr> \n",
    "    <td bgcolor=\"#CCCCCC\"><div align=\"center\">30</div></td>\n",
    "    <td bgcolor=\"#eeeeee\"><div align=\"right\">4.17</div></td>\n",
    "    <td bgcolor=\"#eeeeee\"><div align=\"right\">3.32</div></td>\n",
    "    <td bgcolor=\"#eeeeee\"><div align=\"right\">2.92</div></td>\n",
    "    <td bgcolor=\"#eeeeee\"><div align=\"right\">2.69</div></td>\n",
    "    <td bgcolor=\"#eeeeee\"><div align=\"right\">2.53</div></td>\n",
    "  </tr>\n",
    "  <tr> \n",
    "    <td bgcolor=\"#CCCCCC\"><div align=\"center\">40</div></td>\n",
    "    <td bgcolor=\"#eeeeee\"><div align=\"right\">4.08</div></td>\n",
    "    <td bgcolor=\"#eeeeee\"><div align=\"right\">3.23</div></td>\n",
    "    <td bgcolor=\"#eeeeee\"><div align=\"right\">2.84</div></td>\n",
    "    <td bgcolor=\"#eeeeee\"><div align=\"right\">2.61</div></td>\n",
    "    <td bgcolor=\"#eeeeee\"><div align=\"right\">2.45</div></td>\n",
    "  </tr>\n",
    "  <tr> \n",
    "    <td bgcolor=\"#CCCCCC\"><div align=\"center\">50</div></td>\n",
    "    <td bgcolor=\"#eeeeee\"><div align=\"right\">4.03</div></td>\n",
    "    <td bgcolor=\"#eeeeee\"><div align=\"right\">3.18</div></td>\n",
    "    <td bgcolor=\"#eeeeee\"><div align=\"right\">2.79</div></td>\n",
    "    <td bgcolor=\"#eeeeee\"><div align=\"right\">2.56</div></td>\n",
    "    <td bgcolor=\"#eeeeee\"><div align=\"right\">2.40</div></td>\n",
    "  </tr>\n",
    "  <tr> \n",
    "    <td bgcolor=\"#CCCCCC\"><div align=\"center\">60</div></td>\n",
    "    <td bgcolor=\"#eeeeee\"><div align=\"right\">4.00</div></td>\n",
    "    <td bgcolor=\"#eeeeee\"><div align=\"right\">3.15</div></td>\n",
    "    <td bgcolor=\"#eeeeee\"><div align=\"right\">2.76</div></td>\n",
    "    <td bgcolor=\"#eeeeee\"><div align=\"right\">2.53</div></td>\n",
    "    <td bgcolor=\"#eeeeee\"><div align=\"right\">2.37</div></td>\n",
    "  </tr>\n",
    "  <tr> \n",
    "    <td bgcolor=\"#CCCCCC\"><div align=\"center\">70</div></td>\n",
    "    <td bgcolor=\"#eeeeee\"><div align=\"right\">3.98</div></td>\n",
    "    <td bgcolor=\"#eeeeee\"><div align=\"right\">3.13</div></td>\n",
    "    <td bgcolor=\"#eeeeee\"><div align=\"right\">2.74</div></td>\n",
    "    <td bgcolor=\"#eeeeee\"><div align=\"right\">2.50</div></td>\n",
    "    <td bgcolor=\"#eeeeee\"><div align=\"right\">2.35</div></td>\n",
    "  </tr>\n",
    "  <tr> \n",
    "    <td bgcolor=\"#CCCCCC\"><div align=\"center\">80</div></td>\n",
    "    <td bgcolor=\"#eeeeee\"><div align=\"right\">3.96</div></td>\n",
    "    <td bgcolor=\"#eeeeee\"><div align=\"right\">3.11</div></td>\n",
    "    <td bgcolor=\"#eeeeee\"><div align=\"right\">2.72</div></td>\n",
    "    <td bgcolor=\"#eeeeee\"><div align=\"right\">2.49</div></td>\n",
    "    <td bgcolor=\"#eeeeee\"><div align=\"right\">2.33</div></td>\n",
    "  </tr>\n",
    "  <tr> \n",
    "    <td bgcolor=\"#CCCCCC\"><div align=\"center\">90</div></td>\n",
    "    <td bgcolor=\"#eeeeee\"><div align=\"right\">3.95</div></td>\n",
    "    <td bgcolor=\"#eeeeee\"><div align=\"right\">3.10</div></td>\n",
    "    <td bgcolor=\"#eeeeee\"><div align=\"right\">2.71</div></td>\n",
    "    <td bgcolor=\"#eeeeee\"><div align=\"right\">2.47</div></td>\n",
    "    <td bgcolor=\"#eeeeee\"><div align=\"right\">2.32</div></td>\n",
    "  </tr>\n",
    "  <tr> \n",
    "    <td bgcolor=\"#CCCCCC\"><div align=\"center\">100</div></td>\n",
    "    <td bgcolor=\"#eeeeee\"><div align=\"right\">3.94</div></td>\n",
    "    <td bgcolor=\"#eeeeee\"><div align=\"right\">3.09</div></td>\n",
    "    <td bgcolor=\"#eeeeee\"><div align=\"right\">2.70</div></td>\n",
    "    <td bgcolor=\"#eeeeee\"><div align=\"right\">2.46</div></td>\n",
    "    <td bgcolor=\"#eeeeee\"><div align=\"right\">2.31</div></td>\n",
    "  </tr>\n",
    "  <tr> \n",
    "    <td bgcolor=\"#CCCCCC\"><div align=\"center\">200</div></td>\n",
    "    <td bgcolor=\"#eeeeee\"><div align=\"right\">3.89</div></td>\n",
    "    <td bgcolor=\"#eeeeee\"><div align=\"right\">3.04</div></td>\n",
    "    <td bgcolor=\"#eeeeee\"><div align=\"right\">2.65</div></td>\n",
    "    <td bgcolor=\"#eeeeee\"><div align=\"right\">2.42</div></td>\n",
    "    <td bgcolor=\"#eeeeee\"><div align=\"right\">2.26</div></td>\n",
    "  </tr>\n",
    "  <tr> \n",
    "    <td bgcolor=\"#CCCCCC\"><div align=\"center\">300</div></td>\n",
    "    <td bgcolor=\"#eeeeee\"><div align=\"right\">3.87</div></td>\n",
    "    <td bgcolor=\"#eeeeee\"><div align=\"right\">3.03</div></td>\n",
    "    <td bgcolor=\"#eeeeee\"><div align=\"right\">2.63</div></td>\n",
    "    <td bgcolor=\"#eeeeee\"><div align=\"right\">2.40</div></td>\n",
    "    <td bgcolor=\"#eeeeee\"><div align=\"right\">2.24</div></td>\n",
    "  </tr>\n",
    "</tbody></table>"
   ]
  },
  {
   "cell_type": "markdown",
   "metadata": {},
   "source": [
    "<table border=\"1\" align=\"center\" cellpadding=\"2\" cellspacing=\"0\">\n",
    "  <tbody><tr> \n",
    "    <td width=\"100\" rowspan=\"2\" bgcolor=\"#bCCCCC\"> \n",
    "      <center>\n",
    "        群内の自由度 \n",
    "      </center>\n",
    "      <div align=\"center\"></div></td>\n",
    "    <td colspan=\"5\" bgcolor=\"#bddddd\"> \n",
    "      <center>\n",
    "        群間の自由度 \n",
    "      </center>\n",
    "      <center>\n",
    "      </center>\n",
    "      <center>\n",
    "      </center>\n",
    "      <center>\n",
    "      </center></td>\n",
    "  </tr>\n",
    "  <tr> \n",
    "    <td width=\"100\" bgcolor=\"#bddddd\"> \n",
    "      <div align=\"center\">1</div></td>\n",
    "    <td width=\"100\" bgcolor=\"#bddddd\"> \n",
    "      <div align=\"center\">2</div></td>\n",
    "    <td width=\"100\" bgcolor=\"#bddddd\"> \n",
    "      <div align=\"center\">3</div></td>\n",
    "    <td width=\"100\" bgcolor=\"#bddddd\"> \n",
    "      <div align=\"center\">4</div></td>\n",
    "    <td width=\"100\" bgcolor=\"#bddddd\"> \n",
    "      <div align=\"center\">5</div></td>\n",
    "  </tr>\n",
    "  <tr> \n",
    "    <td bgcolor=\"#bCCCCC\"> \n",
    "      <div align=\"center\">10</div></td>\n",
    "    <td bgcolor=\"#eeeeee\"><div align=\"right\">10.04</div></td>\n",
    "    <td bgcolor=\"#eeeeee\"><div align=\"right\">7.56</div></td>\n",
    "    <td bgcolor=\"#eeeeee\"><div align=\"right\">6.55</div></td>\n",
    "    <td bgcolor=\"#eeeeee\"><div align=\"right\">5.99</div></td>\n",
    "    <td bgcolor=\"#eeeeee\"><div align=\"right\">5.64</div></td>\n",
    "  </tr>\n",
    "  <tr> \n",
    "    <td bgcolor=\"#bCCCCC\"> \n",
    "      <div align=\"center\">20</div></td>\n",
    "    <td bgcolor=\"#eeeeee\"><div align=\"right\">8.10</div></td>\n",
    "    <td bgcolor=\"#eeeeee\"><div align=\"right\">5.85</div></td>\n",
    "    <td bgcolor=\"#eeeeee\"><div align=\"right\">4.94</div></td>\n",
    "    <td bgcolor=\"#eeeeee\"><div align=\"right\">4.43</div></td>\n",
    "    <td bgcolor=\"#eeeeee\"><div align=\"right\">4.10</div></td>\n",
    "  </tr>\n",
    "  <tr> \n",
    "    <td bgcolor=\"#bCCCCC\"> \n",
    "      <div align=\"center\">30</div></td>\n",
    "    <td bgcolor=\"#eeeeee\"><div align=\"right\">7.56</div></td>\n",
    "    <td bgcolor=\"#eeeeee\"><div align=\"right\">5.39</div></td>\n",
    "    <td bgcolor=\"#eeeeee\"><div align=\"right\">4.51</div></td>\n",
    "    <td bgcolor=\"#eeeeee\"><div align=\"right\">4.02</div></td>\n",
    "    <td bgcolor=\"#eeeeee\"><div align=\"right\">3.70</div></td>\n",
    "  </tr>\n",
    "  <tr> \n",
    "    <td bgcolor=\"#bCCCCC\"> \n",
    "      <div align=\"center\">40</div></td>\n",
    "    <td bgcolor=\"#eeeeee\"><div align=\"right\">7.31</div></td>\n",
    "    <td bgcolor=\"#eeeeee\"><div align=\"right\">5.18</div></td>\n",
    "    <td bgcolor=\"#eeeeee\"><div align=\"right\">4.31</div></td>\n",
    "    <td bgcolor=\"#eeeeee\"><div align=\"right\">3.83</div></td>\n",
    "    <td bgcolor=\"#eeeeee\"><div align=\"right\">3.51</div></td>\n",
    "  </tr>\n",
    "  <tr> \n",
    "    <td bgcolor=\"#bCCCCC\"> \n",
    "      <div align=\"center\">50</div></td>\n",
    "    <td bgcolor=\"#eeeeee\"><div align=\"right\">7.17</div></td>\n",
    "    <td bgcolor=\"#eeeeee\"><div align=\"right\">5.06</div></td>\n",
    "    <td bgcolor=\"#eeeeee\"><div align=\"right\">4.20</div></td>\n",
    "    <td bgcolor=\"#eeeeee\"><div align=\"right\">3.72</div></td>\n",
    "    <td bgcolor=\"#eeeeee\"><div align=\"right\">3.41</div></td>\n",
    "  </tr>\n",
    "  <tr> \n",
    "    <td bgcolor=\"#bCCCCC\"> \n",
    "      <div align=\"center\">60</div></td>\n",
    "    <td bgcolor=\"#eeeeee\"><div align=\"right\">7.08</div></td>\n",
    "    <td bgcolor=\"#eeeeee\"><div align=\"right\">4.98</div></td>\n",
    "    <td bgcolor=\"#eeeeee\"><div align=\"right\">4.13</div></td>\n",
    "    <td bgcolor=\"#eeeeee\"><div align=\"right\">3.65</div></td>\n",
    "    <td bgcolor=\"#eeeeee\"><div align=\"right\">3.34</div></td>\n",
    "  </tr>\n",
    "  <tr> \n",
    "    <td bgcolor=\"#bCCCCC\"> \n",
    "      <div align=\"center\">70</div></td>\n",
    "    <td bgcolor=\"#eeeeee\"><div align=\"right\">7.01</div></td>\n",
    "    <td bgcolor=\"#eeeeee\"><div align=\"right\">4.92</div></td>\n",
    "    <td bgcolor=\"#eeeeee\"><div align=\"right\">4.07</div></td>\n",
    "    <td bgcolor=\"#eeeeee\"><div align=\"right\">3.60</div></td>\n",
    "    <td bgcolor=\"#eeeeee\"><div align=\"right\">3.29</div></td>\n",
    "  </tr>\n",
    "  <tr> \n",
    "    <td bgcolor=\"#bCCCCC\"> \n",
    "      <div align=\"center\">80</div></td>\n",
    "    <td bgcolor=\"#eeeeee\"><div align=\"right\">6.96</div></td>\n",
    "    <td bgcolor=\"#eeeeee\"><div align=\"right\">4.88</div></td>\n",
    "    <td bgcolor=\"#eeeeee\"><div align=\"right\">4.04</div></td>\n",
    "    <td bgcolor=\"#eeeeee\"><div align=\"right\">3.56</div></td>\n",
    "    <td bgcolor=\"#eeeeee\"><div align=\"right\">3.26</div></td>\n",
    "  </tr>\n",
    "  <tr> \n",
    "    <td bgcolor=\"#bCCCCC\"> \n",
    "      <div align=\"center\">90</div></td>\n",
    "    <td bgcolor=\"#eeeeee\"><div align=\"right\">6.93</div></td>\n",
    "    <td bgcolor=\"#eeeeee\"><div align=\"right\">4.85</div></td>\n",
    "    <td bgcolor=\"#eeeeee\"><div align=\"right\">4.01</div></td>\n",
    "    <td bgcolor=\"#eeeeee\"><div align=\"right\">3.53</div></td>\n",
    "    <td bgcolor=\"#eeeeee\"><div align=\"right\">3.23</div></td>\n",
    "  </tr>\n",
    "  <tr> \n",
    "    <td bgcolor=\"#bCCCCC\"> \n",
    "      <div align=\"center\">100</div></td>\n",
    "    <td bgcolor=\"#eeeeee\"><div align=\"right\">6.90</div></td>\n",
    "    <td bgcolor=\"#eeeeee\"><div align=\"right\">4.82</div></td>\n",
    "    <td bgcolor=\"#eeeeee\"><div align=\"right\">3.98</div></td>\n",
    "    <td bgcolor=\"#eeeeee\"><div align=\"right\">3.51</div></td>\n",
    "    <td bgcolor=\"#eeeeee\"><div align=\"right\">3.21</div></td>\n",
    "  </tr>\n",
    "  <tr> \n",
    "    <td bgcolor=\"#bCCCCC\"> \n",
    "      <div align=\"center\">200</div></td>\n",
    "    <td bgcolor=\"#eeeeee\"><div align=\"right\">6.76</div></td>\n",
    "    <td bgcolor=\"#eeeeee\"><div align=\"right\">4.71</div></td>\n",
    "    <td bgcolor=\"#eeeeee\"><div align=\"right\">3.88</div></td>\n",
    "    <td bgcolor=\"#eeeeee\"><div align=\"right\">3.41</div></td>\n",
    "    <td bgcolor=\"#eeeeee\"><div align=\"right\">3.11</div></td>\n",
    "  </tr>\n",
    "  <tr> \n",
    "    <td bgcolor=\"#bCCCCC\"> \n",
    "      <div align=\"center\">300</div></td>\n",
    "    <td bgcolor=\"#eeeeee\"><div align=\"right\">6.72</div></td>\n",
    "    <td bgcolor=\"#eeeeee\"><div align=\"right\">4.68</div></td>\n",
    "    <td bgcolor=\"#eeeeee\"><div align=\"right\">3.85</div></td>\n",
    "    <td bgcolor=\"#eeeeee\"><div align=\"right\">3.38</div></td>\n",
    "    <td bgcolor=\"#eeeeee\"><div align=\"right\">3.08</div></td>\n",
    "  </tr>\n",
    "</tbody></table>"
   ]
  },
  {
   "cell_type": "code",
   "execution_count": null,
   "metadata": {
    "collapsed": true
   },
   "outputs": [],
   "source": []
  }
 ],
 "metadata": {
  "kernelspec": {
   "display_name": "Python [conda env:chatbot]",
   "language": "python",
   "name": "conda-env-chatbot-py"
  },
  "language_info": {
   "codemirror_mode": {
    "name": "ipython",
    "version": 3
   },
   "file_extension": ".py",
   "mimetype": "text/x-python",
   "name": "python",
   "nbconvert_exporter": "python",
   "pygments_lexer": "ipython3",
   "version": "3.5.3"
  }
 },
 "nbformat": 4,
 "nbformat_minor": 2
}
