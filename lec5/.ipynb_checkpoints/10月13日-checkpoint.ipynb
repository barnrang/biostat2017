{
 "cells": [
  {
   "cell_type": "code",
   "execution_count": 2,
   "metadata": {
    "collapsed": true
   },
   "outputs": [],
   "source": [
    "import urllib.request\n",
    "import math as mt\n",
    "import matplotlib.pyplot as plt\n",
    "import numpy as np\n",
    "%matplotlib inline"
   ]
  },
  {
   "cell_type": "code",
   "execution_count": 1,
   "metadata": {
    "collapsed": true
   },
   "outputs": [],
   "source": [
    "def average(arr):\n",
    "    sum = 0\n",
    "    for el in arr:\n",
    "        sum += el\n",
    "    return sum/len(arr)\n",
    "\n",
    "def var(arr,sample = False):\n",
    "    var_sum = 0\n",
    "    mean = average(arr)\n",
    "    for el in arr:\n",
    "        var_sum += (el - mean) ** 2\n",
    "    divisor = len(arr)\n",
    "    if sample:\n",
    "        divisor -= 1 #不偏\n",
    "    return var_sum/divisor\n",
    "\n",
    "def sd(arr, sample = False):\n",
    "    return mt.sqrt(var(arr, sample))\n",
    "\n",
    "def  stanerr(arr):\n",
    "    return sd(arr, True)/mt.sqrt(len(arr))\n",
    "\n",
    "def sos(arr):\n",
    "    return var(arr) * len(arr)"
   ]
  },
  {
   "cell_type": "code",
   "execution_count": 8,
   "metadata": {
    "collapsed": true
   },
   "outputs": [],
   "source": [
    "#課題6.1\n",
    "wakuwaku = [80, 75, 80, 90, 95, 80, 80, 85, 85, 80, 90, 80, 75, 90, 85, 85, 90, 90, 85, 80]\n",
    "mogumogu = [75, 70, 80, 85, 90, 75, 85, 80, 80, 75, 80, 75, 70, 85, 80, 75, 80, 80, 90, 80]\n",
    "pakupaku = [80, 80, 80, 90, 95, 85, 95, 90, 85, 90, 95, 85, 98, 95, 85, 85, 90, 90, 85, 85]"
   ]
  },
  {
   "cell_type": "code",
   "execution_count": 9,
   "metadata": {},
   "outputs": [
    {
     "data": {
      "text/plain": [
       "(84.0, 79.5, 88.15)"
      ]
     },
     "execution_count": 9,
     "metadata": {},
     "output_type": "execute_result"
    }
   ],
   "source": [
    "average(wakuwaku), average(mogumogu), average(pakupaku)"
   ]
  },
  {
   "cell_type": "code",
   "execution_count": 10,
   "metadata": {},
   "outputs": [
    {
     "data": {
      "text/plain": [
       "(5.385164807134504, 5.454356057317857, 5.341114115987412)"
      ]
     },
     "execution_count": 10,
     "metadata": {},
     "output_type": "execute_result"
    }
   ],
   "source": [
    "sd(wakuwaku), sd(mogumogu), sd(pakupaku)"
   ]
  },
  {
   "cell_type": "code",
   "execution_count": 11,
   "metadata": {},
   "outputs": [
    {
     "data": {
      "text/plain": [
       "(83.88333333333334, 6.447458586313078)"
      ]
     },
     "execution_count": 11,
     "metadata": {},
     "output_type": "execute_result"
    }
   ],
   "source": [
    "average(wakuwaku + mogumogu + pakupaku), sd(wakuwaku + mogumogu + pakupaku)"
   ]
  },
  {
   "cell_type": "code",
   "execution_count": null,
   "metadata": {
    "collapsed": true
   },
   "outputs": [],
   "source": [
    "# 対立仮説"
   ]
  },
  {
   "cell_type": "code",
   "execution_count": 12,
   "metadata": {
    "collapsed": true
   },
   "outputs": [],
   "source": [
    "#課題6.2\n",
    "wakuwaku = [80, 75, 80, 90, 95, 80, 80, 85, 85, 80, 90, 80, 75, 90, 85, 85, 90, 90, 85, 80]\n",
    "mogumogu = [75, 70, 80, 85, 90, 75, 85, 80, 80, 75, 80, 75, 70, 85, 80, 75, 80, 80, 90, 80]\n",
    "pakupaku = [80, 80, 80, 90, 95, 85, 95, 90, 85, 90, 95, 85, 98, 95, 85, 85, 90, 90, 85, 85]"
   ]
  },
  {
   "cell_type": "code",
   "execution_count": 13,
   "metadata": {
    "scrolled": true
   },
   "outputs": [
    {
     "data": {
      "text/plain": [
       "(84.0, 79.5, 88.15)"
      ]
     },
     "execution_count": 13,
     "metadata": {},
     "output_type": "execute_result"
    }
   ],
   "source": [
    "average(wakuwaku), average(mogumogu), average(pakupaku)"
   ]
  },
  {
   "cell_type": "code",
   "execution_count": 14,
   "metadata": {},
   "outputs": [
    {
     "data": {
      "text/plain": [
       "83.88333333333334"
      ]
     },
     "execution_count": 14,
     "metadata": {},
     "output_type": "execute_result"
    }
   ],
   "source": [
    "average(wakuwaku + mogumogu + pakupaku)"
   ]
  },
  {
   "cell_type": "code",
   "execution_count": 16,
   "metadata": {
    "collapsed": true
   },
   "outputs": [],
   "source": [
    "def deviation_sos(arr):\n",
    "    av = average(arr)\n",
    "    sum = 0\n",
    "    for x in arr:\n",
    "        sum += (av - x) ** 2\n",
    "    return sum"
   ]
  },
  {
   "cell_type": "code",
   "execution_count": 17,
   "metadata": {},
   "outputs": [
    {
     "data": {
      "text/plain": [
       "580.0"
      ]
     },
     "execution_count": 17,
     "metadata": {},
     "output_type": "execute_result"
    }
   ],
   "source": [
    "deviation_sos(wakuwaku), deviation_sos(mogumogu), deviation_sos(pakupaku)"
   ]
  },
  {
   "cell_type": "code",
   "execution_count": 5,
   "metadata": {
    "collapsed": true
   },
   "outputs": [],
   "source": [
    "#課題6.3\n",
    "wakuwaku = [90, 70, 75, 90, 65, 70, 80, 85, 75, 75, 85, 75, 80, 90, 80]\n",
    "mogumogu = [75, 95, 75, 80, 75, 85, 75, 85, 80, 65, 90, 75, 90, 75, 85]\n",
    "pakupaku = [65, 60, 75, 80, 65, 60, 70, 85, 70, 75, 75, 70, 80, 75, 80]"
   ]
  },
  {
   "cell_type": "code",
   "execution_count": null,
   "metadata": {
    "collapsed": true
   },
   "outputs": [],
   "source": []
  }
 ],
 "metadata": {
  "kernelspec": {
   "display_name": "Python [conda env:chatbot]",
   "language": "python",
   "name": "conda-env-chatbot-py"
  },
  "language_info": {
   "codemirror_mode": {
    "name": "ipython",
    "version": 3
   },
   "file_extension": ".py",
   "mimetype": "text/x-python",
   "name": "python",
   "nbconvert_exporter": "python",
   "pygments_lexer": "ipython3",
   "version": "3.5.3"
  }
 },
 "nbformat": 4,
 "nbformat_minor": 2
}
