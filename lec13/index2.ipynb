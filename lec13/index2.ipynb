{
 "cells": [
  {
   "cell_type": "markdown",
   "metadata": {},
   "source": [
    "<h2 STYLE=\"background: #c2edff;padding: 0.5em;\">生命統計学 期末試験 練習問題</h2>\n",
    "\n",
    "今日は友達と話し合っても構いませんが、本番では厳禁ですよ。\n",
    "\n",
    "__問題1__から __問題9__ までの全課題を解いて、指定のメールアドレスまでメールしてください。メール送信後は、エラーが帰ってきてないことを確認してください（メールアドレスを間違える人がときどき居ます）。\n",
    "* 締切：11月14日18時20分（メール提出が1分でも遅れると減点対象となります）\n",
    "* メールタイトル：「練習問題」\n",
    "* 学籍番号と氏名を明記すること。\n",
    "* 感想などがあれば書いてくれると嬉しいです。今後の講義の改善につながるかも知れません。"
   ]
  },
  {
   "cell_type": "markdown",
   "metadata": {
    "collapsed": true
   },
   "source": [
    "<h1 STYLE=\"background: #c2edff;padding: 0.5em;\">ハンバーガー統計学</h1>"
   ]
  },
  {
   "cell_type": "markdown",
   "metadata": {},
   "source": [
    "<h4 style=\"padding: 0.25em 0.5em;color: #494949;background: transparent;border-left: solid 5px #7db4e6;\">問題1</h4>\n",
    "\n",
    "<P>ある小学校の桜組と桃組とで、国語と算数ではどちらが好きかというアンケートをおこなった。桜組の担任は、大学で国語を専門とした先生で、一方、桃組の担任は数学を専門とした先生であった。このアンケートをおこなった理由は、担任の先生の専門が、担当クラスの子どもの科目の好みにはたして影響するかということを知りたかったのである。</P>\n",
    "<p> データは次のようになった。これをカイ２乗検定によって分析したい。</p>\n",
    "<table width=\"50%\" border=\"1\" align=\"center\" cellpadding=\"1\" cellspacing=\"0\">\n",
    "  <tr bgcolor=\"#FFFF99\"> \n",
    "    <td> <div align=\"center\"></div></td>\n",
    "    <td> <div align=\"center\">桜組</div></td>\n",
    "    <td> <div align=\"center\">桃組</div></td>\n",
    "    <td bgcolor=\"#CCCCCC\"> <div align=\"center\">合計</div></td>\n",
    "  </tr>\n",
    "  <tr> \n",
    "    <td bgcolor=\"#FFFF99\"> <div align=\"center\">国語が好き</div></td>\n",
    "    <td><div align=\"center\">24</div></td>\n",
    "    <td><div align=\"center\">18</div></td>\n",
    "    <td bgcolor=\"#CCCCCC\"> <div align=\"center\">42</div></td>\n",
    "  </tr>\n",
    "  <tr> \n",
    "    <td bgcolor=\"#FFFF99\"> <div align=\"center\">算数が好き</div></td>\n",
    "    <td><div align=\"center\">8</div></td>\n",
    "    <td><div align=\"center\">18</div></td>\n",
    "    <td bgcolor=\"#CCCCCC\"> <div align=\"center\">26</div></td>\n",
    "  </tr>\n",
    "  <tr bgcolor=\"#CCCCCC\"> \n",
    "    <td> <div align=\"center\">合計</div></td>\n",
    "    <td> <div align=\"center\">32</div></td>\n",
    "    <td> <div align=\"center\">36</div></td>\n",
    "    <td bgcolor=\"#CCCCCC\"> <div align=\"center\">68</div></td>\n",
    "  </tr>\n",
    "</table>\n",
    "<p>&nbsp;</p>\n",
    "<p>(1)　この検定での帰無仮説を言いなさい。</p>\n",
    "<p>(2)　この検定での対立仮説を言いなさい。</p>\n",
    "<p>(3)　帰無仮説が成立するときの期待度数を求めなさい。</p>\n",
    "<p>(4)　カイ２乗値を求めなさい（小数点以下第3位を四捨五入）。</p>\n",
    "<p>(5)　有意水準を1%としたとき、このカイ２乗値から言えることを書きなさい。</p>\n",
    "\n",
    "分からない人は <a href=\"HamburgerStatistics03.ipynb\">ハンバーガー統計学第３章「カイ２乗検定」</a>を復習してください。"
   ]
  },
  {
   "cell_type": "code",
   "execution_count": null,
   "metadata": {
    "collapsed": true
   },
   "outputs": [],
   "source": [
    "#1 先生はクラスの子供の好みに影響はない\n",
    "#2 先生はクラスの子供の好みに影響はある"
   ]
  },
  {
   "cell_type": "code",
   "execution_count": 1,
   "metadata": {
    "collapsed": false
   },
   "outputs": [
    {
     "name": "stdout",
     "output_type": "stream",
     "text": [
      "chi2 値は 4.48351648352\n",
      "p 値は 0.106271489049\n",
      "有意水準 0.05 で、有意な差がありません\n"
     ]
    }
   ],
   "source": [
    "from scipy import stats\n",
    "significance = 0.05 # 有意水準\n",
    "observed = [[24,18], [8, 18]] # 実測値（観測度数）\n",
    "expected = stats.contingency.expected_freq(observed) # 理論値（期待度数）\n",
    "o = [item for sublist in observed for item in sublist] # 平滑化した実測値（観測度数）\n",
    "e = [item for sublist in expected for item in sublist] # 平滑化した理論値（期待度数）\n",
    "dof = (len(observed) - 1) * (len(observed[0]) - 1) # 自由度\n",
    "\n",
    "chi2, p = stats.chisquare(o, f_exp = e, ddof = dof)\n",
    "\n",
    "print( \"chi2 値は %(chi2)s\" %locals() )\n",
    "print( \"p 値は %(p)s\" %locals() )\n",
    "\n",
    "if p < significance:\n",
    "    print(\"有意水準 %(significance)s で、有意な差があります\" %locals())\n",
    "else:\n",
    "    print(\"有意水準 %(significance)s で、有意な差がありません\" %locals())"
   ]
  },
  {
   "cell_type": "code",
   "execution_count": 18,
   "metadata": {
    "collapsed": true
   },
   "outputs": [],
   "source": [
    "import numpy as np\n",
    "d = 42/68\n",
    "jissai = [[24,18],[8,18]]\n",
    "all = [32,36]\n",
    "wariai = [[d*all[0],d*all[1]],[(1-d)*all[0],(1-d)*all[1]]]"
   ]
  },
  {
   "cell_type": "code",
   "execution_count": 19,
   "metadata": {
    "collapsed": false,
    "scrolled": true
   },
   "outputs": [],
   "source": [
    "kitaido = wariai"
   ]
  },
  {
   "cell_type": "code",
   "execution_count": 20,
   "metadata": {
    "collapsed": false,
    "scrolled": true
   },
   "outputs": [
    {
     "data": {
      "text/plain": [
       "[[19.764705882352942, 22.235294117647058],\n",
       " [12.235294117647058, 13.76470588235294]]"
      ]
     },
     "execution_count": 20,
     "metadata": {},
     "output_type": "execute_result"
    }
   ],
   "source": [
    "kitaido"
   ]
  },
  {
   "cell_type": "code",
   "execution_count": 21,
   "metadata": {
    "collapsed": true
   },
   "outputs": [],
   "source": [
    "sum = 0\n",
    "for i in range(2):\n",
    "    for j in range(2):\n",
    "        sum += ((jissai[i][j] - wariai[i][j]) ** 2)/wariai[i][j]\n",
    "    "
   ]
  },
  {
   "cell_type": "code",
   "execution_count": 23,
   "metadata": {
    "collapsed": false,
    "scrolled": true
   },
   "outputs": [
    {
     "name": "stdout",
     "output_type": "stream",
     "text": [
      "%f.03 4.483516483516484\n"
     ]
    }
   ],
   "source": [
    "print('{}'.format(sum))"
   ]
  },
  {
   "cell_type": "code",
   "execution_count": 11,
   "metadata": {
    "collapsed": false
   },
   "outputs": [
    {
     "data": {
      "text/plain": [
       "1"
      ]
     },
     "execution_count": 11,
     "metadata": {},
     "output_type": "execute_result"
    }
   ],
   "source": [
    "jiyu = (2-1)*(2-1)\n",
    "jiyu"
   ]
  },
  {
   "cell_type": "code",
   "execution_count": null,
   "metadata": {
    "collapsed": true
   },
   "outputs": [],
   "source": [
    "#棄却域に入ってないので、帰無仮説を棄却しないで「影響はない」とまとめます。"
   ]
  },
  {
   "cell_type": "markdown",
   "metadata": {},
   "source": [
    "<h4 style=\"padding: 0.25em 0.5em;color: #494949;background: transparent;border-left: solid 5px #7db4e6;\">問題2</h4>\n",
    "\n",
    "<P>ある小学校で、算数の分数の計算を教えるためのマンガを使った新しい方法を開発した。はたしてこの方法に効果があるのかどうかを確かめたい。そこで、桜組では従来通りの教え方をし、一方、桃組では新しい教え方をした。その後に、共通のテストをおこなった。</P>\n",
    "<p> テストの点数データ（10点満点）は次のようになった。これをt検定によって分析したい。</p>\n",
    "<p>桜組18人の点数：</p>\n",
    "<table width=\"80%\" border=\"1\" align=\"center\" cellpadding=\"1\" cellspacing=\"0\">\n",
    "  <tr bgcolor=\"#CCCCCC\"> \n",
    "    <td width=\"5%\"> <div align=\"center\">7</div></td>\n",
    "    <td width=\"5%\"> <div align=\"center\">8</div></td>\n",
    "    <td width=\"5%\"> <div align=\"center\">10</div></td>\n",
    "    <td width=\"5%\"> <div align=\"center\">5</div></td>\n",
    "    <td width=\"5%\"><div align=\"center\">8</div></td>\n",
    "    <td width=\"5%\"><div align=\"center\">7</div></td>\n",
    "    <td width=\"5%\"><div align=\"center\">9</div></td>\n",
    "    <td width=\"5%\"><div align=\"center\">5</div></td>\n",
    "    <td width=\"5%\"><div align=\"center\">6</div></td>\n",
    "    <td width=\"5%\"><div align=\"center\">9</div></td>\n",
    "    <td width=\"5%\"><div align=\"center\">10</div></td>\n",
    "    <td width=\"5%\"><div align=\"center\">6</div></td>\n",
    "    <td width=\"5%\"><div align=\"center\">7</div></td>\n",
    "    <td width=\"5%\"><div align=\"center\">8</div></td>\n",
    "    <td width=\"5%\"><div align=\"center\">7</div></td>\n",
    "    <td width=\"5%\"><div align=\"center\">9</div></td>\n",
    "    <td width=\"5%\"><div align=\"center\">10</div></td>\n",
    "    <td width=\"5%\"><div align=\"center\">6</div></td>\n",
    "    <td width=\"5%\"><div align=\"center\"></div></td>\n",
    "    <td width=\"5%\"><div align=\"center\"></div></td>\n",
    "  </tr>\n",
    "</table>\n",
    "<p>桃組20人の点数：</p>\n",
    "<table width=\"80%\" border=\"1\" align=\"center\" cellpadding=\"1\" cellspacing=\"0\">\n",
    "  <tr bgcolor=\"#CCCCCC\"> \n",
    "    <td width=\"5%\"> <div align=\"center\">9</div></td>\n",
    "    <td width=\"5%\"> <div align=\"center\">9</div></td>\n",
    "    <td width=\"5%\"> <div align=\"center\">6</div></td>\n",
    "    <td width=\"5%\"> <div align=\"center\">10</div></td>\n",
    "    <td width=\"5%\"><div align=\"center\">9</div></td>\n",
    "    <td width=\"5%\"><div align=\"center\">8</div></td>\n",
    "    <td width=\"5%\"><div align=\"center\">10</div></td>\n",
    "    <td width=\"5%\"><div align=\"center\">7</div></td>\n",
    "    <td width=\"5%\"><div align=\"center\">9</div></td>\n",
    "    <td width=\"5%\"><div align=\"center\">10</div></td>\n",
    "    <td width=\"5%\"><div align=\"center\">6</div></td>\n",
    "    <td width=\"5%\"><div align=\"center\">8</div></td>\n",
    "    <td width=\"5%\"><div align=\"center\">9</div></td>\n",
    "    <td width=\"5%\"><div align=\"center\">9</div></td>\n",
    "    <td width=\"5%\"><div align=\"center\">10</div></td>\n",
    "    <td width=\"5%\"><div align=\"center\">7</div></td>\n",
    "    <td width=\"5%\"><div align=\"center\">8</div></td>\n",
    "    <td width=\"5%\"><div align=\"center\">8</div></td>\n",
    "    <td width=\"5%\"><div align=\"center\">10</div></td>\n",
    "    <td width=\"5%\"><div align=\"center\">9</div></td>\n",
    "  </tr>\n",
    "</table>\n",
    "<p>&nbsp;</p>\n",
    "<p>(1)　この検定での帰無仮説を言いなさい。</p>\n",
    "<p>(2)　この検定での対立仮説を言いなさい。</p>\n",
    "<p>(3)　t値を求めなさい（小数点以下第3位を四捨五入）。</p>\n",
    "<p>(4)　有意水準を1%としたとき、このt値から言えることを書きなさい。</p>\n",
    "\n",
    "分からない人は <a href=\"HamburgerStatistics04.ipynb\">ハンバーガー統計学第４章「t検定（対応なし）」</a>を復習してください。"
   ]
  },
  {
   "cell_type": "code",
   "execution_count": 24,
   "metadata": {
    "collapsed": true
   },
   "outputs": [],
   "source": [
    "# 子供はテストができるようになったのにマンガの影響はない。つまり、桃組と桜組の点数は差がない\n",
    "#子供はテストができるようになったのにマンガの影響はある。つまり、桃組と桜組の点数は差がある"
   ]
  },
  {
   "cell_type": "code",
   "execution_count": 33,
   "metadata": {
    "collapsed": false
   },
   "outputs": [],
   "source": [
    "sakura = [7\n",
    ",8\n",
    ",10\n",
    ",5\n",
    ",8\n",
    ",7\n",
    ",9\n",
    ",5\n",
    ",6\n",
    ",9\n",
    ",10\n",
    ",6\n",
    ",7\n",
    ",8\n",
    ",7\n",
    ",9\n",
    ",10\n",
    ",6]\n",
    "momo = [9\n",
    ",9\n",
    ",6\n",
    ",10\n",
    ",9\n",
    ",8\n",
    ",10\n",
    ",7\n",
    ",9\n",
    ",10\n",
    ",6\n",
    ",8\n",
    ",9\n",
    ",9\n",
    ",10\n",
    ",7\n",
    ",8\n",
    ",8\n",
    ",10\n",
    ",9]"
   ]
  },
  {
   "cell_type": "code",
   "execution_count": 35,
   "metadata": {
    "collapsed": false,
    "scrolled": true
   },
   "outputs": [
    {
     "name": "stdout",
     "output_type": "stream",
     "text": [
      "t 値は 1.973\n",
      "確率は 0.056205929944\n",
      "有意水準 0.01 で、有意な差がありません\n"
     ]
    }
   ],
   "source": [
    "import scipy as sp\n",
    "from scipy import stats\n",
    "\n",
    "significance = 0.01\n",
    "\n",
    "t, p = stats.ttest_ind(momo,sakura)\n",
    "\n",
    "print( \"t 値は %(t).3f\" %locals() )\n",
    "print( \"確率は %(p)s\" %locals() )\n",
    "\n",
    "if p < significance:\n",
    "    print(\"有意水準 %(significance)s で、有意な差があります\" %locals())\n",
    "else:\n",
    "    print(\"有意水準 %(significance)s で、有意な差がありません\" %locals())"
   ]
  },
  {
   "cell_type": "code",
   "execution_count": 36,
   "metadata": {
    "collapsed": false,
    "scrolled": true
   },
   "outputs": [
    {
     "name": "stdout",
     "output_type": "stream",
     "text": [
      "t値は1.973\n"
     ]
    }
   ],
   "source": [
    "print('t値は1.973')"
   ]
  },
  {
   "cell_type": "code",
   "execution_count": 37,
   "metadata": {
    "collapsed": true
   },
   "outputs": [],
   "source": [
    "#有意水準0.01で有意な差がありませんので、子供はテストができるようになるのにマンガの影響はある。つまり、桃組と桜組の点数は差がある。"
   ]
  },
  {
   "cell_type": "markdown",
   "metadata": {},
   "source": [
    "<h4 style=\"padding: 0.25em 0.5em;color: #494949;background: transparent;border-left: solid 5px #7db4e6;\">問題3</h4>\n",
    "\n",
    "<P>ある小学校で、算数の分数の計算を教えるためのマンガを使った新しい方法を開発した。はたしてこの方法に効果があるのかどうかを確かめたい。</P>\n",
    "<P>以前、2クラスにそれぞれ新しい方法と従来の方法で教えた後、テストをおこなったところ、両クラスの平均得点の間には有意水準5%で有意な差はなかった。</P>\n",
    "<p> そこで今回は、柳組1クラスの生徒18人に次のような実験をした。分数の授業が終わったところでテストをした（事前テスト）。その後、マンガを使った分数の授業をおこない、その後もう一度テストをした（事後テスト）。</p>\n",
    "<p> テストの点数データ（10点満点）は次のようになった。これを対応のあるt検定によって分析したい。</p>\n",
    "<p>柳組18人の点数：</p>\n",
    "<table width=\"80%\" border=\"1\" align=\"center\" cellpadding=\"1\" cellspacing=\"0\">\n",
    "  <tr bgcolor=\"#CCCCCC\"> \n",
    "    <td width=\"10%\" bgcolor=\"#FFFF99\"> <div align=\"center\">事前テスト</div></td>\n",
    "    <td width=\"5%\"> <div align=\"center\">9</div></td>\n",
    "    <td width=\"5%\"> <div align=\"center\">8</div></td>\n",
    "    <td width=\"5%\"> <div align=\"center\">10</div></td>\n",
    "    <td width=\"5%\"><div align=\"center\">7</div></td>\n",
    "    <td width=\"5%\"><div align=\"center\">5</div></td>\n",
    "    <td width=\"5%\"><div align=\"center\">9</div></td>\n",
    "    <td width=\"5%\"><div align=\"center\">10</div></td>\n",
    "    <td width=\"5%\"><div align=\"center\">10</div></td>\n",
    "    <td width=\"5%\"><div align=\"center\">8</div></td>\n",
    "    <td width=\"5%\"><div align=\"center\">10</div></td>\n",
    "    <td width=\"5%\"><div align=\"center\">10</div></td>\n",
    "    <td width=\"5%\"><div align=\"center\">6</div></td>\n",
    "    <td width=\"5%\"><div align=\"center\">8</div></td>\n",
    "    <td width=\"5%\"><div align=\"center\">9</div></td>\n",
    "    <td width=\"5%\"><div align=\"center\">10</div></td>\n",
    "    <td width=\"5%\"><div align=\"center\">9</div></td>\n",
    "    <td width=\"5%\"> <div align=\"center\">10</div></td>\n",
    "    <td width=\"5%\"><div align=\"center\">9</div></td>\n",
    "  </tr>\n",
    "  <tr bgcolor=\"#CCCCCC\"> \n",
    "    <td bgcolor=\"#FFFF99\"><div align=\"center\">事後テスト</div></td>\n",
    "    <td width=\"5%\"><div align=\"center\">9</div></td>\n",
    "    <td width=\"5%\"><div align=\"center\">9</div></td>\n",
    "    <td width=\"5%\"><div align=\"center\">10</div></td>\n",
    "    <td width=\"5%\"><div align=\"center\">7</div></td>\n",
    "    <td width=\"5%\"><div align=\"center\">6</div></td>\n",
    "    <td width=\"5%\"><div align=\"center\">10</div></td>\n",
    "    <td width=\"5%\"><div align=\"center\">10</div></td>\n",
    "    <td width=\"5%\"><div align=\"center\">9</div></td>\n",
    "    <td width=\"5%\"><div align=\"center\">8</div></td>\n",
    "    <td width=\"5%\"><div align=\"center\">10</div></td>\n",
    "    <td width=\"5%\"><div align=\"center\">7</div></td>\n",
    "    <td width=\"5%\"><div align=\"center\">8</div></td>\n",
    "    <td width=\"5%\"><div align=\"center\">10</div></td>\n",
    "    <td width=\"5%\"><div align=\"center\">10</div></td>\n",
    "    <td width=\"5%\"><div align=\"center\">10</div></td>\n",
    "    <td width=\"5%\"><div align=\"center\">10</div></td>\n",
    "    <td width=\"5%\"><div align=\"center\">10</div></td>\n",
    "    <td width=\"5%\"><div align=\"center\">10</div></td>\n",
    "  </tr>\n",
    "</table>\n",
    "<p>&nbsp;</p>\n",
    "<p>(1)　この検定での帰無仮説を言いなさい。</p>\n",
    "<p>(2)　この検定での対立仮説を言いなさい。</p>\n",
    "<p>(3)　t値を求めなさい（小数点以下第3位を四捨五入）。</p>\n",
    "<p>(4)　有意水準を1%としたとき、このt値から言えることは何か。</p>\n",
    "\n",
    "分からない人は <a href=\"HamburgerStatistics05.ipynb\">ハンバーガー統計学第５章「t検定（対応あり）」</a>を復習してください。"
   ]
  },
  {
   "cell_type": "code",
   "execution_count": null,
   "metadata": {
    "collapsed": true
   },
   "outputs": [],
   "source": [
    "#この方法では効果がない\n",
    "#この方法では効果はある"
   ]
  },
  {
   "cell_type": "code",
   "execution_count": 39,
   "metadata": {
    "collapsed": true
   },
   "outputs": [],
   "source": [
    "bef = [\n",
    "    9\n",
    ",8\n",
    ",10\n",
    ",7\n",
    ",5\n",
    ",9\n",
    ",10\n",
    ",10\n",
    ",8\n",
    ",10\n",
    ",10\n",
    ",6\n",
    ",8\n",
    ",9\n",
    ",10\n",
    ",9\n",
    ",10\n",
    ",9\n",
    "]\n",
    "aft = [\n",
    "   9\n",
    ",9\n",
    ",10\n",
    ",7\n",
    ",6\n",
    ",10\n",
    ",10\n",
    ",9\n",
    ",8\n",
    ",10\n",
    ",7\n",
    ",8\n",
    ",10\n",
    ",10\n",
    ",10\n",
    ",10\n",
    ",10\n",
    ",10 \n",
    "]"
   ]
  },
  {
   "cell_type": "code",
   "execution_count": 42,
   "metadata": {
    "collapsed": false
   },
   "outputs": [
    {
     "name": "stdout",
     "output_type": "stream",
     "text": [
      "t 値は -1.243\n",
      "確率は 0.230680528131\n",
      "有意水準 0.01 で、有意な差がありません\n"
     ]
    }
   ],
   "source": [
    "t, p = stats.ttest_rel(bef,aft)\n",
    "\n",
    "print( \"t 値は %(t).3f\" %locals() )\n",
    "print( \"確率は %(p)s\" %locals() )\n",
    "\n",
    "if p < significance:\n",
    "    print(\"有意水準 %(significance)s で、有意な差があります\" %locals())\n",
    "else:\n",
    "    print(\"有意水準 %(significance)s で、有意な差がありません\" %locals())"
   ]
  },
  {
   "cell_type": "code",
   "execution_count": 41,
   "metadata": {
    "collapsed": true
   },
   "outputs": [],
   "source": [
    "#有意な差はありませんので、この方法（まんが）では効果がない"
   ]
  },
  {
   "cell_type": "markdown",
   "metadata": {},
   "source": [
    "<h4 style=\"padding: 0.25em 0.5em;color: #494949;background: transparent;border-left: solid 5px #7db4e6;\">問題4</h4>\n",
    "\n",
    "<P>ある小学校で、算数の分数の計算を教えるためのマンガを使った新しい教材を開発した。しかし、この教材の効果は従来のものと比べ、はっきりした差は見られなかった。そこで今回はさらにマンガとテキストをデザインし直して新しいマンガ教材を開発した。</P>\n",
    "<P> この効果を調べるために、あるクラスでは従来の教材で教え（統制群）、別のクラスでは以前のマンガ教材で教え（旧マンガ群）、もうひとつ別のクラスでは新しいマンガ教材で教えた（新マンガ群）。一日おいて、分数の計算テストをした。</P>\n",
    "<P> テストの点数データ（10点満点）は次のようになった。これを分散分析したい。</P>\n",
    "<p>統制群：</p>\n",
    "<table width=\"80%\" border=\"1\" align=\"center\" cellpadding=\"1\" cellspacing=\"0\">\n",
    "  <tr bgcolor=\"#CCCCCC\"> \n",
    "    <td width=\"5%\"> <div align=\"center\">6</div></td>\n",
    "    <td width=\"5%\"> <div align=\"center\">5</div></td>\n",
    "    <td width=\"5%\"> <div align=\"center\">7</div></td>\n",
    "    <td width=\"5%\"> <div align=\"center\">6</div></td>\n",
    "    <td width=\"5%\"><div align=\"center\">8</div></td>\n",
    "    <td width=\"5%\"><div align=\"center\">4</div></td>\n",
    "    <td width=\"5%\"><div align=\"center\">6</div></td>\n",
    "    <td width=\"5%\"><div align=\"center\">5</div></td>\n",
    "    <td width=\"5%\"><div align=\"center\">8</div></td>\n",
    "    <td width=\"5%\"><div align=\"center\">4</div></td>\n",
    "    <td width=\"5%\"><div align=\"center\">5</div></td>\n",
    "    <td width=\"5%\"><div align=\"center\">6</div></td>\n",
    "    <td width=\"5%\"><div align=\"center\">5</div></td>\n",
    "    <td width=\"5%\"><div align=\"center\">4</div></td>\n",
    "    <td width=\"5%\"><div align=\"center\">5</div></td>\n",
    "    <td width=\"5%\"><div align=\"center\"></div></td>\n",
    "    <td width=\"5%\"><div align=\"center\"></div></td>\n",
    "    <td width=\"5%\"><div align=\"center\"></div></td>\n",
    "    <td width=\"5%\"><div align=\"center\"></div></td>\n",
    "    <td width=\"5%\"><div align=\"center\"></div></td>\n",
    "  </tr>\n",
    "</table>\n",
    "<p>旧マンガ群：</p>\n",
    "<table width=\"80%\" border=\"1\" align=\"center\" cellpadding=\"1\" cellspacing=\"0\">\n",
    "  <tr bgcolor=\"#CCCCCC\"> \n",
    "    <td width=\"5%\"> <div align=\"center\">5</div></td>\n",
    "    <td width=\"5%\"> <div align=\"center\">6</div></td>\n",
    "    <td width=\"5%\"> <div align=\"center\">9</div></td>\n",
    "    <td width=\"5%\"> <div align=\"center\">7</div></td>\n",
    "    <td width=\"5%\"><div align=\"center\">7</div></td>\n",
    "    <td width=\"5%\"><div align=\"center\">6</div></td>\n",
    "    <td width=\"5%\"><div align=\"center\">8</div></td>\n",
    "    <td width=\"5%\"><div align=\"center\">5</div></td>\n",
    "    <td width=\"5%\"><div align=\"center\">6</div></td>\n",
    "    <td width=\"5%\"><div align=\"center\">9</div></td>\n",
    "    <td width=\"5%\"><div align=\"center\">5</div></td>\n",
    "    <td width=\"5%\"><div align=\"center\">4</div></td>\n",
    "    <td width=\"5%\"><div align=\"center\">7</div></td>\n",
    "    <td width=\"5%\"><div align=\"center\">6</div></td>\n",
    "    <td width=\"5%\"><div align=\"center\"></div></td>\n",
    "    <td width=\"5%\"><div align=\"center\"></div></td>\n",
    "    <td width=\"5%\"><div align=\"center\"></div></td>\n",
    "    <td width=\"5%\"><div align=\"center\"></div></td>\n",
    "    <td width=\"5%\"><div align=\"center\"></div></td>\n",
    "    <td width=\"5%\"><div align=\"center\"></div></td>\n",
    "  </tr>\n",
    "</table>\n",
    "<p>新マンガ群：</p>\n",
    "<table width=\"80%\" border=\"1\" align=\"center\" cellpadding=\"1\" cellspacing=\"0\">\n",
    "  <tr bgcolor=\"#CCCCCC\"> \n",
    "    <td width=\"5%\"> <div align=\"center\">6</div></td>\n",
    "    <td width=\"5%\"> <div align=\"center\">8</div></td>\n",
    "    <td width=\"5%\"> <div align=\"center\">9</div></td>\n",
    "    <td width=\"5%\"> <div align=\"center\">6</div></td>\n",
    "    <td width=\"5%\"><div align=\"center\">8</div></td>\n",
    "    <td width=\"5%\"><div align=\"center\">6</div></td>\n",
    "    <td width=\"5%\"><div align=\"center\">9</div></td>\n",
    "    <td width=\"5%\"><div align=\"center\">7</div></td>\n",
    "    <td width=\"5%\"><div align=\"center\">6</div></td>\n",
    "    <td width=\"5%\"><div align=\"center\">5</div></td>\n",
    "    <td width=\"5%\"><div align=\"center\">9</div></td>\n",
    "    <td width=\"5%\"><div align=\"center\">6</div></td>\n",
    "    <td width=\"5%\"><div align=\"center\">10</div></td>\n",
    "    <td width=\"5%\"><div align=\"center\">8</div></td>\n",
    "    <td width=\"5%\"><div align=\"center\">9</div></td>\n",
    "    <td width=\"5%\"><div align=\"center\">6</div></td>\n",
    "    <td width=\"5%\"><div align=\"center\"></div></td>\n",
    "    <td width=\"5%\"><div align=\"center\"></div></td>\n",
    "    <td width=\"5%\"><div align=\"center\"></div></td>\n",
    "    <td width=\"5%\"><div align=\"center\"></div></td>\n",
    "  </tr>\n",
    "</table>\n",
    "<p>&nbsp;</p>\n",
    "<p>(1)　3つの群における、平均と標準偏差を求めなさい（小数点以下第3位を四捨五入）。</p>\n",
    "<p>(2)　この検定での帰無仮説を言いなさい。</p>\n",
    "<p>(3)　この検定での対立仮説を言いなさい。</p>\n",
    "<p>(4)　有意水準を1%として分散分析を行ない、言えることを書きなさい。</p>\n",
    "\n",
    "分からない人は <a href=\"HamburgerStatistics06.ipynb\">ハンバーガー統計学第６章「分散分析（１要因）」</a>を復習してください。"
   ]
  },
  {
   "cell_type": "code",
   "execution_count": null,
   "metadata": {
    "collapsed": true
   },
   "outputs": [],
   "source": [
    "#3つの方法のテストの点数の平均のどんな組み合わせにおいても差はない\n",
    "#少なくとも3つの方法のテストの点数の平均の組み合わせの中において一つは差はある"
   ]
  },
  {
   "cell_type": "code",
   "execution_count": 43,
   "metadata": {
    "collapsed": true
   },
   "outputs": [],
   "source": [
    "ori = [\n",
    "    6\n",
    ",5\n",
    ",7\n",
    ",6\n",
    ",8\n",
    ",4\n",
    ",6\n",
    ",5\n",
    ",8\n",
    ",4\n",
    ",5\n",
    ",6\n",
    ",5\n",
    ",4\n",
    ",5\n",
    "]\n",
    "old = [\n",
    "    5\n",
    ",6\n",
    ",9\n",
    ",7\n",
    ",7\n",
    ",6\n",
    ",8\n",
    ",5\n",
    ",6\n",
    ",9\n",
    ",5\n",
    ",4\n",
    ",7\n",
    ",6\n",
    "]\n",
    "new = [\n",
    "    6\n",
    ",8\n",
    ",9\n",
    ",6\n",
    ",8\n",
    ",6\n",
    ",9\n",
    ",7\n",
    ",6\n",
    ",5\n",
    ",9\n",
    ",6\n",
    ",10\n",
    ",8\n",
    ",9\n",
    ",6\n",
    "]"
   ]
  },
  {
   "cell_type": "code",
   "execution_count": 61,
   "metadata": {
    "collapsed": false
   },
   "outputs": [
    {
     "data": {
      "text/plain": [
       "5.5999999999999996"
      ]
     },
     "execution_count": 61,
     "metadata": {},
     "output_type": "execute_result"
    }
   ],
   "source": [
    "np.mean(ori)"
   ]
  },
  {
   "cell_type": "code",
   "execution_count": 63,
   "metadata": {
    "collapsed": false,
    "scrolled": false
   },
   "outputs": [
    {
     "name": "stdout",
     "output_type": "stream",
     "text": [
      "5.60, 6.43, 7.38\n"
     ]
    }
   ],
   "source": [
    "a,b,c = np.mean(ori), np.mean(old), np.mean(new)\n",
    "print('%(a).2f, %(b).2f, %(c).2f'%locals())"
   ]
  },
  {
   "cell_type": "code",
   "execution_count": 64,
   "metadata": {
    "collapsed": false
   },
   "outputs": [
    {
     "name": "stdout",
     "output_type": "stream",
     "text": [
      "1.25, 1.45, 1.49\n"
     ]
    }
   ],
   "source": [
    "d,e,f = np.std(ori), np.std(old), np.std(new)\n",
    "print('%(d).2f, %(e).2f, %(f).2f'%locals())"
   ]
  },
  {
   "cell_type": "code",
   "execution_count": 65,
   "metadata": {
    "collapsed": false
   },
   "outputs": [
    {
     "name": "stdout",
     "output_type": "stream",
     "text": [
      "f 値は 5.78724488428\n",
      "確率は 0.00602720804494\n",
      "有意水準 0.01 で、有意な差があります\n"
     ]
    }
   ],
   "source": [
    "f, p = stats.f_oneway(ori,old,new)\n",
    "\n",
    "print( \"f 値は %(f)s\" %locals() )\n",
    "print( \"確率は %(p)s\" %locals() )\n",
    "\n",
    "if p < significance:\n",
    "    print(\"有意水準 %(significance)s で、有意な差があります\" %locals())\n",
    "else:\n",
    "    print(\"有意水準 %(significance)s で、有意な差がありません\" %locals())"
   ]
  },
  {
   "cell_type": "code",
   "execution_count": 66,
   "metadata": {
    "collapsed": true
   },
   "outputs": [],
   "source": [
    "#有意な差がありますので、少なくとも3つの方法のテストの点数の平均の組み合わせの中において一つは差はある"
   ]
  },
  {
   "cell_type": "markdown",
   "metadata": {},
   "source": [
    "<h1 STYLE=\"background: #c2edff;padding: 0.5em;\">アイスクリーム統計学</h1>"
   ]
  },
  {
   "cell_type": "markdown",
   "metadata": {},
   "source": [
    "<h4 style=\"padding: 0.25em 0.5em;color: #494949;background: transparent;border-left: solid 5px #7db4e6;\">問題5</h4>\n",
    "\n",
    "<P>次のデータは、19人の大学生について、高校の平均評点（10点満点）、入学試験の点数、入学後の学業成績（GPA：4点満点）を調べたものである。</P>\n",
    "\n",
    "https://raw.githubusercontent.com/maskot1977/ipython_notebook/master/toydata/entrance_exam2.txt\n",
    "\n",
    "<P>(1)　３種類のデータのすべての組み合わせの相関係数を求めなさい。</P>\n",
    "<P>(2)　高校の平均評定の影響を取り除いたときの、入学試験の点数と入学後の学業成績の偏相関係数を求めなさい。</P>\n",
    "<P>(3)　(2)の偏相関係数について、考えられる解釈を文章で書きなさい。</P>\n",
    "\n",
    "(4)　入学後の学業成績を、高校の平均評点と入学試験の点数の２つの変数を使って、重回帰モデルによって予測したい。このときのモデルの式を書きなさい。\n",
    "\n",
    "(5)　(4)のモデルの式における定数を求めなさい。\n",
    "\n",
    "(6)　(4)のモデルにおける重相関係数を求めなさい。\n",
    "\n",
    "(7)　入学試験と学業成績の相関係数と重相関係数を比較して、どのようなことが言えるかについて、文章で書きなさい。\n",
    "\n",
    "__ヒント__：文字列を整数に変換する関数は int ですが、少数点数に変換する関数は float です。\n",
    "\n",
    "分からない人は \n",
    "<a href=\"IceCreamStatistics05.ipynb\">アイスクリーム統計学第５章「偏相関」</a>、\n",
    "<a href=\"IceCreamStatistics06.ipynb\">アイスクリーム統計学第６章「重回帰」</a>\n",
    "を復習してください。"
   ]
  },
  {
   "cell_type": "code",
   "execution_count": 56,
   "metadata": {
    "collapsed": false
   },
   "outputs": [
    {
     "data": {
      "text/plain": [
       "('data.txt', <http.client.HTTPMessage at 0x1099168d0>)"
      ]
     },
     "execution_count": 56,
     "metadata": {},
     "output_type": "execute_result"
    }
   ],
   "source": [
    "import pandas as pd\n",
    "import urllib.request as req\n",
    "url = 'https://raw.githubusercontent.com/maskot1977/ipython_notebook/master/toydata/entrance_exam2.txt'\n",
    "req.urlretrieve(url,'data.txt')"
   ]
  },
  {
   "cell_type": "code",
   "execution_count": 60,
   "metadata": {
    "collapsed": false
   },
   "outputs": [
    {
     "data": {
      "text/html": [
       "<div>\n",
       "<table border=\"1\" class=\"dataframe\">\n",
       "  <thead>\n",
       "    <tr style=\"text-align: right;\">\n",
       "      <th></th>\n",
       "      <th>入学試験の点数</th>\n",
       "      <th>学業成績</th>\n",
       "      <th>高校の平均評定</th>\n",
       "    </tr>\n",
       "  </thead>\n",
       "  <tbody>\n",
       "    <tr>\n",
       "      <th>0</th>\n",
       "      <td>440</td>\n",
       "      <td>1.57</td>\n",
       "      <td>5.7</td>\n",
       "    </tr>\n",
       "    <tr>\n",
       "      <th>1</th>\n",
       "      <td>448</td>\n",
       "      <td>1.83</td>\n",
       "      <td>6.8</td>\n",
       "    </tr>\n",
       "    <tr>\n",
       "      <th>2</th>\n",
       "      <td>455</td>\n",
       "      <td>2.05</td>\n",
       "      <td>6.2</td>\n",
       "    </tr>\n",
       "    <tr>\n",
       "      <th>3</th>\n",
       "      <td>460</td>\n",
       "      <td>1.14</td>\n",
       "      <td>5.5</td>\n",
       "    </tr>\n",
       "    <tr>\n",
       "      <th>4</th>\n",
       "      <td>473</td>\n",
       "      <td>2.73</td>\n",
       "      <td>6.0</td>\n",
       "    </tr>\n",
       "  </tbody>\n",
       "</table>\n",
       "</div>"
      ],
      "text/plain": [
       "   入学試験の点数  学業成績  高校の平均評定\n",
       "0      440  1.57      5.7\n",
       "1      448  1.83      6.8\n",
       "2      455  2.05      6.2\n",
       "3      460  1.14      5.5\n",
       "4      473  2.73      6.0"
      ]
     },
     "execution_count": 60,
     "metadata": {},
     "output_type": "execute_result"
    }
   ],
   "source": [
    "df = pd.read_csv('data.txt','\\s+',usecols=range(1,4))\n",
    "df.head()"
   ]
  },
  {
   "cell_type": "code",
   "execution_count": 78,
   "metadata": {
    "collapsed": false,
    "scrolled": false
   },
   "outputs": [
    {
     "data": {
      "text/html": [
       "<div>\n",
       "<table border=\"1\" class=\"dataframe\">\n",
       "  <thead>\n",
       "    <tr style=\"text-align: right;\">\n",
       "      <th></th>\n",
       "      <th>test</th>\n",
       "      <th>grade</th>\n",
       "      <th>high</th>\n",
       "    </tr>\n",
       "  </thead>\n",
       "  <tbody>\n",
       "    <tr>\n",
       "      <th>test</th>\n",
       "      <td>1.000000</td>\n",
       "      <td>0.761798</td>\n",
       "      <td>0.690864</td>\n",
       "    </tr>\n",
       "    <tr>\n",
       "      <th>grade</th>\n",
       "      <td>0.761798</td>\n",
       "      <td>1.000000</td>\n",
       "      <td>0.607225</td>\n",
       "    </tr>\n",
       "    <tr>\n",
       "      <th>high</th>\n",
       "      <td>0.690864</td>\n",
       "      <td>0.607225</td>\n",
       "      <td>1.000000</td>\n",
       "    </tr>\n",
       "  </tbody>\n",
       "</table>\n",
       "</div>"
      ],
      "text/plain": [
       "           test     grade      high\n",
       "test   1.000000  0.761798  0.690864\n",
       "grade  0.761798  1.000000  0.607225\n",
       "high   0.690864  0.607225  1.000000"
      ]
     },
     "execution_count": 78,
     "metadata": {},
     "output_type": "execute_result"
    }
   ],
   "source": [
    "df.corr()"
   ]
  },
  {
   "cell_type": "code",
   "execution_count": 77,
   "metadata": {
    "collapsed": false
   },
   "outputs": [],
   "source": [
    "df.columns = ['test', 'grade', 'high']"
   ]
  },
  {
   "cell_type": "code",
   "execution_count": 67,
   "metadata": {
    "collapsed": true
   },
   "outputs": [],
   "source": [
    "def average(list):\n",
    "    return np.sum(list)/len(list)\n",
    "# 分散を求める関数\n",
    "def variance(list):\n",
    "    mu = average(list)\n",
    "    diff = np.array(list) - mu\n",
    "    return np.sum(np.square(diff))/len(list)\n",
    "# 標準偏差を求める関数\n",
    "def standard_deviation(list):\n",
    "    return np.sqrt(variance(list))\n",
    "# 共分散 = 偏差積の平均 （偏差値、ではありません。偏差積、です）\n",
    "def covariance(list1, list2):\n",
    "    mu1,mu2 = average(list1), average(list2)\n",
    "    diff1, diff2 = np.array(list1) - mu1, np.array(list2) - mu2\n",
    "    return np.sum(diff1 * diff2)/len(list1)\n",
    "# 相関係数 = 共分散を list1, list2 の標準偏差で割ったもの\n",
    "def correlation(list1, list2):\n",
    "    return covariance(list1,list2)/(standard_deviation(list1)*standard_deviation(list2))\n",
    "\n",
    "# 回帰直線の傾き＝相関係数＊（（yの標準偏差）／（xの標準偏差））を求める関数を作ってください。\n",
    "def a_fit(xlist, ylist):\n",
    "    return correlation(xlist,ylist) * (standard_deviation(ylist)/standard_deviation(xlist))\n",
    "# y切片＝yの平均－（傾き＊xの平均）を求める関数を作ってください。\n",
    "def b_fit(xlist, ylist):\n",
    "    return average(ylist) - (a_fit(xlist,ylist) * average(xlist))\n",
    "# a の影響を除いた、b と y の偏相関係数 partial correlation coefficient を求める関数\n",
    "def partial_correlation(a, b, y):\n",
    "    def cor(m,n):\n",
    "        return correlation(m,n)\n",
    "    return (cor(b,y) - (cor(a,y) * cor(a,b)))/np.sqrt((1-cor(a,y)**2)*(1-cor(a,b)**2))\n",
    "\n",
    "def standard_partial_regression(a, b, y):\n",
    "    rby = correlation(b,y)\n",
    "    rab = correlation(a,b)\n",
    "    ray = correlation(a,y)\n",
    "    return (rby - (ray * rab))/ (1 - rab**2)\n",
    "def multiple_correlation(a, b, y):\n",
    "    rby = correlation(b,y)\n",
    "    rab = correlation(a,b)\n",
    "    ray = correlation(a,y)\n",
    "    return np.sqrt((ray**2 + rby**2 - 2 * ray * rby * rab) / (1 - rab**2) )"
   ]
  },
  {
   "cell_type": "code",
   "execution_count": 75,
   "metadata": {
    "collapsed": false
   },
   "outputs": [
    {
     "data": {
      "text/plain": [
       "(0     440\n",
       " 1     448\n",
       " 2     455\n",
       " 3     460\n",
       " 4     473\n",
       " 5     485\n",
       " 6     489\n",
       " 7     500\n",
       " 8     512\n",
       " 9     518\n",
       " 10    528\n",
       " 11    550\n",
       " 12    582\n",
       " 13    569\n",
       " 14    585\n",
       " 15    593\n",
       " 16    620\n",
       " 17    650\n",
       " 18    690\n",
       " Name: 入学試験の点数, dtype: int64, 0     1.57\n",
       " 1     1.83\n",
       " 2     2.05\n",
       " 3     1.14\n",
       " 4     2.73\n",
       " 5     1.65\n",
       " 6     2.02\n",
       " 7     2.98\n",
       " 8     1.79\n",
       " 9     2.63\n",
       " 10    2.08\n",
       " 11    2.15\n",
       " 12    3.44\n",
       " 13    3.05\n",
       " 14    3.19\n",
       " 15    3.42\n",
       " 16    3.87\n",
       " 17    3.00\n",
       " 18    3.12\n",
       " Name: 学業成績, dtype: float64)"
      ]
     },
     "execution_count": 75,
     "metadata": {},
     "output_type": "execute_result"
    }
   ],
   "source": [
    "df.iloc[:,0], df.iloc[:,1]"
   ]
  },
  {
   "cell_type": "code",
   "execution_count": 84,
   "metadata": {
    "collapsed": false
   },
   "outputs": [
    {
     "data": {
      "text/plain": [
       "test     534.052632\n",
       "grade      2.511053\n",
       "high       7.036842\n",
       "dtype: float64"
      ]
     },
     "execution_count": 84,
     "metadata": {},
     "output_type": "execute_result"
    }
   ],
   "source": [
    "df.mean()"
   ]
  },
  {
   "cell_type": "code",
   "execution_count": 80,
   "metadata": {
    "collapsed": false
   },
   "outputs": [
    {
     "data": {
      "text/plain": [
       "0.59587046293084089"
      ]
     },
     "execution_count": 80,
     "metadata": {},
     "output_type": "execute_result"
    }
   ],
   "source": [
    "partial_correlation(df.iloc[:,2],df.iloc[:,0],df.iloc[:,1])"
   ]
  },
  {
   "cell_type": "code",
   "execution_count": null,
   "metadata": {
    "collapsed": true
   },
   "outputs": [],
   "source": [
    "#高校の平均成績は入学試験点数と学業成績の関係に影響あり"
   ]
  },
  {
   "cell_type": "code",
   "execution_count": null,
   "metadata": {
    "collapsed": true
   },
   "outputs": [],
   "source": [
    "#学業成績=a*入学試験の点+b*高校の平均評定+c"
   ]
  },
  {
   "cell_type": "code",
   "execution_count": 94,
   "metadata": {
    "collapsed": false
   },
   "outputs": [],
   "source": [
    "X = df.drop('grade',1)"
   ]
  },
  {
   "cell_type": "code",
   "execution_count": 95,
   "metadata": {
    "collapsed": true
   },
   "outputs": [],
   "source": [
    "y = df['grade']"
   ]
  },
  {
   "cell_type": "code",
   "execution_count": 96,
   "metadata": {
    "collapsed": false
   },
   "outputs": [
    {
     "data": {
      "text/plain": [
       "LinearRegression(copy_X=True, fit_intercept=True, n_jobs=1, normalize=False)"
      ]
     },
     "execution_count": 96,
     "metadata": {},
     "output_type": "execute_result"
    }
   ],
   "source": [
    "from sklearn import linear_model\n",
    "cl = linear_model.LinearRegression()\n",
    "cl.fit(X,y)"
   ]
  },
  {
   "cell_type": "code",
   "execution_count": 97,
   "metadata": {
    "collapsed": false
   },
   "outputs": [
    {
     "data": {
      "text/plain": [
       "0.59286480523005047"
      ]
     },
     "execution_count": 97,
     "metadata": {},
     "output_type": "execute_result"
    }
   ],
   "source": [
    "cl.score(X,y)"
   ]
  },
  {
   "cell_type": "code",
   "execution_count": 98,
   "metadata": {
    "collapsed": false
   },
   "outputs": [
    {
     "name": "stdout",
     "output_type": "stream",
     "text": [
      "[ 0.00693489  0.12812099] -2.09411133494\n"
     ]
    }
   ],
   "source": [
    "coef = cl.coef_\n",
    "intercept = cl.intercept_\n",
    "print(coef,intercept)"
   ]
  },
  {
   "cell_type": "code",
   "execution_count": 101,
   "metadata": {
    "collapsed": true
   },
   "outputs": [],
   "source": [
    "#学業成績=0.00693*入学試験の点+0.128*高校の平均評定+-2.09"
   ]
  },
  {
   "cell_type": "code",
   "execution_count": 103,
   "metadata": {
    "collapsed": false
   },
   "outputs": [
    {
     "data": {
      "text/plain": [
       "0.76997714591411792"
      ]
     },
     "execution_count": 103,
     "metadata": {},
     "output_type": "execute_result"
    }
   ],
   "source": [
    "multiple_correlation(df['test'],df['high'],df['grade'])"
   ]
  },
  {
   "cell_type": "code",
   "execution_count": 105,
   "metadata": {
    "collapsed": true
   },
   "outputs": [],
   "source": [
    "#重相関係数は入学試験と学業成績の相関係数と差がないから、予測された値（学業成績）は入学試験の点数の影響しか受けないらしいです。"
   ]
  }
 ],
 "metadata": {
  "kernelspec": {
   "display_name": "Python 3",
   "language": "python",
   "name": "python3"
  },
  "language_info": {
   "codemirror_mode": {
    "name": "ipython",
    "version": 3
   },
   "file_extension": ".py",
   "mimetype": "text/x-python",
   "name": "python",
   "nbconvert_exporter": "python",
   "pygments_lexer": "ipython3",
   "version": "3.4.4"
  }
 },
 "nbformat": 4,
 "nbformat_minor": 2
}
