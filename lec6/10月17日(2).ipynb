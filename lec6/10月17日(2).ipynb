{
 "cells": [
  {
   "cell_type": "code",
   "execution_count": 1,
   "metadata": {
    "collapsed": false
   },
   "outputs": [
    {
     "name": "stdout",
     "output_type": "stream",
     "text": [
      "chi2 値は 12.4\n",
      "確率は 0.0296994592035\n",
      "有意水準 0.05 で、有意な差があります\n"
     ]
    }
   ],
   "source": [
    "from scipy import stats\n",
    "\n",
    "significance = 0.05\n",
    "o = [17, 10, 6, 7, 15, 5] # 実測値\n",
    "e = [10, 10, 10, 10, 10, 10] # 理論値\n",
    "\n",
    "chi2, p = stats.chisquare(o, f_exp = e)\n",
    "\n",
    "print( \"chi2 値は %(chi2)s\" %locals() )\n",
    "print( \"確率は %(p)s\" %locals() )\n",
    "\n",
    "if p < significance:\n",
    "    print(\"有意水準 %(significance)s で、有意な差があります\" %locals())\n",
    "else:\n",
    "    print(\"有意水準 %(significance)s で、有意な差がありません\" %locals())"
   ]
  },
  {
   "cell_type": "markdown",
   "metadata": {},
   "source": [
    "<table border=\"1\" bgcolor=\"#FFFFFF\" cellpadding=\"0\" cellspacing=\"0\" align=\"center\">\n",
    "  <tbody><tr> \n",
    "    <th width=\"100\" height=\"30\" bgcolor=\"#CCCC99\"> 栽培方法 </th>\n",
    "    <th width=\"81\" height=\"30\" bgcolor=\"#FFFFCC\"> 優 </th>\n",
    "    <th width=\"100\" height=\"30\" bgcolor=\"#FFCCCC\"> 良 </th>\n",
    "    <th width=\"100\" height=\"30\" bgcolor=\"#99FFCC\"> 可 </th>\n",
    "    <th width=\"100\" height=\"30\" bgcolor=\"#CCCCCC\">合計</th>\n",
    "  </tr>\n",
    "  <tr align=\"center\"> \n",
    "    <td width=\"100\" height=\"30\" bgcolor=\"#CCCC99\"> Ａ方式 </td>\n",
    "    <td width=\"100\" height=\"30\" bgcolor=\"#FFFFFF\"> 435</td>\n",
    "    <td width=\"100\" height=\"30\" bgcolor=\"#FFFFFF\">165</td>\n",
    "    <td width=\"100\" height=\"30\" bgcolor=\"#FFFFFF\">650</td>\n",
    "    <td width=\"100\" height=\"30\" bgcolor=\"#CCCCCC\">1250</td>\n",
    "  </tr>\n",
    "  <tr align=\"center\"> \n",
    "    <td width=\"119\" height=\"30\" bgcolor=\"#CCCC99\"> Ｂ方式 </td>\n",
    "    <td width=\"81\" height=\"30\" bgcolor=\"#FFFFFF\"> 265</td>\n",
    "    <td width=\"100\" height=\"30\" bgcolor=\"#FFFFFF\">135</td>\n",
    "    <td width=\"100\" height=\"30\" bgcolor=\"#FFFFFF\">350</td>\n",
    "    <td width=\"100\" height=\"30\" bgcolor=\"#CCCCCC\">750</td>\n",
    "  </tr>\n",
    "  <tr align=\"center\" bgcolor=\"#CCCCCC\"> \n",
    "    <td width=\"119\" height=\"30\">合計</td>\n",
    "    <td width=\"81\" height=\"30\">700</td>\n",
    "    <td width=\"100\" height=\"30\">300</td>\n",
    "    <td width=\"100\" height=\"30\">1000</td>\n",
    "    <td width=\"100\" height=\"30\">2000</td>\n",
    "  </tr>\n",
    "</tbody></table>"
   ]
  },
  {
   "cell_type": "code",
   "execution_count": 30,
   "metadata": {
    "collapsed": true
   },
   "outputs": [],
   "source": [
    "import pandas as pd\n",
    "table = pd.DataFrame([[435,165,650],[265,135,350]])"
   ]
  },
  {
   "cell_type": "code",
   "execution_count": 31,
   "metadata": {
    "collapsed": false
   },
   "outputs": [
    {
     "name": "stdout",
     "output_type": "stream",
     "text": [
      "chi2 値は 9.90476190476\n",
      "確率は 0.00706656373146\n",
      "有意水準 0.05 で、有意な差があります\n"
     ]
    }
   ],
   "source": [
    "significance = 0.05\n",
    "chi2, p, dof, expected = sp.stats.chi2_contingency(table)\n",
    "print( \"chi2 値は %(chi2)s\" %locals() )\n",
    "print( \"確率は %(p)s\" %locals() )\n",
    "if p < significance:\n",
    "    print(\"有意水準 %(significance)s で、有意な差があります\" %locals())\n",
    "else:\n",
    "    print(\"有意水準 %(significance)s で、有意な差がありません\" %locals())"
   ]
  },
  {
   "cell_type": "markdown",
   "metadata": {},
   "source": [
    "育て方と製品の等級には関連がある"
   ]
  },
  {
   "cell_type": "markdown",
   "metadata": {},
   "source": [
    "<table border=\"1\" bgcolor=\"#FFFFFF\" cellpadding=\"0\" cellspacing=\"0\" align=\"center\">\n",
    "  <tbody><tr align=\"center\"> \n",
    "    <th width=\"120\" height=\"30\" bgcolor=\"#ffffcc\"> A方式 </th>\n",
    "    <th width=\"120\" height=\"30\" bgcolor=\"#ffffcc\"> 含有量 </th>\n",
    "    <th width=\"120\" height=\"30\" bgcolor=\"#ffcccc\"> B方式 </th>\n",
    "    <th width=\"120\" height=\"30\" bgcolor=\"#ffcccc\"> 含有量 </th>\n",
    "  </tr>\n",
    "  <tr align=\"center\"> \n",
    "    <td width=\"120\" height=\"30\" bgcolor=\"#cccccc\"> 1</td>\n",
    "    <td width=\"120\" height=\"30\" bgcolor=\"#FFFFFF\"> 70</td>\n",
    "    <td width=\"120\" height=\"30\" bgcolor=\"#cccccc\"> 1</td>\n",
    "    <td width=\"120\" height=\"30\"> 85</td>\n",
    "  </tr>\n",
    "  <tr align=\"center\"> \n",
    "    <td width=\"120\" height=\"30\" bgcolor=\"#cccccc\">2</td>\n",
    "    <td width=\"120\" height=\"30\" bgcolor=\"#FFFFFF\">75</td>\n",
    "    <td width=\"120\" height=\"30\" bgcolor=\"#cccccc\">2</td>\n",
    "    <td width=\"120\" height=\"30\">80</td>\n",
    "  </tr>\n",
    "  <tr align=\"center\"> \n",
    "    <td width=\"120\" height=\"30\" bgcolor=\"#cccccc\">3</td>\n",
    "    <td width=\"120\" height=\"30\" bgcolor=\"#FFFFFF\">70</td>\n",
    "    <td width=\"120\" height=\"30\" bgcolor=\"#cccccc\">3</td>\n",
    "    <td width=\"120\" height=\"30\">95</td>\n",
    "  </tr>\n",
    "  <tr align=\"center\"> \n",
    "    <td width=\"120\" height=\"30\" bgcolor=\"#cccccc\">4</td>\n",
    "    <td width=\"120\" height=\"30\" bgcolor=\"#FFFFFF\">85</td>\n",
    "    <td width=\"120\" height=\"30\" bgcolor=\"#cccccc\">4</td>\n",
    "    <td width=\"120\" height=\"30\">70</td>\n",
    "  </tr>\n",
    "  <tr align=\"center\"> \n",
    "    <td width=\"120\" height=\"30\" bgcolor=\"#cccccc\">5</td>\n",
    "    <td width=\"120\" height=\"30\" bgcolor=\"#FFFFFF\">90</td>\n",
    "    <td width=\"120\" height=\"30\" bgcolor=\"#cccccc\">5</td>\n",
    "    <td width=\"120\" height=\"30\">80</td>\n",
    "  </tr>\n",
    "  <tr align=\"center\"> \n",
    "    <td width=\"120\" height=\"30\" bgcolor=\"#cccccc\">6</td>\n",
    "    <td width=\"120\" height=\"30\" bgcolor=\"#FFFFFF\">70</td>\n",
    "    <td width=\"120\" height=\"30\" bgcolor=\"#cccccc\">6</td>\n",
    "    <td width=\"120\" height=\"30\">75</td>\n",
    "  </tr>\n",
    "  <tr align=\"center\"> \n",
    "    <td width=\"120\" height=\"30\" bgcolor=\"#cccccc\">7</td>\n",
    "    <td width=\"120\" height=\"30\" bgcolor=\"#FFFFFF\">80</td>\n",
    "    <td width=\"120\" height=\"30\" bgcolor=\"#cccccc\">7</td>\n",
    "    <td width=\"120\" height=\"30\">80</td>\n",
    "  </tr>\n",
    "  <tr align=\"center\"> \n",
    "    <td width=\"120\" height=\"30\" bgcolor=\"#cccccc\">8</td>\n",
    "    <td width=\"120\" height=\"30\" bgcolor=\"#FFFFFF\">75</td>\n",
    "    <td width=\"120\" height=\"30\" bgcolor=\"#cccccc\">8</td>\n",
    "    <td width=\"120\" height=\"30\">90</td>\n",
    "  </tr>\n",
    "</tbody></table>"
   ]
  },
  {
   "cell_type": "code",
   "execution_count": 5,
   "metadata": {
    "collapsed": false
   },
   "outputs": [
    {
     "name": "stdout",
     "output_type": "stream",
     "text": [
      "t 値は -1.28812237744\n",
      "確率は 0.218587022202\n",
      "有意水準 0.05 で、有意な差がありません\n"
     ]
    }
   ],
   "source": [
    "#9.2\n",
    "# 対応のないt検定\n",
    "import numpy as np\n",
    "import scipy as sp\n",
    "from scipy import stats\n",
    "\n",
    "significance = 0.05\n",
    "X = [70, 75, 70, 85, 90, 70, 80, 75]\n",
    "Y = [85, 80, 95, 70, 80, 75, 80, 90]\n",
    "\n",
    "t, p = stats.ttest_ind(X, Y)\n",
    "\n",
    "print( \"t 値は %(t)s\" %locals() )\n",
    "print( \"確率は %(p)s\" %locals() )\n",
    "\n",
    "if p < significance:\n",
    "    print(\"有意水準 %(significance)s で、有意な差があります\" %locals())\n",
    "else:\n",
    "    print(\"有意水準 %(significance)s で、有意な差がありません\" %locals())"
   ]
  },
  {
   "cell_type": "markdown",
   "metadata": {},
   "source": [
    "育て方と含有量には関連がない"
   ]
  },
  {
   "cell_type": "code",
   "execution_count": 7,
   "metadata": {
    "collapsed": false
   },
   "outputs": [
    {
     "name": "stdout",
     "output_type": "stream",
     "text": [
      "t 値は -2.96561491008\n",
      "確率は 0.0209375702069\n",
      "有意水準 0.05 で、有意な差があります\n"
     ]
    }
   ],
   "source": [
    "#9.3\n",
    "# 対応のあるt検定\n",
    "import numpy as np\n",
    "import scipy as sp\n",
    "from scipy import stats\n",
    "\n",
    "significance = 0.05\n",
    "X = [90, 75, 75, 75, 80, 65, 75, 80]\n",
    "Y = [95, 80, 80, 80, 75, 75, 80, 85]\n",
    "\n",
    "t, p = stats.ttest_rel(X, Y)\n",
    "\n",
    "print( \"t 値は %(t)s\" %locals() )\n",
    "print( \"確率は %(p)s\" %locals() )\n",
    "\n",
    "if p < significance:\n",
    "    print(\"有意水準 %(significance)s で、有意な差があります\" %locals())\n",
    "else:\n",
    "    print(\"有意水準 %(significance)s で、有意な差がありません\" %locals())"
   ]
  },
  {
   "cell_type": "markdown",
   "metadata": {},
   "source": [
    "その学習に効果がある。"
   ]
  },
  {
   "cell_type": "code",
   "execution_count": 8,
   "metadata": {
    "collapsed": false
   },
   "outputs": [
    {
     "name": "stdout",
     "output_type": "stream",
     "text": [
      "f 値は 12.2231101945\n",
      "確率は 3.82482645839e-05\n",
      "有意水準 0.05 で、有意な差があります\n"
     ]
    }
   ],
   "source": [
    "#かだい9.4\n",
    "# 1要因の分散分析\n",
    "import numpy as np\n",
    "import scipy as sp\n",
    "from scipy import stats\n",
    "\n",
    "significance = 0.05\n",
    "a   = [80, 75, 80, 90, 95, 80, 80, 85, 85, 80, 90, 80, 75, 90, 85, 85, 90, 90, 85, 80]\n",
    "b = [75, 70, 80, 85, 90, 75, 85, 80, 80, 75, 80, 75, 70, 85, 80, 75, 80, 80, 90, 80]\n",
    "c    = [80, 80, 80, 90, 95, 85, 95, 90, 85, 90, 95, 85, 98, 95, 85, 85, 90, 90, 85, 85]\n",
    "f, p = stats.f_oneway(a, b, c)\n",
    "\n",
    "print( \"f 値は %(f)s\" %locals() )\n",
    "print( \"確率は %(p)s\" %locals() )\n",
    "\n",
    "if p < significance:\n",
    "    print(\"有意水準 %(significance)s で、有意な差があります\" %locals())\n",
    "else:\n",
    "    print(\"有意水準 %(significance)s で、有意な差がありません\" %locals())"
   ]
  },
  {
   "cell_type": "code",
   "execution_count": 10,
   "metadata": {
    "collapsed": false
   },
   "outputs": [],
   "source": [
    "#課題9.5\n",
    "import numpy as np\n",
    "#２要因２水準の分散分析で要因A、要因B、交互作用のF値を計算する関数\n",
    "def stats_f_twoway(a1b1, a1b2, a2b1, a2b2):\n",
    "    ave11 = np.average(a1b1) # a1b1群の平均\n",
    "    ave12 = np.average(a1b2) # a1b2群の平均\n",
    "    ave21 = np.average(a2b1) # a2b1群の平均\n",
    "    ave22 = np.average(a2b2) # a2b2群の平均\n",
    "    \n",
    "    avea1 = np.average(a1b1 + a1b2) # 水準a1の平均\n",
    "    avea2 = np.average(a2b1 + a2b2) # 水準a2の平均\n",
    "    aveb1 = np.average(a1b1 + a2b1) # 水準b1の平均\n",
    "    aveb2 = np.average(a1b2 + a2b2) # 水準b2の平均\n",
    "    \n",
    "    ave = np.average(a1b1 + a1b2 + a2b1 + a2b2) # 全体の平均\n",
    "    \n",
    "    #要因Aによる残差（偏差平方和）\n",
    "    zure1 = np.power((avea1 - ave), 2) * len(a1b1 + a1b2) + \\\n",
    "            np.power((avea2 - ave), 2) * len(a2b1 + a2b2)\n",
    "        \n",
    "    #要因Bによる残差（偏差平方和）\n",
    "    zure2 = np.power((aveb1 - ave), 2) * len(a1b1 + a2b1) + \\\n",
    "            np.power((aveb2 - ave), 2) * len(a1b2 + a2b2)\n",
    "    \n",
    "    # 各群の平均の残差（偏差平方和）\n",
    "    zure3 = np.power((ave11 - ave), 2) * len(a1b1) + \\\n",
    "            np.power((ave12 - ave), 2) * len(a1b2) + \\\n",
    "            np.power((ave21 - ave), 2) * len(a2b1) + \\\n",
    "            np.power((ave22 - ave), 2) * len(a2b2)\n",
    "    \n",
    "    # 交互作用による残差（偏差平方和）\n",
    "    zure4 = zure3 - zure1 - zure2\n",
    "    \n",
    "    # 残りの残差（偏差平方和）\n",
    "    zure5 = np.var(a1b1) * len(a1b1) + \\\n",
    "            np.var(a1b2) * len(a1b2) + \\\n",
    "            np.var(a2b1) * len(a2b1) + \\\n",
    "            np.var(a2b2) * len(a2b2)\n",
    "    \n",
    "    freedoma = 1 # 要因Aの自由度\n",
    "    freedomb = 1 # 要因Bの自由度 \n",
    "    freedomx = freedoma * freedomb # 交互作用の自由度\n",
    "    freedom = len(a1b1 + a1b2 + a2b1 + a2b2) - 1 # 全体の自由度\n",
    "    freedomz = freedom - freedoma - freedomb - freedomx # 残差の自由度\n",
    "    \n",
    "    mean_square_a = zure1 / freedoma # 要因Aの平均平方\n",
    "    mean_square_b = zure2 / freedomb # 要因Bの平均平方\n",
    "    mean_square_x = zure4 / freedomx # 交互作用の平均平方\n",
    "    mean_square_z = zure5 / freedomz # 残差の平均平方\n",
    "    \n",
    "    f_a = mean_square_a / mean_square_z # 要因AのF値\n",
    "    f_b = mean_square_b / mean_square_z # 要因BのF値\n",
    "    f_x = mean_square_x / mean_square_z # 交互作用のF値\n",
    "        \n",
    "    return f_a, f_b, f_x, freedoma, freedomb, freedomx, freedomz"
   ]
  },
  {
   "cell_type": "code",
   "execution_count": 11,
   "metadata": {
    "collapsed": true
   },
   "outputs": [],
   "source": [
    "def check_f_dist(dfnum, dfden, significance = 0.05, sample_size=1000000):\n",
    "    dist = np.random.f(dfnum, dfden, sample_size)\n",
    "    return sorted(dist)[int(-1 * sample_size * significance)]"
   ]
  },
  {
   "cell_type": "code",
   "execution_count": 15,
   "metadata": {
    "collapsed": false,
    "scrolled": true
   },
   "outputs": [
    {
     "name": "stdout",
     "output_type": "stream",
     "text": [
      "要因Aのf値は 0.837784371909\n",
      "　有意水準 0.05 で、有意な差がありません\n",
      "要因Bのf値は 3.05341246291\n",
      "　有意水準 0.05 で、有意な差がありません\n",
      "交互作用のf値は 6.65380811078\n",
      "　有意水準 0.05 で、有意な差があります\n"
     ]
    }
   ],
   "source": [
    "import numpy as np\n",
    "import scipy as sp\n",
    "\n",
    "significance = 0.05 # 有意水準\n",
    "a1b1 = [65, 85, 75, 85, 75, 80, 90, 75, 85, 65, 75, 85, 80, 85, 90] \n",
    "a1b2 = [65, 70, 80, 75, 70, 60, 65, 70, 85, 60, 65, 75, 70, 80, 75] \n",
    "a2b1 = [70, 65, 85, 80, 75, 65, 75, 60, 85, 65, 75, 70, 65, 80, 75] \n",
    "a2b2 = [70, 70, 85, 80, 65, 75, 65, 85, 80, 60, 70, 75, 70, 80, 85]\n",
    "\n",
    "f_a, f_b, f_x, freedoma, freedomb, freedomx, freedomz = stats_f_twoway(a1b1, a1b2, a2b1, a2b2)\n",
    "threshold = check_f_dist(freedoma, freedomz, significance)\n",
    "\n",
    "print( \"要因Aのf値は %(f_a)s\" %locals() )    \n",
    "if f_a > threshold:\n",
    "    print(\"　有意水準 %(significance)s で、有意な差があります\" %locals())\n",
    "else:\n",
    "    print(\"　有意水準 %(significance)s で、有意な差がありません\" %locals())\n",
    "\n",
    "print( \"要因Bのf値は %(f_b)s\" %locals() )\n",
    "if f_b > threshold:\n",
    "    print(\"　有意水準 %(significance)s で、有意な差があります\" %locals())\n",
    "else:\n",
    "    print(\"　有意水準 %(significance)s で、有意な差がありません\" %locals())\n",
    "\n",
    "\n",
    "print( \"交互作用のf値は %(f_x)s\" %locals() )\n",
    "if f_x > threshold:\n",
    "    print(\"　有意水準 %(significance)s で、有意な差があります\" %locals())\n",
    "else:\n",
    "    print(\"　有意水準 %(significance)s で、有意な差がありません\" %locals())"
   ]
  },
  {
   "cell_type": "code",
   "execution_count": 18,
   "metadata": {
    "collapsed": false
   },
   "outputs": [
    {
     "data": {
      "text/plain": [
       "(1, 56)"
      ]
     },
     "execution_count": 18,
     "metadata": {},
     "output_type": "execute_result"
    }
   ],
   "source": [
    "freedoma, freedomz"
   ]
  }
 ],
 "metadata": {
  "kernelspec": {
   "display_name": "Python 3",
   "language": "python",
   "name": "python3"
  },
  "language_info": {
   "codemirror_mode": {
    "name": "ipython",
    "version": 3
   },
   "file_extension": ".py",
   "mimetype": "text/x-python",
   "name": "python",
   "nbconvert_exporter": "python",
   "pygments_lexer": "ipython3",
   "version": "3.4.4"
  }
 },
 "nbformat": 4,
 "nbformat_minor": 0
}
