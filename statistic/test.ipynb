{
 "cells": [
  {
   "cell_type": "code",
   "execution_count": 1,
   "metadata": {
    "collapsed": true
   },
   "outputs": [],
   "source": [
    "import pandas as pd\n",
    "import matplotlib.pyplot as plt\n",
    "from scipy import stats\n",
    "import numpy as np\n",
    "from statsmodels.formula.api import ols\n",
    "from statsmodels.stats.anova import anova_lm\n",
    "from mpl_toolkits.mplot3d import Axes3D\n",
    "%matplotlib inline"
   ]
  },
  {
   "cell_type": "code",
   "execution_count": 2,
   "metadata": {
    "collapsed": true
   },
   "outputs": [],
   "source": [
    "age = pd.read_csv('age.csv')\n",
    "liter = pd.read_csv('liter.csv')"
   ]
  },
  {
   "cell_type": "code",
   "execution_count": 3,
   "metadata": {},
   "outputs": [
    {
     "data": {
      "text/html": [
       "<div>\n",
       "<style>\n",
       "    .dataframe thead tr:only-child th {\n",
       "        text-align: right;\n",
       "    }\n",
       "\n",
       "    .dataframe thead th {\n",
       "        text-align: left;\n",
       "    }\n",
       "\n",
       "    .dataframe tbody tr th {\n",
       "        vertical-align: top;\n",
       "    }\n",
       "</style>\n",
       "<table border=\"1\" class=\"dataframe\">\n",
       "  <thead>\n",
       "    <tr style=\"text-align: right;\">\n",
       "      <th></th>\n",
       "      <th>Series Name</th>\n",
       "      <th>Series Code</th>\n",
       "      <th>Country Name</th>\n",
       "      <th>Country Code</th>\n",
       "      <th>2012 [YR2012]</th>\n",
       "      <th>2013 [YR2013]</th>\n",
       "      <th>Life expandency at birth (2014) / yrs</th>\n",
       "      <th>2015 [YR2015]</th>\n",
       "      <th>2016 [YR2016]</th>\n",
       "      <th>Unnamed: 9</th>\n",
       "      <th>Series Name.1</th>\n",
       "      <th>Series Code.1</th>\n",
       "      <th>Country Name.1</th>\n",
       "      <th>Country Code.1</th>\n",
       "      <th>2012 [YR2012].1</th>\n",
       "      <th>2013 [YR2013].1</th>\n",
       "      <th>GNI per capita (2014) / $</th>\n",
       "      <th>2015 [YR2015].1</th>\n",
       "      <th>2016 [YR2016].1</th>\n",
       "    </tr>\n",
       "  </thead>\n",
       "  <tbody>\n",
       "    <tr>\n",
       "      <th>0</th>\n",
       "      <td>Life expectancy at birth, total (years)</td>\n",
       "      <td>SP.DYN.LE00.IN</td>\n",
       "      <td>Costa Rica</td>\n",
       "      <td>CRI</td>\n",
       "      <td>79.054512</td>\n",
       "      <td>79.231561</td>\n",
       "      <td>79.416854</td>\n",
       "      <td>79.608902</td>\n",
       "      <td>NaN</td>\n",
       "      <td>NaN</td>\n",
       "      <td>GNI per capita, Atlas method (current US$)</td>\n",
       "      <td>NY.GNP.PCAP.CD</td>\n",
       "      <td>Costa Rica</td>\n",
       "      <td>CRI</td>\n",
       "      <td>9210.0</td>\n",
       "      <td>9810.0</td>\n",
       "      <td>10200.0</td>\n",
       "      <td>10570.0</td>\n",
       "      <td>10840.0</td>\n",
       "    </tr>\n",
       "    <tr>\n",
       "      <th>1</th>\n",
       "      <td>Life expectancy at birth, total (years)</td>\n",
       "      <td>SP.DYN.LE00.IN</td>\n",
       "      <td>Lebanon</td>\n",
       "      <td>LBN</td>\n",
       "      <td>78.965415</td>\n",
       "      <td>79.150317</td>\n",
       "      <td>79.326268</td>\n",
       "      <td>79.498244</td>\n",
       "      <td>NaN</td>\n",
       "      <td>NaN</td>\n",
       "      <td>GNI per capita, Atlas method (current US$)</td>\n",
       "      <td>NY.GNP.PCAP.CD</td>\n",
       "      <td>Lebanon</td>\n",
       "      <td>LBN</td>\n",
       "      <td>8530.0</td>\n",
       "      <td>8450.0</td>\n",
       "      <td>8300.0</td>\n",
       "      <td>8050.0</td>\n",
       "      <td>7980.0</td>\n",
       "    </tr>\n",
       "    <tr>\n",
       "      <th>2</th>\n",
       "      <td>Life expectancy at birth, total (years)</td>\n",
       "      <td>SP.DYN.LE00.IN</td>\n",
       "      <td>Albania</td>\n",
       "      <td>ALB</td>\n",
       "      <td>77.448268</td>\n",
       "      <td>77.747098</td>\n",
       "      <td>77.998390</td>\n",
       "      <td>78.203146</td>\n",
       "      <td>NaN</td>\n",
       "      <td>NaN</td>\n",
       "      <td>GNI per capita, Atlas method (current US$)</td>\n",
       "      <td>NY.GNP.PCAP.CD</td>\n",
       "      <td>Albania</td>\n",
       "      <td>ALB</td>\n",
       "      <td>4360.0</td>\n",
       "      <td>4480.0</td>\n",
       "      <td>4440.0</td>\n",
       "      <td>4290.0</td>\n",
       "      <td>4180.0</td>\n",
       "    </tr>\n",
       "    <tr>\n",
       "      <th>3</th>\n",
       "      <td>Life expectancy at birth, total (years)</td>\n",
       "      <td>SP.DYN.LE00.IN</td>\n",
       "      <td>Panama</td>\n",
       "      <td>PAN</td>\n",
       "      <td>77.239049</td>\n",
       "      <td>77.432634</td>\n",
       "      <td>77.625439</td>\n",
       "      <td>77.817439</td>\n",
       "      <td>NaN</td>\n",
       "      <td>NaN</td>\n",
       "      <td>GNI per capita, Atlas method (current US$)</td>\n",
       "      <td>NY.GNP.PCAP.CD</td>\n",
       "      <td>Panama</td>\n",
       "      <td>PAN</td>\n",
       "      <td>9530.0</td>\n",
       "      <td>10510.0</td>\n",
       "      <td>11520.0</td>\n",
       "      <td>11730.0</td>\n",
       "      <td>12140.0</td>\n",
       "    </tr>\n",
       "    <tr>\n",
       "      <th>4</th>\n",
       "      <td>Life expectancy at birth, total (years)</td>\n",
       "      <td>SP.DYN.LE00.IN</td>\n",
       "      <td>Croatia</td>\n",
       "      <td>HRV</td>\n",
       "      <td>76.924390</td>\n",
       "      <td>77.126829</td>\n",
       "      <td>77.478049</td>\n",
       "      <td>77.275610</td>\n",
       "      <td>NaN</td>\n",
       "      <td>NaN</td>\n",
       "      <td>GNI per capita, Atlas method (current US$)</td>\n",
       "      <td>NY.GNP.PCAP.CD</td>\n",
       "      <td>Croatia</td>\n",
       "      <td>HRV</td>\n",
       "      <td>13460.0</td>\n",
       "      <td>13470.0</td>\n",
       "      <td>13150.0</td>\n",
       "      <td>12810.0</td>\n",
       "      <td>12140.0</td>\n",
       "    </tr>\n",
       "  </tbody>\n",
       "</table>\n",
       "</div>"
      ],
      "text/plain": [
       "                               Series Name     Series Code Country Name  \\\n",
       "0  Life expectancy at birth, total (years)  SP.DYN.LE00.IN   Costa Rica   \n",
       "1  Life expectancy at birth, total (years)  SP.DYN.LE00.IN      Lebanon   \n",
       "2  Life expectancy at birth, total (years)  SP.DYN.LE00.IN      Albania   \n",
       "3  Life expectancy at birth, total (years)  SP.DYN.LE00.IN       Panama   \n",
       "4  Life expectancy at birth, total (years)  SP.DYN.LE00.IN      Croatia   \n",
       "\n",
       "  Country Code  2012 [YR2012]  2013 [YR2013]  \\\n",
       "0          CRI      79.054512      79.231561   \n",
       "1          LBN      78.965415      79.150317   \n",
       "2          ALB      77.448268      77.747098   \n",
       "3          PAN      77.239049      77.432634   \n",
       "4          HRV      76.924390      77.126829   \n",
       "\n",
       "   Life expandency at birth (2014) / yrs  2015 [YR2015]  2016 [YR2016]  \\\n",
       "0                              79.416854      79.608902            NaN   \n",
       "1                              79.326268      79.498244            NaN   \n",
       "2                              77.998390      78.203146            NaN   \n",
       "3                              77.625439      77.817439            NaN   \n",
       "4                              77.478049      77.275610            NaN   \n",
       "\n",
       "   Unnamed: 9                               Series Name.1   Series Code.1  \\\n",
       "0         NaN  GNI per capita, Atlas method (current US$)  NY.GNP.PCAP.CD   \n",
       "1         NaN  GNI per capita, Atlas method (current US$)  NY.GNP.PCAP.CD   \n",
       "2         NaN  GNI per capita, Atlas method (current US$)  NY.GNP.PCAP.CD   \n",
       "3         NaN  GNI per capita, Atlas method (current US$)  NY.GNP.PCAP.CD   \n",
       "4         NaN  GNI per capita, Atlas method (current US$)  NY.GNP.PCAP.CD   \n",
       "\n",
       "  Country Name.1 Country Code.1  2012 [YR2012].1  2013 [YR2013].1  \\\n",
       "0     Costa Rica            CRI           9210.0           9810.0   \n",
       "1        Lebanon            LBN           8530.0           8450.0   \n",
       "2        Albania            ALB           4360.0           4480.0   \n",
       "3         Panama            PAN           9530.0          10510.0   \n",
       "4        Croatia            HRV          13460.0          13470.0   \n",
       "\n",
       "   GNI per capita (2014) / $  2015 [YR2015].1  2016 [YR2016].1  \n",
       "0                    10200.0          10570.0          10840.0  \n",
       "1                     8300.0           8050.0           7980.0  \n",
       "2                     4440.0           4290.0           4180.0  \n",
       "3                    11520.0          11730.0          12140.0  \n",
       "4                    13150.0          12810.0          12140.0  "
      ]
     },
     "execution_count": 3,
     "metadata": {},
     "output_type": "execute_result"
    }
   ],
   "source": [
    "age.head()"
   ]
  },
  {
   "cell_type": "code",
   "execution_count": 4,
   "metadata": {
    "collapsed": true
   },
   "outputs": [],
   "source": [
    "#retrieve only needed information\n",
    "age_data = age.iloc[:99,[3,6,16]]"
   ]
  },
  {
   "cell_type": "code",
   "execution_count": 5,
   "metadata": {},
   "outputs": [
    {
     "data": {
      "text/html": [
       "<div>\n",
       "<style>\n",
       "    .dataframe thead tr:only-child th {\n",
       "        text-align: right;\n",
       "    }\n",
       "\n",
       "    .dataframe thead th {\n",
       "        text-align: left;\n",
       "    }\n",
       "\n",
       "    .dataframe tbody tr th {\n",
       "        vertical-align: top;\n",
       "    }\n",
       "</style>\n",
       "<table border=\"1\" class=\"dataframe\">\n",
       "  <thead>\n",
       "    <tr style=\"text-align: right;\">\n",
       "      <th></th>\n",
       "      <th>Series Name</th>\n",
       "      <th>Series Code</th>\n",
       "      <th>Country Name</th>\n",
       "      <th>Country Code</th>\n",
       "      <th>2012 [YR2012]</th>\n",
       "      <th>2013 [YR2013]</th>\n",
       "      <th>2014 [YR2014]</th>\n",
       "      <th>2015 [YR2015]</th>\n",
       "      <th>2016 [YR2016]</th>\n",
       "      <th>count 2012-2016</th>\n",
       "      <th>...</th>\n",
       "      <th>Unnamed: 13</th>\n",
       "      <th>GNI per capita</th>\n",
       "      <th>Series Code.1</th>\n",
       "      <th>Country Name.1</th>\n",
       "      <th>Country Code.1</th>\n",
       "      <th>2012 [YR2012].1</th>\n",
       "      <th>2013 [YR2013].1</th>\n",
       "      <th>GNI per capita (2014) / $</th>\n",
       "      <th>2015 [YR2015].1</th>\n",
       "      <th>2016 [YR2016].1</th>\n",
       "    </tr>\n",
       "  </thead>\n",
       "  <tbody>\n",
       "    <tr>\n",
       "      <th>0</th>\n",
       "      <td>Literacy rate, adult total (% of people ages 1...</td>\n",
       "      <td>SE.ADT.LITR.ZS</td>\n",
       "      <td>Uzbekistan</td>\n",
       "      <td>UZB</td>\n",
       "      <td>NaN</td>\n",
       "      <td>99.99486</td>\n",
       "      <td>99.98055</td>\n",
       "      <td>99.98383</td>\n",
       "      <td>NaN</td>\n",
       "      <td>3</td>\n",
       "      <td>...</td>\n",
       "      <td>NaN</td>\n",
       "      <td>NaN</td>\n",
       "      <td>NY.GNP.PCAP.CD</td>\n",
       "      <td>Uzbekistan</td>\n",
       "      <td>UZB</td>\n",
       "      <td>1740.0</td>\n",
       "      <td>1970.0</td>\n",
       "      <td>2110.0</td>\n",
       "      <td>2170.0</td>\n",
       "      <td>2220.0</td>\n",
       "    </tr>\n",
       "    <tr>\n",
       "      <th>1</th>\n",
       "      <td>Literacy rate, adult total (% of people ages 1...</td>\n",
       "      <td>SE.ADT.LITR.ZS</td>\n",
       "      <td>Ukraine</td>\n",
       "      <td>UKR</td>\n",
       "      <td>99.97435</td>\n",
       "      <td>NaN</td>\n",
       "      <td>NaN</td>\n",
       "      <td>NaN</td>\n",
       "      <td>NaN</td>\n",
       "      <td>1</td>\n",
       "      <td>...</td>\n",
       "      <td>NaN</td>\n",
       "      <td>NaN</td>\n",
       "      <td>NY.GNP.PCAP.CD</td>\n",
       "      <td>Ukraine</td>\n",
       "      <td>UKR</td>\n",
       "      <td>3500.0</td>\n",
       "      <td>3800.0</td>\n",
       "      <td>3560.0</td>\n",
       "      <td>2650.0</td>\n",
       "      <td>2310.0</td>\n",
       "    </tr>\n",
       "    <tr>\n",
       "      <th>2</th>\n",
       "      <td>Literacy rate, adult total (% of people ages 1...</td>\n",
       "      <td>SE.ADT.LITR.ZS</td>\n",
       "      <td>Azerbaijan</td>\n",
       "      <td>AZE</td>\n",
       "      <td>99.77577</td>\n",
       "      <td>99.78936</td>\n",
       "      <td>99.78899</td>\n",
       "      <td>99.78806</td>\n",
       "      <td>99.79006</td>\n",
       "      <td>5</td>\n",
       "      <td>...</td>\n",
       "      <td>NaN</td>\n",
       "      <td>NaN</td>\n",
       "      <td>NY.GNP.PCAP.CD</td>\n",
       "      <td>Azerbaijan</td>\n",
       "      <td>AZE</td>\n",
       "      <td>6480.0</td>\n",
       "      <td>7450.0</td>\n",
       "      <td>7700.0</td>\n",
       "      <td>6550.0</td>\n",
       "      <td>4760.0</td>\n",
       "    </tr>\n",
       "    <tr>\n",
       "      <th>3</th>\n",
       "      <td>Literacy rate, adult total (% of people ages 1...</td>\n",
       "      <td>SE.ADT.LITR.ZS</td>\n",
       "      <td>Georgia</td>\n",
       "      <td>GEO</td>\n",
       "      <td>NaN</td>\n",
       "      <td>NaN</td>\n",
       "      <td>99.58619</td>\n",
       "      <td>NaN</td>\n",
       "      <td>NaN</td>\n",
       "      <td>1</td>\n",
       "      <td>...</td>\n",
       "      <td>NaN</td>\n",
       "      <td>NaN</td>\n",
       "      <td>NY.GNP.PCAP.CD</td>\n",
       "      <td>Georgia</td>\n",
       "      <td>GEO</td>\n",
       "      <td>3870.0</td>\n",
       "      <td>4240.0</td>\n",
       "      <td>4490.0</td>\n",
       "      <td>4120.0</td>\n",
       "      <td>3830.0</td>\n",
       "    </tr>\n",
       "    <tr>\n",
       "      <th>4</th>\n",
       "      <td>Literacy rate, adult total (% of people ages 1...</td>\n",
       "      <td>SE.ADT.LITR.ZS</td>\n",
       "      <td>Moldova</td>\n",
       "      <td>MDA</td>\n",
       "      <td>99.13831</td>\n",
       "      <td>NaN</td>\n",
       "      <td>NaN</td>\n",
       "      <td>NaN</td>\n",
       "      <td>NaN</td>\n",
       "      <td>1</td>\n",
       "      <td>...</td>\n",
       "      <td>NaN</td>\n",
       "      <td>NaN</td>\n",
       "      <td>NY.GNP.PCAP.CD</td>\n",
       "      <td>Moldova</td>\n",
       "      <td>MDA</td>\n",
       "      <td>2140.0</td>\n",
       "      <td>2470.0</td>\n",
       "      <td>2560.0</td>\n",
       "      <td>2230.0</td>\n",
       "      <td>2120.0</td>\n",
       "    </tr>\n",
       "  </tbody>\n",
       "</table>\n",
       "<p>5 rows × 23 columns</p>\n",
       "</div>"
      ],
      "text/plain": [
       "                                         Series Name     Series Code  \\\n",
       "0  Literacy rate, adult total (% of people ages 1...  SE.ADT.LITR.ZS   \n",
       "1  Literacy rate, adult total (% of people ages 1...  SE.ADT.LITR.ZS   \n",
       "2  Literacy rate, adult total (% of people ages 1...  SE.ADT.LITR.ZS   \n",
       "3  Literacy rate, adult total (% of people ages 1...  SE.ADT.LITR.ZS   \n",
       "4  Literacy rate, adult total (% of people ages 1...  SE.ADT.LITR.ZS   \n",
       "\n",
       "  Country Name Country Code 2012 [YR2012]  2013 [YR2013]  2014 [YR2014]  \\\n",
       "0   Uzbekistan          UZB           NaN       99.99486       99.98055   \n",
       "1      Ukraine          UKR      99.97435            NaN            NaN   \n",
       "2   Azerbaijan          AZE      99.77577       99.78936       99.78899   \n",
       "3      Georgia          GEO           NaN            NaN       99.58619   \n",
       "4      Moldova          MDA      99.13831            NaN            NaN   \n",
       "\n",
       "   2015 [YR2015]  2016 [YR2016] count 2012-2016       ...        Unnamed: 13  \\\n",
       "0       99.98383            NaN               3       ...                NaN   \n",
       "1            NaN            NaN               1       ...                NaN   \n",
       "2       99.78806       99.79006               5       ...                NaN   \n",
       "3            NaN            NaN               1       ...                NaN   \n",
       "4            NaN            NaN               1       ...                NaN   \n",
       "\n",
       "   GNI per capita   Series Code.1  Country Name.1  Country Code.1  \\\n",
       "0             NaN  NY.GNP.PCAP.CD      Uzbekistan             UZB   \n",
       "1             NaN  NY.GNP.PCAP.CD         Ukraine             UKR   \n",
       "2             NaN  NY.GNP.PCAP.CD      Azerbaijan             AZE   \n",
       "3             NaN  NY.GNP.PCAP.CD         Georgia             GEO   \n",
       "4             NaN  NY.GNP.PCAP.CD         Moldova             MDA   \n",
       "\n",
       "  2012 [YR2012].1 2013 [YR2013].1 GNI per capita (2014) / $  2015 [YR2015].1  \\\n",
       "0          1740.0          1970.0                    2110.0           2170.0   \n",
       "1          3500.0          3800.0                    3560.0           2650.0   \n",
       "2          6480.0          7450.0                    7700.0           6550.0   \n",
       "3          3870.0          4240.0                    4490.0           4120.0   \n",
       "4          2140.0          2470.0                    2560.0           2230.0   \n",
       "\n",
       "   2016 [YR2016].1  \n",
       "0           2220.0  \n",
       "1           2310.0  \n",
       "2           4760.0  \n",
       "3           3830.0  \n",
       "4           2120.0  \n",
       "\n",
       "[5 rows x 23 columns]"
      ]
     },
     "execution_count": 5,
     "metadata": {},
     "output_type": "execute_result"
    }
   ],
   "source": [
    "liter.head()"
   ]
  },
  {
   "cell_type": "code",
   "execution_count": 6,
   "metadata": {
    "collapsed": true
   },
   "outputs": [],
   "source": [
    "liter_data = liter.iloc[:49,[3,11]]"
   ]
  },
  {
   "cell_type": "code",
   "execution_count": 7,
   "metadata": {
    "collapsed": true
   },
   "outputs": [],
   "source": [
    "age_countries = age_data.iloc[:,0].as_matrix()\n",
    "liter_countries = liter_data.iloc[:,0].as_matrix()"
   ]
  },
  {
   "cell_type": "code",
   "execution_count": 8,
   "metadata": {},
   "outputs": [
    {
     "data": {
      "text/plain": [
       "(array(['CRI', 'LBN', 'ALB', 'PAN', 'HRV', 'MDV', 'MEX', 'MNE', 'BIH',\n",
       "        'ARG', 'CHN', 'ECU', 'VNM', 'JAM', 'DZA', 'IRN', 'MKD', 'SRB',\n",
       "        'TUN', 'MAR', 'TUR', 'LCA', 'MYS', 'ROU', 'BRA', 'THA', 'LKA',\n",
       "        'NIC', 'WSM', 'PER', 'BGR', 'MUS', 'JOR', 'ARM', 'COL', 'DOM',\n",
       "        'GRD', 'HND', 'PSE', 'BLR', 'VCT', 'PRY', 'GEO', 'GTM', 'SLV',\n",
       "        'TON', 'CPV', 'BGD', 'VUT', 'AZE', 'KAZ', 'UKR', 'MDA', 'SUR',\n",
       "        'EGY', 'XKX', 'UZB', 'TJK', 'RUS', 'KGZ', 'SLB', 'BLZ', 'FJI',\n",
       "        'IRQ', 'BTN', 'FSM', 'MNG', 'PHL', 'IDN', 'BOL', 'TLS', 'KHM',\n",
       "        'IND', 'TKM', 'GUY', 'STP', 'MMR', 'KEN', 'PAK', 'LAO', 'KIR',\n",
       "        'PNG', 'GAB', 'BWA', 'YEM', 'SDN', 'COG', 'MRT', 'NAM', 'GHA',\n",
       "        'ZAF', 'AGO', 'ZMB', 'GNQ', 'CMR', 'SWZ', 'LSO', 'CIV', 'NGA'], dtype=object),\n",
       " array(['UZB', 'UKR', 'AZE', 'GEO', 'MDA', 'SRB', 'MDV', 'ARG', 'JOR',\n",
       "        'ALB', 'BIH', 'PSE', 'PHL', 'TUR', 'IDN', 'PRY', 'MEX', 'COL',\n",
       "        'ZAF', 'PER', 'ECU', 'BOL', 'THA', 'SUR', 'MUS', 'BRA', 'DOM',\n",
       "        'STP', 'SLV', 'HND', 'CPV', 'GUY', 'IRN', 'GAB', 'TUN', 'GTM',\n",
       "        'KEN', 'LSO', 'MMR', 'EGY', 'BGD', 'MAR', 'AGO', 'BTN', 'PAK',\n",
       "        'IRQ', 'CIV', 'CUB', 'VEN'], dtype=object))"
      ]
     },
     "execution_count": 8,
     "metadata": {},
     "output_type": "execute_result"
    }
   ],
   "source": [
    "age_countries, liter_countries"
   ]
  },
  {
   "cell_type": "code",
   "execution_count": 9,
   "metadata": {
    "collapsed": true
   },
   "outputs": [],
   "source": [
    "#Find co-exist country \n",
    "co_countries = set(liter_countries) & set(age_countries)"
   ]
  },
  {
   "cell_type": "code",
   "execution_count": 10,
   "metadata": {
    "scrolled": true
   },
   "outputs": [
    {
     "data": {
      "text/plain": [
       "47"
      ]
     },
     "execution_count": 10,
     "metadata": {},
     "output_type": "execute_result"
    }
   ],
   "source": [
    "len(co_countries)"
   ]
  },
  {
   "cell_type": "code",
   "execution_count": 11,
   "metadata": {
    "collapsed": true
   },
   "outputs": [],
   "source": [
    "#Search for the countries' index through the data\n",
    "liter_picked = []\n",
    "age_picked = []\n",
    "test1 = liter_data.iloc[:,0]\n",
    "test2 = age_data.iloc[:,0]\n",
    "for con in co_countries:\n",
    "    liter_picked.append(np.argwhere(liter_countries == con)[0,0])\n",
    "    age_picked.append(np.argwhere(age_countries == con)[0,0])"
   ]
  },
  {
   "cell_type": "code",
   "execution_count": 12,
   "metadata": {},
   "outputs": [
    {
     "data": {
      "text/plain": [
       "[52,\n",
       " 74,\n",
       " 11,\n",
       " 90,\n",
       " 91,\n",
       " 15,\n",
       " 49,\n",
       " 82,\n",
       " 78,\n",
       " 46,\n",
       " 24,\n",
       " 75,\n",
       " 18,\n",
       " 51,\n",
       " 20,\n",
       " 76,\n",
       " 53,\n",
       " 96,\n",
       " 64,\n",
       " 6,\n",
       " 69,\n",
       " 34,\n",
       " 2,\n",
       " 67,\n",
       " 63,\n",
       " 35,\n",
       " 37,\n",
       " 47,\n",
       " 41,\n",
       " 42,\n",
       " 17,\n",
       " 9,\n",
       " 31,\n",
       " 44,\n",
       " 97,\n",
       " 29,\n",
       " 38,\n",
       " 25,\n",
       " 54,\n",
       " 19,\n",
       " 56,\n",
       " 5,\n",
       " 68,\n",
       " 8,\n",
       " 77,\n",
       " 32,\n",
       " 43]"
      ]
     },
     "execution_count": 12,
     "metadata": {},
     "output_type": "execute_result"
    }
   ],
   "source": [
    "age_picked"
   ]
  },
  {
   "cell_type": "code",
   "execution_count": 17,
   "metadata": {
    "scrolled": false
   },
   "outputs": [
    {
     "name": "stderr",
     "output_type": "stream",
     "text": [
      "C:\\Anaconda\\lib\\site-packages\\ipykernel_launcher.py:10: SettingWithCopyWarning: \n",
      "A value is trying to be set on a copy of a slice from a DataFrame.\n",
      "Try using .loc[row_indexer,col_indexer] = value instead\n",
      "\n",
      "See the caveats in the documentation: http://pandas.pydata.org/pandas-docs/stable/indexing.html#indexing-view-versus-copy\n",
      "  # Remove the CWD from sys.path while we load stuff.\n",
      "C:\\Anaconda\\lib\\site-packages\\ipykernel_launcher.py:12: SettingWithCopyWarning: \n",
      "A value is trying to be set on a copy of a slice from a DataFrame.\n",
      "Try using .loc[row_indexer,col_indexer] = value instead\n",
      "\n",
      "See the caveats in the documentation: http://pandas.pydata.org/pandas-docs/stable/indexing.html#indexing-view-versus-copy\n",
      "  if sys.path[0] == '':\n",
      "C:\\Anaconda\\lib\\site-packages\\ipykernel_launcher.py:13: SettingWithCopyWarning: \n",
      "A value is trying to be set on a copy of a slice from a DataFrame.\n",
      "Try using .loc[row_indexer,col_indexer] = value instead\n",
      "\n",
      "See the caveats in the documentation: http://pandas.pydata.org/pandas-docs/stable/indexing.html#indexing-view-versus-copy\n",
      "  del sys.path[0]\n"
     ]
    }
   ],
   "source": [
    "best_pair = []\n",
    "x1_loop = np.arange(5,50,5)\n",
    "x2_loop = np.arange(5,50,5)\n",
    "best_rsq = 0\n",
    "for i in x1_loop:\n",
    "    for j in x2_loop:\n",
    "        filter_age = age_data.iloc[age_picked]\n",
    "        filter_liter = liter_data.iloc[liter_picked]\n",
    "        temp = filter_liter.iloc[:,1].as_matrix()\n",
    "        filter_age['liter_rate'] = temp\n",
    "        filter_age.columns = ['code','x1','y','x2']\n",
    "        filter_age[\"x2\"] = np.exp((filter_age['x2']-100)/j)\n",
    "        filter_age['x1'] = np.exp((filter_age['x1'] - 70)/i)\n",
    "        model = ols(\"y ~ x1 + x2\", filter_age).fit()\n",
    "        rsq = model.rsquared\n",
    "        if rsq > best_rsq:\n",
    "            best_rsq = rsq\n",
    "            best_pair = [i,j]"
   ]
  },
  {
   "cell_type": "code",
   "execution_count": 18,
   "metadata": {
    "scrolled": true
   },
   "outputs": [
    {
     "name": "stderr",
     "output_type": "stream",
     "text": [
      "C:\\Anaconda\\lib\\site-packages\\ipykernel_launcher.py:4: SettingWithCopyWarning: \n",
      "A value is trying to be set on a copy of a slice from a DataFrame.\n",
      "Try using .loc[row_indexer,col_indexer] = value instead\n",
      "\n",
      "See the caveats in the documentation: http://pandas.pydata.org/pandas-docs/stable/indexing.html#indexing-view-versus-copy\n",
      "  after removing the cwd from sys.path.\n",
      "C:\\Anaconda\\lib\\site-packages\\ipykernel_launcher.py:6: SettingWithCopyWarning: \n",
      "A value is trying to be set on a copy of a slice from a DataFrame.\n",
      "Try using .loc[row_indexer,col_indexer] = value instead\n",
      "\n",
      "See the caveats in the documentation: http://pandas.pydata.org/pandas-docs/stable/indexing.html#indexing-view-versus-copy\n",
      "  \n",
      "C:\\Anaconda\\lib\\site-packages\\ipykernel_launcher.py:7: SettingWithCopyWarning: \n",
      "A value is trying to be set on a copy of a slice from a DataFrame.\n",
      "Try using .loc[row_indexer,col_indexer] = value instead\n",
      "\n",
      "See the caveats in the documentation: http://pandas.pydata.org/pandas-docs/stable/indexing.html#indexing-view-versus-copy\n",
      "  import sys\n"
     ]
    }
   ],
   "source": [
    "filter_age = age_data.iloc[age_picked]\n",
    "filter_liter = liter_data.iloc[liter_picked]\n",
    "temp = filter_liter.iloc[:,1].as_matrix()\n",
    "filter_age['liter_rate'] = temp\n",
    "filter_age.columns = ['code','x1','y','x2']\n",
    "filter_age[\"x2\"] = np.exp((filter_age['x2']-100)/best_pair[1])\n",
    "filter_age['x1'] = np.exp((filter_age['x1'] - 70)/best_pair[0])\n",
    "model = ols(\"y ~ x1 + x2\", filter_age).fit()"
   ]
  },
  {
   "cell_type": "code",
   "execution_count": 20,
   "metadata": {},
   "outputs": [
    {
     "data": {
      "text/plain": [
       "[5, 30]"
      ]
     },
     "execution_count": 20,
     "metadata": {},
     "output_type": "execute_result"
    }
   ],
   "source": [
    "best_pair"
   ]
  },
  {
   "cell_type": "code",
   "execution_count": 19,
   "metadata": {
    "scrolled": false
   },
   "outputs": [
    {
     "name": "stdout",
     "output_type": "stream",
     "text": [
      "                            OLS Regression Results                            \n",
      "==============================================================================\n",
      "Dep. Variable:                      y   R-squared:                       0.276\n",
      "Model:                            OLS   Adj. R-squared:                  0.243\n",
      "Method:                 Least Squares   F-statistic:                     8.399\n",
      "Date:                Fri, 26 Jan 2018   Prob (F-statistic):           0.000814\n",
      "Time:                        04:12:07   Log-Likelihood:                -437.08\n",
      "No. Observations:                  47   AIC:                             880.2\n",
      "Df Residuals:                      44   BIC:                             885.7\n",
      "Df Model:                           2                                         \n",
      "Covariance Type:            nonrobust                                         \n",
      "==============================================================================\n",
      "                 coef    std err          t      P>|t|      [0.025      0.975]\n",
      "------------------------------------------------------------------------------\n",
      "Intercept   1414.8359   1218.924      1.161      0.252   -1041.745    3871.417\n",
      "x1          1087.5647    382.184      2.846      0.007     317.324    1857.806\n",
      "x2          2490.3023   1846.833      1.348      0.184   -1231.745    6212.350\n",
      "==============================================================================\n",
      "Omnibus:                        6.016   Durbin-Watson:                   2.036\n",
      "Prob(Omnibus):                  0.049   Jarque-Bera (JB):                5.869\n",
      "Skew:                           0.861   Prob(JB):                       0.0532\n",
      "Kurtosis:                       2.826   Cond. No.                         12.7\n",
      "==============================================================================\n",
      "\n",
      "Warnings:\n",
      "[1] Standard Errors assume that the covariance matrix of the errors is correctly specified.\n",
      "\n",
      "Retrieving manually the parameter estimates:\n",
      "[ 1414.83591483  1087.56472014  2490.30226229]\n",
      "\n",
      "ANOVA results\n",
      "            df        sum_sq       mean_sq          F    PR(>F)\n",
      "x1         1.0  1.119717e+08  1.119717e+08  14.979175  0.000356\n",
      "x2         1.0  1.359156e+07  1.359156e+07   1.818230  0.184424\n",
      "Residual  44.0  3.289070e+08  7.475160e+06        NaN       NaN\n"
     ]
    },
    {
     "name": "stderr",
     "output_type": "stream",
     "text": [
      "C:\\Anaconda\\lib\\site-packages\\scipy\\stats\\_distn_infrastructure.py:879: RuntimeWarning: invalid value encountered in greater\n",
      "  return (self.a < x) & (x < self.b)\n",
      "C:\\Anaconda\\lib\\site-packages\\scipy\\stats\\_distn_infrastructure.py:879: RuntimeWarning: invalid value encountered in less\n",
      "  return (self.a < x) & (x < self.b)\n",
      "C:\\Anaconda\\lib\\site-packages\\scipy\\stats\\_distn_infrastructure.py:1821: RuntimeWarning: invalid value encountered in less_equal\n",
      "  cond2 = cond0 & (x <= self.a)\n"
     ]
    }
   ],
   "source": [
    "print(model.summary())\n",
    "\n",
    "print(\"\\nRetrieving manually the parameter estimates:\")\n",
    "print(model._results.params)\n",
    "anova_results = anova_lm(model)\n",
    "\n",
    "print('\\nANOVA results')\n",
    "print(anova_results)"
   ]
  },
  {
   "cell_type": "code",
   "execution_count": 20,
   "metadata": {
    "collapsed": true,
    "scrolled": false
   },
   "outputs": [],
   "source": [
    "X1, X2, Y = filter_age.iloc[:,[1,3,2]].as_matrix().T"
   ]
  },
  {
   "cell_type": "code",
   "execution_count": 21,
   "metadata": {},
   "outputs": [
    {
     "data": {
      "image/png": "[encoded data removed]",
      "text/plain": [
       "<matplotlib.figure.Figure at 0x178dbff3dd8>"
      ]
     },
     "metadata": {},
     "output_type": "display_data"
    }
   ],
   "source": [
    "fig = plt.figure()\n",
    "ax = fig.gca(projection='3d')\n",
    "surf = ax.scatter(X1, X2, Y)\n",
    "ax.view_init(20, -70)\n",
    "ax.set_xlabel('X1')\n",
    "ax.set_ylabel('X2')\n",
    "ax.set_zlabel('Y')\n",
    "plt.show()"
   ]
  }
 ],
 "metadata": {
  "kernelspec": {
   "display_name": "Python 3",
   "language": "python",
   "name": "python3"
  },
  "language_info": {
   "codemirror_mode": {
    "name": "ipython",
    "version": 3
   },
   "file_extension": ".py",
   "mimetype": "text/x-python",
   "name": "python",
   "nbconvert_exporter": "python",
   "pygments_lexer": "ipython3",
   "version": "3.6.1"
  }
 },
 "nbformat": 4,
 "nbformat_minor": 2
}
