{
 "cells": [
  {
   "cell_type": "markdown",
   "metadata": {},
   "source": [
    "# ハンバーガー統計学 with Python 第1章\n",
    "\n",
    "第１回講義（2017年9月26日講義、9月29日課題提出締切）\n",
    "\n",
    "このページは、<a href=\"http://kogolab.chillout.jp/elearn/hamburger/index.html\" target=\"_blank\">ハンバーガー統計学にようこそ！</a>の内容をプログラミング言語 Python に合わせて書き直したものです（著作権者の許諾を得て利用しております）。"
   ]
  },
  {
   "cell_type": "markdown",
   "metadata": {},
   "source": [
    "<h1 STYLE=\"background: #c2edff;padding: 0.5em;\"><a href=\"http://kogolab.chillout.jp/elearn/hamburger/chap1/sec0.html\" target=\"_blank\">第1章 平均と分散</a></h1>\n",
    "\n",
    "<img src=\"image/w-potato00001.jpg\">\n",
    "\n",
    "あなたは、お腹がすいたので、ちょうど近くにあったハンバーガーのお店「ワクワクハンバーガー」に行くことにしました。\n",
    "\n",
    "ここで買ったフライドポテト。\n",
    "\n",
    "これがお話の始まりでした。"
   ]
  },
  {
   "cell_type": "markdown",
   "metadata": {
    "collapsed": true
   },
   "source": [
    "<h2 STYLE=\"background: #c2edff;padding: 0.5em;\"><a href=\"http://kogolab.chillout.jp/elearn/hamburger/chap1/sec1.html\" target=\"_blank\">1.1 ポテトの長さの平均は</a></h2>\n",
    "<img src=\"image/salesman00002.jpg\">\n",
    "「いらっしゃいませ！　ハンバーガーと一緒にポテトもいかがですか？」\n",
    "\n",
    "「じゃあ、ポテトもつけて。」\n",
    "\n",
    "<img src=\"image/w-potato00001.jpg\">\n",
    "\n",
    "「あれ？　短い？」\n",
    "\n",
    "席に着いたあなたはポテトを見て思いました。他のお店のポテトより分量が少ない気がします。そう思ったのは、ポテトが短く見えたからです。\n",
    "\n",
    "そこで、勇気のあるあなたは、お店の人に尋ねました。\n",
    "\n",
    "「このポテト、他のお店のより、短いんじゃないですか？」\n",
    "\n",
    "<img src=\"image/salesman00003.jpg\">\n",
    "\n",
    "「いやぁこんなもんですよ、どのお店も。」\n",
    "\n",
    "「そうかなあ…… 」\n",
    "\n",
    "その場はいったん引き下がることにしました。しかし、あなたのわだかまりはとれません。\n",
    "\n",
    "店員さんに軽くあしらわれないようにするためには、この店と別の店で作っているポテトの長さを、きちんとつかんでおくことが必要です。あなたが買ったポテトが、別のお店のポテトよりも短いことが分かれば、きっぱりと文句を付けられます。"
   ]
  },
  {
   "cell_type": "markdown",
   "metadata": {},
   "source": [
    "<h4 style=\"border-bottom: solid 1px black;\">ポテトの長さの平均を計算する</h4>\n",
    "\n",
    "あなたは、比較するために、ワクワクバーガーの対抗店であるモグモグバーガーのポテトを買ってきました。\n",
    "\n",
    "<img src=\"image/m-potato00001.jpg\">\n",
    "\n",
    "ワクワクバーガーのポテトとモグモグバーガーのポテトを見た目で比較すると、入っているポテトの本数と太さは同じですが、やはり長さが違うようです。そこで、すべてのポテトの長さを調べ、ポテトの長さの平均値を計算してみることにしました。"
   ]
  },
  {
   "cell_type": "markdown",
   "metadata": {},
   "source": [
    "<h4 style=\"border-bottom: solid 1px black;\">平均値を計算する</h4>\n",
    "\n",
    "まず、ワクワクバーガーの平均値を計算してみましょう。ここではポテトの長さの平均値を計算します。\n",
    "\n",
    "下のデータは、あなたが買ったワクワクバーガーのポテトに入っていたポテトの長さ（全部で49本／単位はcm）を測ったものです。このデータを使って、ワクワクバーガーのポテトの平均の長さを計算してみましょう。\n",
    "\n",
    "ワクワクバーガーのポテトの長さ（49本分）\n",
    "https://raw.githubusercontent.com/maskot1977/ipython_notebook/master/toydata/wakuwaku_potato.txt\n",
    "\n",
    "平均の計算の仕方を思い出しましょう。\n",
    "\n",
    "平均の計算は、次のようにして求めます。\n",
    "\n",
    "* まず、ポテトの長さをすべて足して総和を求める\n",
    "* 総和をポテトの個数で割る\n",
    " \n",
    "それでは計算してみましょう。"
   ]
  },
  {
   "cell_type": "code",
   "execution_count": 1,
   "metadata": {
    "collapsed": true
   },
   "outputs": [],
   "source": [
    "# URL によるリソースへのアクセスを提供するライブラリをインポートする。\n",
    "#import urllib # Python 2 の場合\n",
    "import urllib.request # Python 3 の場合"
   ]
  },
  {
   "cell_type": "code",
   "execution_count": 2,
   "metadata": {
    "collapsed": true
   },
   "outputs": [],
   "source": [
    "# ウェブ上のリソースを指定する\n",
    "url = 'https://raw.githubusercontent.com/maskot1977/ipython_notebook/master/toydata/wakuwaku_potato.txt'a"
   ]
  },
  {
   "cell_type": "code",
   "execution_count": 3,
   "metadata": {},
   "outputs": [
    {
     "data": {
      "text/plain": [
       "('wakuwaku_potato.txt', <http.client.HTTPMessage at 0x105393048>)"
      ]
     },
     "execution_count": 3,
     "metadata": {},
     "output_type": "execute_result"
    }
   ],
   "source": [
    "# 指定したURLからリソースをダウンロードし、名前をつける。\n",
    "#urllib.urlretrieve(url, 'wakuwaku_potato.txt') # Python 2 の場合\n",
    "urllib.request.urlretrieve(url, 'wakuwaku_potato.txt') # Python 3 の場合"
   ]
  },
  {
   "cell_type": "code",
   "execution_count": 4,
   "metadata": {},
   "outputs": [
    {
     "name": "stdout",
     "output_type": "stream",
     "text": [
      "3.5\n",
      "3.8\n",
      "5.8\n",
      "6.4\n",
      "4.2\n",
      "4.2\n",
      "4.0\n",
      "3.6\n",
      "3.8\n",
      "5.2\n",
      "4.9\n",
      "5.2\n",
      "6.0\n",
      "3.9\n",
      "5.3\n",
      "4.6\n",
      "3.9\n",
      "4.2\n",
      "4.2\n",
      "6.4\n",
      "2.8\n",
      "5.6\n",
      "5.7\n",
      "5.1\n",
      "4.4\n",
      "5.6\n",
      "5.3\n",
      "3.9\n",
      "5.1\n",
      "3.6\n",
      "4.2\n",
      "5.0\n",
      "4.7\n",
      "4.1\n",
      "3.7\n",
      "4.9\n",
      "4.7\n",
      "5.3\n",
      "3.6\n",
      "4.2\n",
      "4.4\n",
      "4.0\n",
      "5.5\n",
      "4.2\n",
      "4.8\n",
      "3.7\n",
      "3.1\n",
      "4.7\n",
      "5.0\n"
     ]
    }
   ],
   "source": [
    "# ファイルをオープンし長さのデータを読み込み、出力する。\n",
    "for line in open('wakuwaku_potato.txt'):\n",
    "    print(float(line))"
   ]
  },
  {
   "cell_type": "code",
   "execution_count": 5,
   "metadata": {},
   "outputs": [],
   "source": [
    "# ファイルをオープンし長さのデータを読み込み、wakuwakuという名のリストに格納する。\n",
    "wakuwaku = []\n",
    "for line in open('wakuwaku_potato.txt'):\n",
    "    wakuwaku.append(float(line))"
   ]
  },
  {
   "cell_type": "code",
   "execution_count": 6,
   "metadata": {},
   "outputs": [
    {
     "name": "stdout",
     "output_type": "stream",
     "text": [
      "[3.5, 3.8, 5.8, 6.4, 4.2, 4.2, 4.0, 3.6, 3.8, 5.2, 4.9, 5.2, 6.0, 3.9, 5.3, 4.6, 3.9, 4.2, 4.2, 6.4, 2.8, 5.6, 5.7, 5.1, 4.4, 5.6, 5.3, 3.9, 5.1, 3.6, 4.2, 5.0, 4.7, 4.1, 3.7, 4.9, 4.7, 5.3, 3.6, 4.2, 4.4, 4.0, 5.5, 4.2, 4.8, 3.7, 3.1, 4.7, 5.0]\n"
     ]
    }
   ],
   "source": [
    "# 格納したデータの確認\n",
    "print(wakuwaku)"
   ]
  },
  {
   "cell_type": "code",
   "execution_count": 7,
   "metadata": {},
   "outputs": [
    {
     "name": "stdout",
     "output_type": "stream",
     "text": [
      "4.571428571428569\n"
     ]
    }
   ],
   "source": [
    "# 平均長を求める\n",
    "sum = 0\n",
    "for length in wakuwaku:\n",
    "    sum += length\n",
    "print (sum / len(wakuwaku))"
   ]
  },
  {
   "cell_type": "markdown",
   "metadata": {},
   "source": [
    "<h4 style=\"padding: 0.25em 0.5em;color: #494949;background: transparent;border-left: solid 5px #7db4e6;\">課題1.1</h4>\n",
    "\n",
    "[モグモグポテトの長さ](https://raw.githubusercontent.com/maskot1977/ipython_notebook/master/toydata/mogumogu_potato.txt)のデータをダウンロードし、モグモグポテトの平均長を求めてください。"
   ]
  },
  {
   "cell_type": "code",
   "execution_count": 8,
   "metadata": {},
   "outputs": [
    {
     "data": {
      "text/plain": [
       "('mogumogu_potato.txt', <http.client.HTTPMessage at 0x105d93b00>)"
      ]
     },
     "execution_count": 8,
     "metadata": {},
     "output_type": "execute_result"
    }
   ],
   "source": [
    "# 課題1.1\n",
    "url = 'https://raw.githubusercontent.com/maskot1977/ipython_notebook/master/toydata/mogumogu_potato.txt'\n",
    "urllib.request.urlretrieve(url, 'mogumogu_potato.txt')"
   ]
  },
  {
   "cell_type": "code",
   "execution_count": 9,
   "metadata": {},
   "outputs": [
    {
     "name": "stdout",
     "output_type": "stream",
     "text": [
      "4.614285714285713\n"
     ]
    }
   ],
   "source": [
    "mogumogu = []\n",
    "sum = 0\n",
    "for line in open('mogumogu_potato.txt'):\n",
    "    mogumogu.append(float(line))\n",
    "    sum += float(line)\n",
    "print(sum/len(mogumogu))"
   ]
  },
  {
   "cell_type": "markdown",
   "metadata": {},
   "source": [
    "<h4 style=\"border-bottom: solid 1px black;\">ポテトの長さを比較する</h4>\n",
    "\n",
    "計算できましたか？\n",
    "\n",
    "私の計算では、モグモグのポテトの長さの平均は4.61cmになりました。\n",
    "\n",
    "ワクワクバーガーのポテトの平均値が4.57cmですから、両者の平均値の間には、0.04cmしか差がないということです。これは非常に小さな差です。\n",
    "\n",
    "しかし、あなたはまだ納得がいきません。\n",
    "\n",
    "なぜ？　見た目の長さはこんなに違うのに……という思いが強くあります。ポテトをよく見てみると、モグモグバーガーのポテトは、確かに長いものもあるのですが、短いものもはいっています。それに比べて、ワクワクバーガーのポテトは割合と長さがそろっています。\n",
    "\n",
    "<table border=0><tr><td border=0><img src=\"image/w-potato00001.jpg\"></td>\n",
    "<td><img src=\"image/m-potato00001.jpg\"></td></tr></table>\n",
    "\n",
    "このために見た目の長さは違うのに、平均値を取ってみると違いがないということになっているようです。"
   ]
  },
  {
   "cell_type": "markdown",
   "metadata": {},
   "source": [
    "<h2 STYLE=\"background: #c2edff;padding: 0.5em;\"><a href=\"http://kogolab.chillout.jp/elearn/hamburger/chap1/sec2.html\" target=\"_blank\">1.2 度数分布</a></h2>\n",
    "\n",
    "<h4 style=\"border-bottom: solid 1px black;\">分布を調べる</h4>\n",
    "\n",
    "どうも平均を調べただけでは、ダメらしいということがわかってきました。そこで、ヒストグラム（度数分布）を描いてみましょう。"
   ]
  },
  {
   "cell_type": "code",
   "execution_count": 9,
   "metadata": {
    "collapsed": true
   },
   "outputs": [],
   "source": [
    "# 図やグラフを図示するためのライブラリをインポートする。\n",
    "import matplotlib.pyplot as plt\n",
    "%matplotlib inline"
   ]
  },
  {
   "cell_type": "code",
   "execution_count": 10,
   "metadata": {},
   "outputs": [
    {
     "data": {
      "image/png": "[encoded data removed]",
      "text/plain": [
       "<matplotlib.figure.Figure at 0x108119b70>"
      ]
     },
     "metadata": {},
     "output_type": "display_data"
    }
   ],
   "source": [
    "# ヒストグラム（度数分布）を描く\n",
    "plt.hist(wakuwaku)\n",
    "plt.show()"
   ]
  },
  {
   "cell_type": "markdown",
   "metadata": {},
   "source": [
    "<h4 style=\"padding: 0.25em 0.5em;color: #494949;background: transparent;border-left: solid 5px #7db4e6;\">課題1.2</h4>\n",
    "\n",
    "[モグモグポテトの長さ](https://raw.githubusercontent.com/maskot1977/ipython_notebook/master/toydata/mogumogu_potato.txt)のデータをダウンロードし、モグモグポテトの長さのヒストグラムを描いてください。"
   ]
  },
  {
   "cell_type": "code",
   "execution_count": 11,
   "metadata": {
    "collapsed": true
   },
   "outputs": [],
   "source": [
    "# 課題1.2"
   ]
  },
  {
   "cell_type": "markdown",
   "metadata": {},
   "source": [
    "2つの度数分布図を比較してみると、ワクワクバーガーよりもモグモグバーガーのポテトの方が長さのばらつきが大きいことが、目で見てわかります。\n",
    "\n"
   ]
  },
  {
   "cell_type": "markdown",
   "metadata": {},
   "source": [
    "<h2 STYLE=\"background: #c2edff;padding: 0.5em;\"><a href=\"http://kogolab.chillout.jp/elearn/hamburger/chap1/sec3.html\" target=\"_blank\">1.3 ばらつきを数字にする</a></h2>\n",
    "\n",
    "<h4 style=\"border-bottom: solid 1px black;\">データのばらつきを数値で表す</h4>\n",
    "\n",
    "データのばらつきを目で見るためには度数分布図を描けばいいのですが、これをひとつの数値で表すことができれば便利です。つまり、「このポテトの長さの平均値はいくら」というのと同じように「このポテトの長さのばらつきはいくら」という数値が欲しいわけです。どのようにすればいいでしょうか。\n",
    "\n",
    "そのことを考えるために、今、ポテトを長さの順に並べてみましょう。そして平均値のところに線をいれてみると、次の図のようになります。ばらつきの小さいワクワクバーガーのポテトは平均値からのずれが小さいのに対して、ばらつきの大きいモグモグバーガーのポテトは平均値からのずれが大きくなります。\n",
    "\n",
    "<img src=\"image/fig1003.jpg\">\n",
    "\n",
    "そこで、平均値からのずれ（つまり個々のデータと平均値との差）を足せば、ばらつきの数値になるのではないかと考えます。つまり、\n",
    "\n",
    "ばらつき案1＝（データ－平均値）の総和\n",
    "\n",
    "ということです。しかし、これですと、データが小さいときに（データ－平均値）はマイナスになるので、総和を求めてもゼロになってしまいます。そこで、２乗することでマイナスをプラスにします。次の案はこうなります。\n",
    "\n",
    "ばらつき案2＝（（データ－平均値）の２乗）の総和\n",
    "\n",
    "しかし、まだ問題があります。この式ですと、データの個数が大きくなるにつれてばらつきが大きくなってしまいます。個数の大小にかかわらず、ばらつきを求めたいのです。そこで、総和をデータの個数で割ることにします。式は、\n",
    "\n",
    "ばらつき案3＝（（データ－平均値）の２乗）の総和÷個数\n",
    "\n",
    "これで良さそうです。この「ばらつき3」のことを「分散」と呼びます。もう一度式を書いておきましょう。\n",
    "\n",
    "分散＝（（データ－平均値）の２乗）の総和÷個数\n",
    "\n",
    "分散は、データが平均値を中心にして、どのくらいばらついているのかを示した数値です。これを図解で示してみると、次の図のようになります。\n",
    "\n",
    "<img src=\"image/fig1004.jpg\">"
   ]
  },
  {
   "cell_type": "markdown",
   "metadata": {},
   "source": [
    "<h2 STYLE=\"background: #c2edff;padding: 0.5em;\"><a href=\"http://kogolab.chillout.jp/elearn/hamburger/chap1/sec4.html\" target=\"_blank\">1.4 分散と標準偏差</a></h2>\n",
    "\n",
    "<h4 style=\"border-bottom: solid 1px black;\">分散と標準偏差</h4>\n",
    "\n",
    "さて、分散を求める式をもう一度よく見てみると、\n",
    "\n",
    "分散＝（（データ－平均値）の２乗）の総和÷個数\n",
    "\n",
    "この式のなかで２乗になっているので、単位はcmの２乗になります。元々のデータは長さの単位（cm）だったのに、分散の値はその２乗になっているわけです。\n",
    "\n",
    "そこで、単位をそろえるためには、分散の値の平方根（ルート）をとればいいということになります。分散のルートを標準偏差と呼びます。式では、\n",
    "\n",
    "標準偏差＝（分散）の平方根\n",
    "\n",
    "となります。\n",
    "\n",
    "標準偏差のことを英語で、standard deviation といいます。頭文字をとって、SDと表記します。"
   ]
  },
  {
   "cell_type": "markdown",
   "metadata": {},
   "source": [
    "<h4 style=\"border-bottom: solid 1px black;\">分散と標準偏差を計算する</h4>\n",
    "\n",
    "それでは、データのばらつきを示す数値である、分散と標準偏差を計算してみましょう。"
   ]
  },
  {
   "cell_type": "code",
   "execution_count": 12,
   "metadata": {
    "collapsed": true
   },
   "outputs": [],
   "source": [
    "# ワクワクポテトの分散を計算する"
   ]
  },
  {
   "cell_type": "code",
   "execution_count": 13,
   "metadata": {
    "collapsed": true
   },
   "outputs": [],
   "source": [
    "# ワクワクポテトの標準偏差を計算する"
   ]
  },
  {
   "cell_type": "code",
   "execution_count": 14,
   "metadata": {
    "collapsed": true
   },
   "outputs": [],
   "source": [
    "# モグモグポテトの分散を計算する"
   ]
  },
  {
   "cell_type": "code",
   "execution_count": 15,
   "metadata": {
    "collapsed": true
   },
   "outputs": [],
   "source": [
    "# モグモグポテトの標準偏差を計算する"
   ]
  },
  {
   "cell_type": "markdown",
   "metadata": {},
   "source": [
    "さて、あなたの計算結果はどうなったでしょうか。\n",
    "\n",
    "私の計算では次のようになりました。小数点以下第3位で四捨五入してあります。\n",
    "\n",
    "ワクワクバーガーのポテトの長さの分散は　0.68、標準偏差は　0.83\n",
    "\n",
    "モグモグバーガーのポテトの長さの分散は　2.58、標準偏差は　1.61\n",
    "\n",
    "となりました。これを見ると、度数分布図でばらつきの大きかったモグモグバーガーのポテトの長さの分散と標準偏差は、ワクワクバーガーのものよりも大きいことがわかります。\n",
    "\n",
    "つまり、「度数分布図でのばらつきが大きければ、分散と標準偏差も大きくなる」という関係が成り立っていることが確認できます。\n",
    "\n",
    "それでは、ここまでの内容をまとめてみましょう。\n",
    "\n"
   ]
  },
  {
   "cell_type": "markdown",
   "metadata": {},
   "source": [
    "<h4 style=\"border-bottom: solid 1px black;\">まとめ――平均、度数分布、分散、標準偏差</h4>\n",
    "\n",
    "あるデータの集団を代表の値として平均を用いることが多い。\n",
    "\n",
    "平均＝データの総和÷個数\n",
    "\n",
    "平均に違いがなくても、データのちらばり具合は異なることがある。\n",
    "\n",
    "データのちらばり具合を見るためには、度数分布図を描く。\n",
    "\n",
    "データのちらばり具合を示す数値として、分散や標準偏差を用いる。\n",
    "\n",
    "分散＝（（データ－平均値）の二乗）の総和÷個数\n",
    "\n",
    "標準偏差＝（分散）のルート"
   ]
  },
  {
   "cell_type": "markdown",
   "metadata": {},
   "source": [
    "<h2 STYLE=\"background: #c2edff;padding: 0.5em;\"><a href=\"http://kogolab.chillout.jp/elearn/hamburger/chap1/sec5.html\">1.5 実践編：チキンでいこう</a></h2>\n",
    "\n",
    "さて、別の日。\n",
    "\n",
    "あなたは、ワクワクバーガーで今度はフライドチキンを買いました。16個入りのチキンです。\n",
    "\n",
    "家に戻って、チキンのはいった箱を開けてみます。\n",
    "\n",
    "<img src=\"image/w-chicken.jpg\">\n",
    "\n",
    "「うーむ、なんとなく小さい気がする。この間のポテトの場合は、モグモグバーガーと比べて、分散は違っていたけれども、平均はほぼ同じだった。でも、このフライドチキンは全体的に小さいような気がする。実際のところは、どうなんだろう？」\n",
    "\n",
    "そこで、あなたはライバル店のモグモグバーガーに出かけて、同じ16個入りのフライドチキンを買ってきました。ポテトで学んだ経験を生かして、それぞれのチキンの平均と分散、標準偏差を調べてみることにしました。\n",
    "\n",
    "<img src=\"image/m-chicken.jpg\">\n",
    "\n",
    "チキンの重さのデータは、次の表に示したとおりです。このデータを使って、平均、分散、標準偏差を計算してください。\n",
    "https://raw.githubusercontent.com/maskot1977/ipython_notebook/master/toydata/fried_chicken.txt"
   ]
  },
  {
   "cell_type": "code",
   "execution_count": 16,
   "metadata": {
    "collapsed": true
   },
   "outputs": [],
   "source": [
    "# ウェブ上のリソースを指定する"
   ]
  },
  {
   "cell_type": "code",
   "execution_count": 17,
   "metadata": {
    "collapsed": true
   },
   "outputs": [],
   "source": [
    "# 指定したURLからリソースをダウンロードし、名前をつける。"
   ]
  },
  {
   "cell_type": "code",
   "execution_count": 18,
   "metadata": {},
   "outputs": [],
   "source": [
    "# ダウンロードしたデータから、列ごとに数字を読み込んでリストに格納する。\n",
    "col1 = [] # ０列目の数字を格納する予定のリスト\n",
    "col2 = [] # １列目の数字を格納する予定のリスト\n",
    "col3 = [] # ２列目の数字を格納する予定のリスト\n",
    "for i, line in enumerate(open('fried_chicken.txt')): # ファイルを開いて一行一行読み込む\n",
    "    if i == 0: # ０番目の行の場合\n",
    "        continue # 次の行に行く\n",
    "    c = line.split() # 行を空白文字で分割したものをcというリストに入れる\n",
    "    col1.append(int(c[0])) # ０列目の単語を整数に変換してcol1に入れる\n",
    "    col2.append(int(c[1])) # １列目の単語を整数に変換してcol2に入れる\n",
    "    col3.append(int(c[2])) # ２列目の単語を整数に変換してcol3に入れる"
   ]
  },
  {
   "cell_type": "markdown",
   "metadata": {},
   "source": [
    "<h4 style=\"padding: 0.25em 0.5em;color: #494949;background: transparent;border-left: solid 5px #7db4e6;\">課題1.5</h4>\n",
    "\n",
    "ワクワクチキンとモグモグチキンについて、重さの平均と分散と標準偏差を、それぞれ求めてください。またその結果について考察してください。"
   ]
  },
  {
   "cell_type": "code",
   "execution_count": 19,
   "metadata": {
    "collapsed": true
   },
   "outputs": [],
   "source": [
    "# 課題1.5"
   ]
  },
  {
   "cell_type": "markdown",
   "metadata": {},
   "source": [
    "<h4 style=\"border-bottom: solid 1px black;\">計算した値から何がわかるか</h4>\n",
    "\n",
    "これらの値から何がわかるかを書いてみましょう。特にワクワクバーガーとモグモグバーガーのチキンの比較に注目して書いてみましょう。"
   ]
  },
  {
   "cell_type": "markdown",
   "metadata": {},
   "source": [
    "<h4 style=\"border-bottom: solid 1px black;\">解答例</h4>\n",
    "\n",
    "さて、あなたの計算結果はどうなりましたか。私の計算では、次のようになりました。また、これらの値から何がわかるかを次のように書いてみました。\n",
    "\n",
    "<blockquote>ワクワクバーガーのチキン16本の重さの平均は、146.3グラムであった。一方、モグモグバーガーのチキン16本の重さの平均は、149.4グラムであった。<br><br>\n",
    "\n",
    "両者の平均の差は、3.1グラム（149.4－146.3）であり、これは大きい差であるようには見えない。<br><br>\n",
    "\n",
    "ワクワクバーガーのチキン16本の重さの分散は、56.34で、標準偏差は7.51グラムであった。一方、モグモグバーガーのチキン16本の重さの分散は、260.62で、標準偏差は16.14グラムであった。<br><br>\n",
    "\n",
    "両者の標準偏差を比較すると、ワクワクバーガーのチキンはモグモグバーガーのチキンの半分以下になっている。これはワクワクバーガーのチキンの方がよりばらつきが少ないということを示している。\n",
    "</blockquote>"
   ]
  },
  {
   "cell_type": "markdown",
   "metadata": {
    "collapsed": true
   },
   "source": [
    "<h2 STYLE=\"background: #c2edff;padding: 0.5em;\">ハンバーガー統計学 第１章 課題</h2>\n",
    "\n",
    "__課題1.1__、__課題1.2__、および __課題1.5__ を解いて、指定のメールアドレスまでメールしてください。メール送信後は、エラーが帰ってきてないことを確認してください（メールアドレスを間違える人がときどき居ます）。\n",
    "* 締切：9月29日（今すぐでなくても結構です）\n",
    "* メールタイトル：「ハンバーガー統計学 第１章」\n",
    "* 学籍番号と氏名を明記すること。\n",
    "* 感想などがあれば書いてくれると嬉しいです。次回以降の講義の改善につながるかも知れません。"
   ]
  },
  {
   "cell_type": "code",
   "execution_count": 21,
   "metadata": {
    "collapsed": true
   },
   "outputs": [],
   "source": [
    "# ハンバーガー統計学 第１章 課題"
   ]
  },
  {
   "cell_type": "markdown",
   "metadata": {},
   "source": [
    "<h2 STYLE=\"background: #c2edff;padding: 0.5em;\">終わったら、<a href=\"HamburgerStatistics02.ipynb\">第２章：信頼区間</a> に進んでください。</h2>\n",
    "(2017年9月29日講義、10月3日課題提出締切）"
   ]
  }
 ],
 "metadata": {
  "kernelspec": {
   "display_name": "Python [default]",
   "language": "python",
   "name": "python3"
  },
  "language_info": {
   "codemirror_mode": {
    "name": "ipython",
    "version": 3
   },
   "file_extension": ".py",
   "mimetype": "text/x-python",
   "name": "python",
   "nbconvert_exporter": "python",
   "pygments_lexer": "ipython3",
   "version": "3.5.3"
  }
 },
 "nbformat": 4,
 "nbformat_minor": 2
}
