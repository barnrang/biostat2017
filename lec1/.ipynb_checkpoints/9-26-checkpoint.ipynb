{
 "cells": [
  {
   "cell_type": "code",
   "execution_count": 1,
   "metadata": {
    "collapsed": true
   },
   "outputs": [],
   "source": [
    "# URL によるリソースへのアクセスを提供するライブラリをインポートする。\n",
    "#import urllib # Python 2 の場合\n",
    "import urllib.request # Python 3 の場合"
   ]
  },
  {
   "cell_type": "code",
   "execution_count": 2,
   "metadata": {},
   "outputs": [],
   "source": [
    "# ウェブ上のリソースを指定する\n",
    "url = 'https://raw.githubusercontent.com/maskot1977/ipython_notebook/master/toydata/wakuwaku_potato.txt'"
   ]
  },
  {
   "cell_type": "code",
   "execution_count": 3,
   "metadata": {},
   "outputs": [
    {
     "data": {
      "text/plain": [
       "('wakuwaku_potato.txt', <http.client.HTTPMessage at 0x209f4f0b5f8>)"
      ]
     },
     "execution_count": 3,
     "metadata": {},
     "output_type": "execute_result"
    }
   ],
   "source": [
    "# 指定したURLからリソースをダウンロードし、名前をつける。\n",
    "#urllib.urlretrieve(url, 'wakuwaku_potato.txt') # Python 2 の場合\n",
    "urllib.request.urlretrieve(url, 'wakuwaku_potato.txt') # Python 3 の場合"
   ]
  },
  {
   "cell_type": "code",
   "execution_count": 4,
   "metadata": {},
   "outputs": [
    {
     "name": "stdout",
     "output_type": "stream",
     "text": [
      "3.5\n",
      "3.8\n",
      "5.8\n",
      "6.4\n",
      "4.2\n",
      "4.2\n",
      "4.0\n",
      "3.6\n",
      "3.8\n",
      "5.2\n",
      "4.9\n",
      "5.2\n",
      "6.0\n",
      "3.9\n",
      "5.3\n",
      "4.6\n",
      "3.9\n",
      "4.2\n",
      "4.2\n",
      "6.4\n",
      "2.8\n",
      "5.6\n",
      "5.7\n",
      "5.1\n",
      "4.4\n",
      "5.6\n",
      "5.3\n",
      "3.9\n",
      "5.1\n",
      "3.6\n",
      "4.2\n",
      "5.0\n",
      "4.7\n",
      "4.1\n",
      "3.7\n",
      "4.9\n",
      "4.7\n",
      "5.3\n",
      "3.6\n",
      "4.2\n",
      "4.4\n",
      "4.0\n",
      "5.5\n",
      "4.2\n",
      "4.8\n",
      "3.7\n",
      "3.1\n",
      "4.7\n",
      "5.0\n"
     ]
    }
   ],
   "source": [
    "# ファイルをオープンし長さのデータを読み込み、出力する。\n",
    "for line in open('wakuwaku_potato.txt'):\n",
    "    print(float(line))"
   ]
  },
  {
   "cell_type": "code",
   "execution_count": 5,
   "metadata": {
    "collapsed": true
   },
   "outputs": [],
   "source": [
    "wakuwaku = []\n",
    "for line in open('wakuwaku_potato.txt'):\n",
    "    wakuwaku.append(float(line))"
   ]
  },
  {
   "cell_type": "code",
   "execution_count": 6,
   "metadata": {},
   "outputs": [
    {
     "name": "stdout",
     "output_type": "stream",
     "text": [
      "4.571428571428569\n"
     ]
    }
   ],
   "source": [
    "sum = 0\n",
    "for length in wakuwaku:\n",
    "    sum += length\n",
    "print (sum / len(wakuwaku))"
   ]
  },
  {
   "cell_type": "code",
   "execution_count": 7,
   "metadata": {},
   "outputs": [
    {
     "data": {
      "text/plain": [
       "('mogumogu_potato.txt', <http.client.HTTPMessage at 0x209f4f0bf28>)"
      ]
     },
     "execution_count": 7,
     "metadata": {},
     "output_type": "execute_result"
    }
   ],
   "source": [
    "# 課題1.1\n",
    "url = 'https://raw.githubusercontent.com/maskot1977/ipython_notebook/master/toydata/mogumogu_potato.txt'\n",
    "urllib.request.urlretrieve(url, 'mogumogu_potato.txt')"
   ]
  },
  {
   "cell_type": "code",
   "execution_count": 8,
   "metadata": {},
   "outputs": [
    {
     "name": "stdout",
     "output_type": "stream",
     "text": [
      "4.614285714285713\n"
     ]
    }
   ],
   "source": [
    "# 課題1.1　続き\n",
    "mogumogu = []\n",
    "sum = 0\n",
    "for line in open('mogumogu_potato.txt'):\n",
    "    mogumogu.append(float(line))\n",
    "    sum += float(line)\n",
    "    \n",
    "print(sum/len(mogumogu))"
   ]
  },
  {
   "cell_type": "code",
   "execution_count": 9,
   "metadata": {},
   "outputs": [],
   "source": [
    "import matplotlib.pyplot as plt\n",
    "%matplotlib inline"
   ]
  },
  {
   "cell_type": "code",
   "execution_count": 10,
   "metadata": {},
   "outputs": [
    {
     "data": {
      "image/png": "[encoded data removed]",
      "text/plain": [
       "<matplotlib.figure.Figure at 0x209f5be3dd8>"
      ]
     },
     "metadata": {},
     "output_type": "display_data"
    }
   ],
   "source": [
    "# ヒストグラム（度数分布）を描く\n",
    "plt.hist(wakuwaku)\n",
    "plt.show()"
   ]
  },
  {
   "cell_type": "code",
   "execution_count": 11,
   "metadata": {},
   "outputs": [
    {
     "data": {
      "image/png": "[encoded data removed]",
      "text/plain": [
       "<matplotlib.figure.Figure at 0x209f5c8bb00>"
      ]
     },
     "metadata": {},
     "output_type": "display_data"
    }
   ],
   "source": [
    "#　課題1.2\n",
    "plt.hist(mogumogu, bins=10)\n",
    "plt.show()"
   ]
  },
  {
   "cell_type": "code",
   "execution_count": 12,
   "metadata": {
    "collapsed": true
   },
   "outputs": [],
   "source": [
    "def average(arr):\n",
    "    sum = 0\n",
    "    for el in arr:\n",
    "        sum += el\n",
    "    return sum/len(arr)\n",
    "\n",
    "def sd(arr):\n",
    "    sd_sum = 0\n",
    "    mean = average(arr)\n",
    "    for el in arr:\n",
    "        sd_sum += (el - mean) ** 2\n",
    "    return mt.sqrt(sd_sum/len(arr))\n",
    "\n",
    "def var(arr):\n",
    "    return sd(arr) ** 2"
   ]
  },
  {
   "cell_type": "code",
   "execution_count": 15,
   "metadata": {},
   "outputs": [],
   "source": [
    "import math as mt\n",
    "mog_sd = sd(mogumogu)\n",
    "wak_sd = sd(wakuwaku)\n",
    "mog_var = var(mogumogu)\n",
    "wak_var = var(wakuwaku)"
   ]
  },
  {
   "cell_type": "code",
   "execution_count": 16,
   "metadata": {},
   "outputs": [
    {
     "name": "stdout",
     "output_type": "stream",
     "text": [
      "2.584897959183674 1.6077617855838202 0.6808163265306121 0.8251159473253514\n"
     ]
    }
   ],
   "source": [
    "print(mog_var, mog_sd, wak_var, wak_sd)"
   ]
  },
  {
   "cell_type": "code",
   "execution_count": 17,
   "metadata": {},
   "outputs": [
    {
     "data": {
      "text/plain": [
       "('fried_chicken.txt', <http.client.HTTPMessage at 0x209f5d91d68>)"
      ]
     },
     "execution_count": 17,
     "metadata": {},
     "output_type": "execute_result"
    }
   ],
   "source": [
    "url = 'https://raw.githubusercontent.com/maskot1977/ipython_notebook/master/toydata/fried_chicken.txt'\n",
    "urllib.request.urlretrieve(url, 'fried_chicken.txt')"
   ]
  },
  {
   "cell_type": "code",
   "execution_count": 18,
   "metadata": {
    "collapsed": true
   },
   "outputs": [],
   "source": [
    "# ダウンロードしたデータから、列ごとに数字を読み込んでリストに格納する。\n",
    "col1 = [] # ０列目の数字を格納する予定のリスト\n",
    "col2 = [] # １列目の数字を格納する予定のリスト\n",
    "col3 = [] # ２列目の数字を格納する予定のリスト\n",
    "for i, line in enumerate(open('fried_chicken.txt')): # ファイルを開いて一行一行読み込む\n",
    "    if i == 0: # ０番目の行の場合\n",
    "        continue # 次の行に行く\n",
    "    c = line.split() # 行を空白文字で分割したものをcというリストに入れる\n",
    "    col1.append(int(c[0])) # ０列目の単語を整数に変換してcol1に入れる\n",
    "    col2.append(int(c[1])) # １列目の単語を整数に変換してcol2に入れる\n",
    "    col3.append(int(c[2])) # ２列目の単語を整数に変換してcol3に入れる"
   ]
  },
  {
   "cell_type": "markdown",
   "metadata": {},
   "source": [
    "- mogumogu"
   ]
  },
  {
   "cell_type": "code",
   "execution_count": 19,
   "metadata": {},
   "outputs": [
    {
     "data": {
      "text/plain": [
       "146.3125"
      ]
     },
     "execution_count": 19,
     "metadata": {},
     "output_type": "execute_result"
    }
   ],
   "source": [
    "average(col2)"
   ]
  },
  {
   "cell_type": "code",
   "execution_count": 20,
   "metadata": {},
   "outputs": [
    {
     "data": {
      "text/plain": [
       "7.505987193567545"
      ]
     },
     "execution_count": 20,
     "metadata": {},
     "output_type": "execute_result"
    }
   ],
   "source": [
    "sd(col2)"
   ]
  },
  {
   "cell_type": "code",
   "execution_count": 21,
   "metadata": {},
   "outputs": [
    {
     "data": {
      "text/plain": [
       "56.33984374999999"
      ]
     },
     "execution_count": 21,
     "metadata": {},
     "output_type": "execute_result"
    }
   ],
   "source": [
    "var(col2)"
   ]
  },
  {
   "cell_type": "markdown",
   "metadata": {},
   "source": [
    "wakuwaku~~~~~~~~~~~~~"
   ]
  },
  {
   "cell_type": "code",
   "execution_count": 22,
   "metadata": {},
   "outputs": [
    {
     "data": {
      "text/plain": [
       "149.4375"
      ]
     },
     "execution_count": 22,
     "metadata": {},
     "output_type": "execute_result"
    }
   ],
   "source": [
    "average(col3)"
   ]
  },
  {
   "cell_type": "code",
   "execution_count": 23,
   "metadata": {},
   "outputs": [
    {
     "data": {
      "text/plain": [
       "16.14376330816331"
      ]
     },
     "execution_count": 23,
     "metadata": {},
     "output_type": "execute_result"
    }
   ],
   "source": [
    "sd(col3)"
   ]
  },
  {
   "cell_type": "code",
   "execution_count": 24,
   "metadata": {},
   "outputs": [
    {
     "data": {
      "text/plain": [
       "260.62109375000006"
      ]
     },
     "execution_count": 24,
     "metadata": {},
     "output_type": "execute_result"
    }
   ],
   "source": [
    "var(col3)"
   ]
  },
  {
   "cell_type": "markdown",
   "metadata": {},
   "source": [
    "結果説明\n",
    "- モグとワクのチキンの平均はあまり格差がない(149.43 と146.3)と食べるときに気づかないはずなのです。だが、モグモグチキンの分散と標準偏差が高いので、少量のチキン(3－6個ぐらい）なら重さの不平等が見えるようです。"
   ]
  }
 ],
 "metadata": {
  "kernelspec": {
   "display_name": "Python [default]",
   "language": "python",
   "name": "python3"
  },
  "language_info": {
   "codemirror_mode": {
    "name": "ipython",
    "version": 3
   },
   "file_extension": ".py",
   "mimetype": "text/x-python",
   "name": "python",
   "nbconvert_exporter": "python",
   "pygments_lexer": "ipython3",
   "version": "3.5.3"
  }
 },
 "nbformat": 4,
 "nbformat_minor": 1
}
