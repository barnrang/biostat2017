{
 "cells": [
  {
   "cell_type": "markdown",
   "metadata": {},
   "source": [
    "# 課題4と5を含んでいます"
   ]
  },
  {
   "cell_type": "code",
   "execution_count": 1,
   "metadata": {
    "collapsed": true
   },
   "outputs": [],
   "source": [
    "import urllib.request\n",
    "import math as mt\n",
    "import matplotlib.pyplot as plt\n",
    "import numpy as np\n",
    "%matplotlib inline"
   ]
  },
  {
   "cell_type": "code",
   "execution_count": 2,
   "metadata": {
    "collapsed": true
   },
   "outputs": [],
   "source": [
    "t_col = {95: 2.365, 99: 3.499}\n",
    "def average(arr):\n",
    "    sum = 0\n",
    "    for el in arr:\n",
    "        sum += el\n",
    "    return sum/len(arr)\n",
    "\n",
    "def var(arr,sample = False):\n",
    "    var_sum = 0\n",
    "    mean = average(arr)\n",
    "    for el in arr:\n",
    "        var_sum += (el - mean) ** 2\n",
    "    divisor = len(arr)\n",
    "    if sample:\n",
    "        divisor -= 1 #不偏\n",
    "    return var_sum/divisor\n",
    "\n",
    "def sd(arr, sample = False):\n",
    "    return mt.sqrt(var(arr, sample))\n",
    "\n",
    "def  stanerr(arr):\n",
    "    return sd(arr, True)/mt.sqrt(len(arr))\n",
    "\n",
    "def sos(arr):\n",
    "    return var(arr) * len(arr)\n",
    "\n",
    "def shinrai_bound(arr, shinrai = 95):\n",
    "    t = t_col[shinrai]\n",
    "    err = stanerr(arr)\n",
    "    mean = average(arr)\n",
    "    return (mean - err * t, mean + t * err)\n",
    "\n",
    "def suitei(arr1, arr2):\n",
    "    return (sos(arr1) + sos(arr2))/(len(arr1) + len(arr2) - 2)\n",
    "    \n",
    "def sa_stanerr(arr1,arr2):\n",
    "    return mt.sqrt(suitei(arr1,arr2) * (1/len(arr1) + 1/len(arr2))) \n",
    "\n",
    "def t_kentei_diff(arr1, arr2):\n",
    "    return (average(arr1) - average(arr2))/sa_stanerr(arr1,arr2)\n",
    "\n",
    "def t_kentei_sa(arr):\n",
    "    return average(arr)/stanerr(arr)"
   ]
  },
  {
   "cell_type": "code",
   "execution_count": 3,
   "metadata": {
    "collapsed": true
   },
   "outputs": [],
   "source": [
    "#課題4.3\n",
    "wakuwaku =   [70, 75, 70, 85, 90, 70, 80, 75]\n",
    "mogumogu = [85, 80, 95, 70, 80, 75, 80, 90] "
   ]
  },
  {
   "cell_type": "code",
   "execution_count": 4,
   "metadata": {},
   "outputs": [
    {
     "data": {
      "text/plain": [
       "76.875"
      ]
     },
     "execution_count": 4,
     "metadata": {},
     "output_type": "execute_result"
    }
   ],
   "source": [
    "average(wakuwaku)"
   ]
  },
  {
   "cell_type": "code",
   "execution_count": 5,
   "metadata": {},
   "outputs": [
    {
     "data": {
      "text/plain": [
       "81.875"
      ]
     },
     "execution_count": 5,
     "metadata": {},
     "output_type": "execute_result"
    }
   ],
   "source": [
    "average(mogumogu)"
   ]
  },
  {
   "cell_type": "code",
   "execution_count": 6,
   "metadata": {
    "scrolled": true
   },
   "outputs": [
    {
     "data": {
      "text/plain": [
       "49.609375"
      ]
     },
     "execution_count": 6,
     "metadata": {},
     "output_type": "execute_result"
    }
   ],
   "source": [
    "var(wakuwaku, False) #標本分散"
   ]
  },
  {
   "cell_type": "code",
   "execution_count": 7,
   "metadata": {},
   "outputs": [
    {
     "data": {
      "text/plain": [
       "55.859375"
      ]
     },
     "execution_count": 7,
     "metadata": {},
     "output_type": "execute_result"
    }
   ],
   "source": [
    "var(mogumogu, False)"
   ]
  },
  {
   "cell_type": "code",
   "execution_count": 8,
   "metadata": {},
   "outputs": [
    {
     "data": {
      "text/plain": [
       "396.875"
      ]
     },
     "execution_count": 8,
     "metadata": {},
     "output_type": "execute_result"
    }
   ],
   "source": [
    "sos(wakuwaku) #平方和"
   ]
  },
  {
   "cell_type": "code",
   "execution_count": 9,
   "metadata": {},
   "outputs": [
    {
     "data": {
      "text/plain": [
       "446.875"
      ]
     },
     "execution_count": 9,
     "metadata": {},
     "output_type": "execute_result"
    }
   ],
   "source": [
    "sos(mogumogu)"
   ]
  },
  {
   "cell_type": "code",
   "execution_count": 10,
   "metadata": {},
   "outputs": [
    {
     "data": {
      "text/plain": [
       "60.267857142857146"
      ]
     },
     "execution_count": 10,
     "metadata": {},
     "output_type": "execute_result"
    }
   ],
   "source": [
    "suitei(wakuwaku, mogumogu) #推定母分散"
   ]
  },
  {
   "cell_type": "code",
   "execution_count": 11,
   "metadata": {},
   "outputs": [
    {
     "data": {
      "text/plain": [
       "3.8816187713007424"
      ]
     },
     "execution_count": 11,
     "metadata": {},
     "output_type": "execute_result"
    }
   ],
   "source": [
    "sa_stanerr(wakuwaku, mogumogu) #差の標準誤差"
   ]
  },
  {
   "cell_type": "markdown",
   "metadata": {},
   "source": [
    " <table border=\"1\" bgcolor=\"#FFFFFF\" cellpadding=\"0\" cellspacing=\"0\" align=\"center\">\n",
    "   <tr align=\"center\"> \n",
    "     <th width=\"120\" height=\"30\" bgcolor=\"#ffffcc\"> ワクワクバーガーを食べた女子高生</th>\n",
    "     <th width=\"120\" height=\"30\" bgcolor=\"#ffffcc\"> 点数</th>\n",
    "     <th width=\"120\" height=\"30\" bgcolor=\"#ffcccc\"> モグモグバーガーを食べた女子高生</th>\n",
    "     <th width=\"120\" height=\"30\" bgcolor=\"#ffcccc\"> 点数</th>\n",
    "   </tr>\n",
    "   <tr align=\"center\"> \n",
    "     <td width=\"120\" height=\"30\" bgcolor=\"#cccccc\"> 1</td>\n",
    "     <td width=\"120\" height=\"30\" bgcolor=\"#FFFFFF\"> 70</td>\n",
    "     <td width=\"120\" height=\"30\" bgcolor=\"#cccccc\"> 1</td>\n",
    "     <td width=\"120\" height=\"30\"> 85</td>\n",
    "   </tr>\n",
    "   <tr align=\"center\"> \n",
    "     <td width=\"120\" height=\"30\" bgcolor=\"#cccccc\">2</td>\n",
    "     <td width=\"120\" height=\"30\" bgcolor=\"#FFFFFF\">75</td>\n",
    "     <td width=\"120\" height=\"30\" bgcolor=\"#cccccc\">2</td>\n",
    "     <td width=\"120\" height=\"30\">80</td>\n",
    "   </tr>\n",
    "   <tr align=\"center\"> \n",
    "     <td width=\"120\" height=\"30\" bgcolor=\"#cccccc\">3</td>\n",
    "     <td width=\"120\" height=\"30\" bgcolor=\"#FFFFFF\">70</td>\n",
    "     <td width=\"120\" height=\"30\" bgcolor=\"#cccccc\">3</td>\n",
    "     <td width=\"120\" height=\"30\">95</td>\n",
    "   </tr>\n",
    "   <tr align=\"center\"> \n",
    "     <td width=\"120\" height=\"30\" bgcolor=\"#cccccc\">4</td>\n",
    "     <td width=\"120\" height=\"30\" bgcolor=\"#FFFFFF\">85</td>\n",
    "     <td width=\"120\" height=\"30\" bgcolor=\"#cccccc\">4</td>\n",
    "     <td width=\"120\" height=\"30\">70</td>\n",
    "   </tr>\n",
    "   <tr align=\"center\"> \n",
    "     <td width=\"120\" height=\"30\" bgcolor=\"#cccccc\">5</td>\n",
    "     <td width=\"120\" height=\"30\" bgcolor=\"#FFFFFF\">90</td>\n",
    "     <td width=\"120\" height=\"30\" bgcolor=\"#cccccc\">5</td>\n",
    "     <td width=\"120\" height=\"30\">80</td>\n",
    "   </tr>\n",
    "   <tr align=\"center\"> \n",
    "     <td width=\"120\" height=\"30\" bgcolor=\"#cccccc\">6</td>\n",
    "     <td width=\"120\" height=\"30\" bgcolor=\"#FFFFFF\">70</td>\n",
    "     <td width=\"120\" height=\"30\" bgcolor=\"#cccccc\">6</td>\n",
    "     <td width=\"120\" height=\"30\">75</td>\n",
    "   </tr>\n",
    "   <tr align=\"center\"> \n",
    "     <td width=\"120\" height=\"30\" bgcolor=\"#cccccc\">7</td>\n",
    "     <td width=\"120\" height=\"30\" bgcolor=\"#FFFFFF\">80</td>\n",
    "     <td width=\"120\" height=\"30\" bgcolor=\"#cccccc\">7</td>\n",
    "     <td width=\"120\" height=\"30\">80</td>\n",
    "   </tr>\n",
    "   <tr align=\"center\"> \n",
    "     <td width=\"120\" height=\"30\" bgcolor=\"#cccccc\">8</td>\n",
    "     <td width=\"120\" height=\"30\" bgcolor=\"#FFFFFF\">75</td>\n",
    "     <td width=\"120\" height=\"30\" bgcolor=\"#cccccc\">8</td>\n",
    "     <td width=\"120\" height=\"30\">90</td>\n",
    "   </tr>\n",
    "   <tr align=\"center\"> \n",
    "     <td width=\"120\" height=\"30\" bgcolor=\"#ffffcc\">標本平均</td>\n",
    "     <td width=\"120\" height=\"30\" bgcolor=\"#ffffff\"></td>\n",
    "     <td width=\"120\" height=\"30\" bgcolor=\"#ffcccc\">標本平均</td>\n",
    "     <td width=\"120\" height=\"30\" bgcolor=\"#ffffff\"></td>\n",
    "   </tr>\n",
    "   <tr align=\"center\"> \n",
    "     <td width=\"120\" height=\"30\" bgcolor=\"#ffffcc\">標本分散</td>\n",
    "     <td width=\"120\" height=\"30\" bgcolor=\"#ffffff\"></td>\n",
    "     <td width=\"120\" height=\"30\" bgcolor=\"#ffcccc\">標本分散</td>\n",
    "     <td width=\"120\" height=\"30\" bgcolor=\"#ffffff\"></td>\n",
    "   </tr>\n",
    "   <tr align=\"center\"> \n",
    "     <td width=\"120\" height=\"30\" bgcolor=\"#ffffcc\">平均偏差の平方和</td>\n",
    "     <td width=\"120\" height=\"30\" bgcolor=\"#ffffff\"></td>\n",
    "     <td width=\"120\" height=\"30\" bgcolor=\"#ffcccc\">平均偏差の平方和</td>\n",
    "     <td width=\"120\" height=\"30\" bgcolor=\"#ffffff\"></td>\n",
    "   </tr>\n",
    "   <tr align=\"center\"> \n",
    "     <td width=\"120\" height=\"30\" bgcolor=\"#cccccc\">推定母分散</td>\n",
    "     <td width=\"120\" height=\"30\" bgcolor=\"#ffffff\" colspan=\"3\"></td>\n",
    "   </tr>\n",
    "   <tr align=\"center\"> \n",
    "     <td width=\"120\" height=\"30\" bgcolor=\"#cccccc\">差の標準誤差</td>\n",
    "     <td width=\"120\" height=\"30\" bgcolor=\"#ffffff\" colspan=\"3\"></td>\n",
    "   </tr>\n",
    "   <tr align=\"center\"> \n",
    "     <td width=\"120\" height=\"30\" bgcolor=\"#cccccc\">t値</td>\n",
    "     <td width=\"120\" height=\"30\" bgcolor=\"#ffffff\" colspan=\"3\"></td>\n",
    "   </tr>\n",
    " </table>"
   ]
  },
  {
   "cell_type": "code",
   "execution_count": 12,
   "metadata": {},
   "outputs": [
    {
     "data": {
      "text/plain": [
       "-1.2881223774390613"
      ]
     },
     "execution_count": 12,
     "metadata": {},
     "output_type": "execute_result"
    }
   ],
   "source": [
    "t = t_kentei_diff(wakuwaku, mogumogu)\n",
    "t"
   ]
  },
  {
   "cell_type": "code",
   "execution_count": 13,
   "metadata": {
    "collapsed": true
   },
   "outputs": [],
   "source": [
    "#課題4.4\n",
    "wakuwaku =   [80, 75, 80, 95, 90, 80, 85, 90]\n",
    "mogumogu = [75, 65, 80, 85, 75, 80, 80, 70]"
   ]
  },
  {
   "cell_type": "code",
   "execution_count": 14,
   "metadata": {},
   "outputs": [
    {
     "data": {
      "text/plain": [
       "2.463060426921489"
      ]
     },
     "execution_count": 14,
     "metadata": {},
     "output_type": "execute_result"
    }
   ],
   "source": [
    "t = t_kentei_diff(wakuwaku, mogumogu)\n",
    "t"
   ]
  },
  {
   "cell_type": "code",
   "execution_count": 15,
   "metadata": {},
   "outputs": [
    {
     "name": "stdout",
     "output_type": "stream",
     "text": [
      "14\n",
      "5%: 2.145, 1%: 2.977\n"
     ]
    }
   ],
   "source": [
    "print(len(mogumogu) + len(wakuwaku) - 2) #自由度 \n",
    "print(\"5%: 2.145, 1%: 2.977\")"
   ]
  },
  {
   "cell_type": "markdown",
   "metadata": {},
   "source": [
    "説明\n",
    "- 有意水準5%でtが棄却域に入ったので、帰無仮説を棄却して「差がある」と結論になります。つまり、モグとワクの評価は差があるわけです\n",
    "- 有意水準1%でtが棄却域に入ってないので、帰無仮説を賛成して「差がない」と結論になります。つまり、モグとワクの評価は差がないわけです。"
   ]
  },
  {
   "cell_type": "code",
   "execution_count": 16,
   "metadata": {
    "collapsed": true
   },
   "outputs": [],
   "source": [
    "#課題5.3\n",
    "wakuwaku =   [90, 75, 75, 75, 80, 65, 75, 80]\n",
    "mogumogu = [95, 80, 80, 80, 75, 75, 80, 85]\n",
    "sa = []"
   ]
  },
  {
   "cell_type": "code",
   "execution_count": 17,
   "metadata": {},
   "outputs": [
    {
     "data": {
      "text/plain": [
       "array([ -5,  -5,  -5,  -5,   5, -10,  -5,  -5])"
      ]
     },
     "execution_count": 17,
     "metadata": {},
     "output_type": "execute_result"
    }
   ],
   "source": [
    "sa = np.array(wakuwaku) - np.array(mogumogu)\n",
    "sa #差"
   ]
  },
  {
   "cell_type": "code",
   "execution_count": 18,
   "metadata": {},
   "outputs": [
    {
     "name": "stdout",
     "output_type": "stream",
     "text": [
      "76.875 81.25 -4.375\n"
     ]
    }
   ],
   "source": [
    "print(average(wakuwaku), average(mogumogu), average(sa))"
   ]
  },
  {
   "cell_type": "code",
   "execution_count": 19,
   "metadata": {},
   "outputs": [
    {
     "name": "stdout",
     "output_type": "stream",
     "text": [
      "43.359375 35.9375 15.234375\n"
     ]
    }
   ],
   "source": [
    "print(var(wakuwaku), var(mogumogu), var(sa)) #標本分差"
   ]
  },
  {
   "cell_type": "code",
   "execution_count": 20,
   "metadata": {
    "scrolled": true
   },
   "outputs": [
    {
     "name": "stdout",
     "output_type": "stream",
     "text": [
      "49.55357142857143 41.07142857142857 17.4107142857\n"
     ]
    }
   ],
   "source": [
    "print(var(wakuwaku, True), var(mogumogu, True), var(sa, True)) #不偏分散"
   ]
  },
  {
   "cell_type": "code",
   "execution_count": 21,
   "metadata": {},
   "outputs": [
    {
     "data": {
      "text/plain": [
       "1.4752421108802056"
      ]
     },
     "execution_count": 21,
     "metadata": {},
     "output_type": "execute_result"
    }
   ],
   "source": [
    "stanerr(sa) #差の標準誤差"
   ]
  },
  {
   "cell_type": "code",
   "execution_count": 22,
   "metadata": {},
   "outputs": [
    {
     "data": {
      "text/plain": [
       "-2.9656149100771323"
      ]
     },
     "execution_count": 22,
     "metadata": {},
     "output_type": "execute_result"
    }
   ],
   "source": [
    "t_kentei_sa(sa) #t値"
   ]
  },
  {
   "cell_type": "markdown",
   "metadata": {},
   "source": [
    " <table border=\"1\" bgcolor=\"#FFFFFF\" cellpadding=\"0\" cellspacing=\"0\" align=\"center\">\n",
    "   <tr align=\"center\"> \n",
    "     <th width=\"120\" height=\"30\" bgcolor=\"#ffffcc\"> 女子高生</th>\n",
    "     <th width=\"120\" height=\"30\" bgcolor=\"#ffffcc\"> ワクワクバーガーの点数</th>\n",
    "     <th width=\"120\" height=\"30\" bgcolor=\"#ffcccc\"> モグモグバーガーの点数</th>\n",
    "     <th width=\"120\" bgcolor=\"#CCFFFF\">点数の差</th>\n",
    "   </tr>\n",
    "   <tr align=\"center\"> \n",
    "     <td width=\"120\" height=\"30\" bgcolor=\"#cccccc\"> 1</td>\n",
    "     <td width=\"120\" height=\"30\" bgcolor=\"#FFFFFF\"> 90</td>\n",
    "     <td width=\"120\" height=\"30\"> 95</td>\n",
    "     <td width=\"120\"></td>\n",
    "   </tr>\n",
    "   <tr align=\"center\"> \n",
    "     <td width=\"120\" height=\"30\" bgcolor=\"#cccccc\">2</td>\n",
    "     <td width=\"120\" height=\"30\" bgcolor=\"#FFFFFF\">75</td>\n",
    "     <td width=\"120\" height=\"30\">80</td>\n",
    "     <td width=\"120\"></td>\n",
    "   </tr>\n",
    "   <tr align=\"center\"> \n",
    "     <td width=\"120\" height=\"30\" bgcolor=\"#cccccc\">3</td>\n",
    "     <td width=\"120\" height=\"30\" bgcolor=\"#FFFFFF\">75</td>\n",
    "     <td width=\"120\" height=\"30\">80</td>\n",
    "     <td width=\"120\"></td>\n",
    "   </tr>\n",
    "   <tr align=\"center\"> \n",
    "     <td width=\"120\" height=\"30\" bgcolor=\"#cccccc\">4</td>\n",
    "     <td width=\"120\" height=\"30\" bgcolor=\"#FFFFFF\">75</td>\n",
    "     <td width=\"120\" height=\"30\">80</td>\n",
    "     <td width=\"120\"></td>\n",
    "   </tr>\n",
    "   <tr align=\"center\"> \n",
    "     <td width=\"120\" height=\"30\" bgcolor=\"#cccccc\">5</td>\n",
    "     <td width=\"120\" height=\"30\" bgcolor=\"#FFFFFF\">80</td>\n",
    "     <td width=\"120\" height=\"30\">75</td>\n",
    "     <td width=\"120\"></td>\n",
    "   </tr>\n",
    "   <tr align=\"center\"> \n",
    "     <td width=\"120\" height=\"30\" bgcolor=\"#cccccc\">6</td>\n",
    "     <td width=\"120\" height=\"30\" bgcolor=\"#FFFFFF\">65</td>\n",
    "     <td width=\"120\" height=\"30\">75</td>\n",
    "     <td width=\"120\"></td>\n",
    "   </tr>\n",
    "   <tr align=\"center\"> \n",
    "     <td width=\"120\" height=\"30\" bgcolor=\"#cccccc\">7</td>\n",
    "     <td width=\"120\" height=\"30\" bgcolor=\"#FFFFFF\">75</td>\n",
    "     <td width=\"120\" height=\"30\">80</td>\n",
    "     <td width=\"120\"></td>\n",
    "   </tr>\n",
    "   <tr align=\"center\"> \n",
    "     <td width=\"120\" height=\"30\" bgcolor=\"#cccccc\">8</td>\n",
    "     <td width=\"120\" height=\"30\" bgcolor=\"#FFFFFF\">80</td>\n",
    "     <td width=\"120\" height=\"30\">85</td>\n",
    "     <td width=\"120\"></td>\n",
    "   </tr>\n",
    "   <tr align=\"center\"> \n",
    "     <td width=\"120\" height=\"30\" bgcolor=\"#ffffcc\">平均</td>\n",
    "     <td width=\"120\" height=\"30\"></td>\n",
    "     <td width=\"120\" height=\"30\"></td>\n",
    "     <td width=\"120\"></td>\n",
    "   </tr>\n",
    "   <tr align=\"center\"> \n",
    "     <td width=\"120\" height=\"30\" bgcolor=\"#ffffcc\"> 標本分散</td>\n",
    "     <td width=\"120\" height=\"30\"></td>\n",
    "     <td width=\"120\" height=\"30\"></td>\n",
    "     <td width=\"120\"></td>\n",
    "   </tr>\n",
    "   <tr align=\"center\"> \n",
    "     <td width=\"120\" height=\"30\" bgcolor=\"#ffffcc\"> 不偏分散</td>\n",
    "     <td width=\"120\" height=\"30\"></td>\n",
    "     <td width=\"120\" height=\"30\"></td>\n",
    "     <td width=\"120\"></td>\n",
    "   </tr>\n",
    "   <tr align=\"center\"> \n",
    "     <td width=\"120\" height=\"30\" bgcolor=\"#ffffcc\" colspan=\"3\"> 差の標準誤差</td>\n",
    "     <td width=\"120\"></td>\n",
    "   </tr>\n",
    "   <tr align=\"center\"> \n",
    "     <td width=\"120\" height=\"30\" bgcolor=\"#ffffcc\" colspan=\"3\"> t値</td>\n",
    "     <td width=\"120\"></td>\n",
    "   </tr>\n",
    " </table>"
   ]
  },
  {
   "cell_type": "code",
   "execution_count": 23,
   "metadata": {
    "collapsed": true
   },
   "outputs": [],
   "source": [
    "# 課題5.4\n",
    "before = [65, 70, 85, 70, 80, 80, 80, 70, 80, 70]\n",
    "after    = [80, 90, 80, 90, 90, 85, 80, 90, 85, 80]"
   ]
  },
  {
   "cell_type": "code",
   "execution_count": 24,
   "metadata": {},
   "outputs": [
    {
     "data": {
      "text/plain": [
       "-3.5856858280031809"
      ]
     },
     "execution_count": 24,
     "metadata": {},
     "output_type": "execute_result"
    }
   ],
   "source": [
    "sa = np.array(before) - np.array(after)\n",
    "t_kentei_sa(sa)"
   ]
  },
  {
   "cell_type": "code",
   "execution_count": 25,
   "metadata": {},
   "outputs": [
    {
     "data": {
      "text/plain": [
       "-10.0"
      ]
     },
     "execution_count": 25,
     "metadata": {},
     "output_type": "execute_result"
    }
   ],
   "source": [
    "average(sa)"
   ]
  },
  {
   "cell_type": "code",
   "execution_count": 26,
   "metadata": {},
   "outputs": [
    {
     "name": "stdout",
     "output_type": "stream",
     "text": [
      "9 自由度\n",
      "5%: 2.262, 1%: 3.250\n"
     ]
    }
   ],
   "source": [
    "print(len(sa) - 1, '自由度')\n",
    "print(\"5%: 2.262, 1%: 3.250\")"
   ]
  },
  {
   "cell_type": "markdown",
   "metadata": {},
   "source": [
    "説明\n",
    "- 1%有意水準でも棄却域に入ったので、帰無仮説を棄却して「差がある」と結論になります。つまり、モグとワクの評価は差があるわけです"
   ]
  }
 ],
 "metadata": {
  "kernelspec": {
   "display_name": "Python [conda env:chatbot]",
   "language": "python",
   "name": "conda-env-chatbot-py"
  },
  "language_info": {
   "codemirror_mode": {
    "name": "ipython",
    "version": 3
   },
   "file_extension": ".py",
   "mimetype": "text/x-python",
   "name": "python",
   "nbconvert_exporter": "python",
   "pygments_lexer": "ipython3",
   "version": "3.5.3"
  }
 },
 "nbformat": 4,
 "nbformat_minor": 2
}
