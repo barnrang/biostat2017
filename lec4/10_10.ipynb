{
 "cells": [
  {
   "cell_type": "code",
   "execution_count": 1,
   "metadata": {
    "collapsed": true
   },
   "outputs": [],
   "source": [
    "import urllib.request\n",
    "import math as mt\n",
    "import matplotlib.pyplot as plt\n",
    "%matplotlib inline"
   ]
  },
  {
   "cell_type": "code",
   "execution_count": 10,
   "metadata": {
    "collapsed": true
   },
   "outputs": [],
   "source": [
    "t_col = {95: 2.365, 99: 3.499}\n",
    "def average(arr):\n",
    "    sum = 0\n",
    "    for el in arr:\n",
    "        sum += el\n",
    "    return sum/len(arr)\n",
    "\n",
    "def var(arr,sample = False):\n",
    "    var_sum = 0\n",
    "    mean = average(arr)\n",
    "    for el in arr:\n",
    "        var_sum += (el - mean) ** 2\n",
    "    divisor = len(arr)\n",
    "    if sample:\n",
    "        divisor -= 1 #不偏\n",
    "    return var_sum/divisor\n",
    "\n",
    "def sd(arr, sample = False):\n",
    "    return mt.sqrt(var(arr, sample))\n",
    "\n",
    "def  stanerr(arr):\n",
    "    return sd(arr, True)/mt.sqrt(len(arr))\n",
    "\n",
    "def sos(arr):\n",
    "    return var(arr) * len(arr)\n",
    "\n",
    "def shinrai_bound(arr, shinrai = 95):\n",
    "    t = t_col[shinrai]\n",
    "    err = stanerr(arr)\n",
    "    mean = average(arr)\n",
    "    return (mean - err * t, mean + t * err)"
   ]
  },
  {
   "cell_type": "code",
   "execution_count": 11,
   "metadata": {
    "collapsed": true
   },
   "outputs": [],
   "source": [
    "wakuwaku =   [70, 75, 70, 85, 90, 70, 80, 75]\n",
    "mogumogu = [85, 80, 95, 70, 80, 75, 80, 90] "
   ]
  },
  {
   "cell_type": "code",
   "execution_count": 7,
   "metadata": {
    "collapsed": true
   },
   "outputs": [],
   "source": [
    "#課題4.3"
   ]
  },
  {
   "cell_type": "markdown",
   "metadata": {},
   "source": [
    " <table border=\"1\" bgcolor=\"#FFFFFF\" cellpadding=\"0\" cellspacing=\"0\" align=\"center\">\n",
    "   <tr align=\"center\"> \n",
    "     <th width=\"120\" height=\"30\" bgcolor=\"#ffffcc\"> ワクワクバーガーを食べた女子高生</th>\n",
    "     <th width=\"120\" height=\"30\" bgcolor=\"#ffffcc\"> 点数</th>\n",
    "     <th width=\"120\" height=\"30\" bgcolor=\"#ffcccc\"> モグモグバーガーを食べた女子高生</th>\n",
    "     <th width=\"120\" height=\"30\" bgcolor=\"#ffcccc\"> 点数</th>\n",
    "   </tr>\n",
    "   <tr align=\"center\"> \n",
    "     <td width=\"120\" height=\"30\" bgcolor=\"#cccccc\"> 1</td>\n",
    "     <td width=\"120\" height=\"30\" bgcolor=\"#FFFFFF\"> 70</td>\n",
    "     <td width=\"120\" height=\"30\" bgcolor=\"#cccccc\"> 1</td>\n",
    "     <td width=\"120\" height=\"30\"> 85</td>\n",
    "   </tr>\n",
    "   <tr align=\"center\"> \n",
    "     <td width=\"120\" height=\"30\" bgcolor=\"#cccccc\">2</td>\n",
    "     <td width=\"120\" height=\"30\" bgcolor=\"#FFFFFF\">75</td>\n",
    "     <td width=\"120\" height=\"30\" bgcolor=\"#cccccc\">2</td>\n",
    "     <td width=\"120\" height=\"30\">80</td>\n",
    "   </tr>\n",
    "   <tr align=\"center\"> \n",
    "     <td width=\"120\" height=\"30\" bgcolor=\"#cccccc\">3</td>\n",
    "     <td width=\"120\" height=\"30\" bgcolor=\"#FFFFFF\">70</td>\n",
    "     <td width=\"120\" height=\"30\" bgcolor=\"#cccccc\">3</td>\n",
    "     <td width=\"120\" height=\"30\">95</td>\n",
    "   </tr>\n",
    "   <tr align=\"center\"> \n",
    "     <td width=\"120\" height=\"30\" bgcolor=\"#cccccc\">4</td>\n",
    "     <td width=\"120\" height=\"30\" bgcolor=\"#FFFFFF\">85</td>\n",
    "     <td width=\"120\" height=\"30\" bgcolor=\"#cccccc\">4</td>\n",
    "     <td width=\"120\" height=\"30\">70</td>\n",
    "   </tr>\n",
    "   <tr align=\"center\"> \n",
    "     <td width=\"120\" height=\"30\" bgcolor=\"#cccccc\">5</td>\n",
    "     <td width=\"120\" height=\"30\" bgcolor=\"#FFFFFF\">90</td>\n",
    "     <td width=\"120\" height=\"30\" bgcolor=\"#cccccc\">5</td>\n",
    "     <td width=\"120\" height=\"30\">80</td>\n",
    "   </tr>\n",
    "   <tr align=\"center\"> \n",
    "     <td width=\"120\" height=\"30\" bgcolor=\"#cccccc\">6</td>\n",
    "     <td width=\"120\" height=\"30\" bgcolor=\"#FFFFFF\">70</td>\n",
    "     <td width=\"120\" height=\"30\" bgcolor=\"#cccccc\">6</td>\n",
    "     <td width=\"120\" height=\"30\">75</td>\n",
    "   </tr>\n",
    "   <tr align=\"center\"> \n",
    "     <td width=\"120\" height=\"30\" bgcolor=\"#cccccc\">7</td>\n",
    "     <td width=\"120\" height=\"30\" bgcolor=\"#FFFFFF\">80</td>\n",
    "     <td width=\"120\" height=\"30\" bgcolor=\"#cccccc\">7</td>\n",
    "     <td width=\"120\" height=\"30\">80</td>\n",
    "   </tr>\n",
    "   <tr align=\"center\"> \n",
    "     <td width=\"120\" height=\"30\" bgcolor=\"#cccccc\">8</td>\n",
    "     <td width=\"120\" height=\"30\" bgcolor=\"#FFFFFF\">75</td>\n",
    "     <td width=\"120\" height=\"30\" bgcolor=\"#cccccc\">8</td>\n",
    "     <td width=\"120\" height=\"30\">90</td>\n",
    "   </tr>\n",
    "   <tr align=\"center\"> \n",
    "     <td width=\"120\" height=\"30\" bgcolor=\"#ffffcc\">標本平均</td>\n",
    "     <td width=\"120\" height=\"30\" bgcolor=\"#ffffff\"></td>\n",
    "     <td width=\"120\" height=\"30\" bgcolor=\"#ffcccc\">標本平均</td>\n",
    "     <td width=\"120\" height=\"30\" bgcolor=\"#ffffff\"></td>\n",
    "   </tr>\n",
    "   <tr align=\"center\"> \n",
    "     <td width=\"120\" height=\"30\" bgcolor=\"#ffffcc\">標本分散</td>\n",
    "     <td width=\"120\" height=\"30\" bgcolor=\"#ffffff\"></td>\n",
    "     <td width=\"120\" height=\"30\" bgcolor=\"#ffcccc\">標本分散</td>\n",
    "     <td width=\"120\" height=\"30\" bgcolor=\"#ffffff\"></td>\n",
    "   </tr>\n",
    "   <tr align=\"center\"> \n",
    "     <td width=\"120\" height=\"30\" bgcolor=\"#ffffcc\">平均偏差の平方和</td>\n",
    "     <td width=\"120\" height=\"30\" bgcolor=\"#ffffff\"></td>\n",
    "     <td width=\"120\" height=\"30\" bgcolor=\"#ffcccc\">平均偏差の平方和</td>\n",
    "     <td width=\"120\" height=\"30\" bgcolor=\"#ffffff\"></td>\n",
    "   </tr>\n",
    "   <tr align=\"center\"> \n",
    "     <td width=\"120\" height=\"30\" bgcolor=\"#cccccc\">推定母分散</td>\n",
    "     <td width=\"120\" height=\"30\" bgcolor=\"#ffffff\" colspan=\"3\"></td>\n",
    "   </tr>\n",
    "   <tr align=\"center\"> \n",
    "     <td width=\"120\" height=\"30\" bgcolor=\"#cccccc\">差の標準誤差</td>\n",
    "     <td width=\"120\" height=\"30\" bgcolor=\"#ffffff\" colspan=\"3\"></td>\n",
    "   </tr>\n",
    "   <tr align=\"center\"> \n",
    "     <td width=\"120\" height=\"30\" bgcolor=\"#cccccc\">t値</td>\n",
    "     <td width=\"120\" height=\"30\" bgcolor=\"#ffffff\" colspan=\"3\"></td>\n",
    "   </tr>\n",
    " </table>"
   ]
  },
  {
   "cell_type": "code",
   "execution_count": null,
   "metadata": {
    "collapsed": true
   },
   "outputs": [],
   "source": [
    "wakuwaku =   [80, 75, 80, 95, 90, 80, 85, 90]\n",
    "mogumogu = [75, 65, 80, 85, 75, 80, 80, 70]"
   ]
  },
  {
   "cell_type": "code",
   "execution_count": 8,
   "metadata": {
    "collapsed": true
   },
   "outputs": [],
   "source": [
    "#課題4.4"
   ]
  },
  {
   "cell_type": "code",
   "execution_count": null,
   "metadata": {
    "collapsed": true
   },
   "outputs": [],
   "source": [
    "wakuwaku =   [90, 75, 75, 75, 80, 65, 75, 80]\n",
    "mogumogu = [95, 80, 80, 80, 75, 75, 80, 85]\n",
    "sa = []"
   ]
  },
  {
   "cell_type": "code",
   "execution_count": null,
   "metadata": {
    "collapsed": true
   },
   "outputs": [],
   "source": [
    "#課題5.3"
   ]
  },
  {
   "cell_type": "markdown",
   "metadata": {},
   "source": [
    " <table border=\"1\" bgcolor=\"#FFFFFF\" cellpadding=\"0\" cellspacing=\"0\" align=\"center\">\n",
    "   <tr align=\"center\"> \n",
    "     <th width=\"120\" height=\"30\" bgcolor=\"#ffffcc\"> 女子高生</th>\n",
    "     <th width=\"120\" height=\"30\" bgcolor=\"#ffffcc\"> ワクワクバーガーの点数</th>\n",
    "     <th width=\"120\" height=\"30\" bgcolor=\"#ffcccc\"> モグモグバーガーの点数</th>\n",
    "     <th width=\"120\" bgcolor=\"#CCFFFF\">点数の差</th>\n",
    "   </tr>\n",
    "   <tr align=\"center\"> \n",
    "     <td width=\"120\" height=\"30\" bgcolor=\"#cccccc\"> 1</td>\n",
    "     <td width=\"120\" height=\"30\" bgcolor=\"#FFFFFF\"> 90</td>\n",
    "     <td width=\"120\" height=\"30\"> 95</td>\n",
    "     <td width=\"120\"></td>\n",
    "   </tr>\n",
    "   <tr align=\"center\"> \n",
    "     <td width=\"120\" height=\"30\" bgcolor=\"#cccccc\">2</td>\n",
    "     <td width=\"120\" height=\"30\" bgcolor=\"#FFFFFF\">75</td>\n",
    "     <td width=\"120\" height=\"30\">80</td>\n",
    "     <td width=\"120\"></td>\n",
    "   </tr>\n",
    "   <tr align=\"center\"> \n",
    "     <td width=\"120\" height=\"30\" bgcolor=\"#cccccc\">3</td>\n",
    "     <td width=\"120\" height=\"30\" bgcolor=\"#FFFFFF\">75</td>\n",
    "     <td width=\"120\" height=\"30\">80</td>\n",
    "     <td width=\"120\"></td>\n",
    "   </tr>\n",
    "   <tr align=\"center\"> \n",
    "     <td width=\"120\" height=\"30\" bgcolor=\"#cccccc\">4</td>\n",
    "     <td width=\"120\" height=\"30\" bgcolor=\"#FFFFFF\">75</td>\n",
    "     <td width=\"120\" height=\"30\">80</td>\n",
    "     <td width=\"120\"></td>\n",
    "   </tr>\n",
    "   <tr align=\"center\"> \n",
    "     <td width=\"120\" height=\"30\" bgcolor=\"#cccccc\">5</td>\n",
    "     <td width=\"120\" height=\"30\" bgcolor=\"#FFFFFF\">80</td>\n",
    "     <td width=\"120\" height=\"30\">75</td>\n",
    "     <td width=\"120\"></td>\n",
    "   </tr>\n",
    "   <tr align=\"center\"> \n",
    "     <td width=\"120\" height=\"30\" bgcolor=\"#cccccc\">6</td>\n",
    "     <td width=\"120\" height=\"30\" bgcolor=\"#FFFFFF\">65</td>\n",
    "     <td width=\"120\" height=\"30\">75</td>\n",
    "     <td width=\"120\"></td>\n",
    "   </tr>\n",
    "   <tr align=\"center\"> \n",
    "     <td width=\"120\" height=\"30\" bgcolor=\"#cccccc\">7</td>\n",
    "     <td width=\"120\" height=\"30\" bgcolor=\"#FFFFFF\">75</td>\n",
    "     <td width=\"120\" height=\"30\">80</td>\n",
    "     <td width=\"120\"></td>\n",
    "   </tr>\n",
    "   <tr align=\"center\"> \n",
    "     <td width=\"120\" height=\"30\" bgcolor=\"#cccccc\">8</td>\n",
    "     <td width=\"120\" height=\"30\" bgcolor=\"#FFFFFF\">80</td>\n",
    "     <td width=\"120\" height=\"30\">85</td>\n",
    "     <td width=\"120\"></td>\n",
    "   </tr>\n",
    "   <tr align=\"center\"> \n",
    "     <td width=\"120\" height=\"30\" bgcolor=\"#ffffcc\">平均</td>\n",
    "     <td width=\"120\" height=\"30\"></td>\n",
    "     <td width=\"120\" height=\"30\"></td>\n",
    "     <td width=\"120\"></td>\n",
    "   </tr>\n",
    "   <tr align=\"center\"> \n",
    "     <td width=\"120\" height=\"30\" bgcolor=\"#ffffcc\"> 標本分散</td>\n",
    "     <td width=\"120\" height=\"30\"></td>\n",
    "     <td width=\"120\" height=\"30\"></td>\n",
    "     <td width=\"120\"></td>\n",
    "   </tr>\n",
    "   <tr align=\"center\"> \n",
    "     <td width=\"120\" height=\"30\" bgcolor=\"#ffffcc\"> 不偏分散</td>\n",
    "     <td width=\"120\" height=\"30\"></td>\n",
    "     <td width=\"120\" height=\"30\"></td>\n",
    "     <td width=\"120\"></td>\n",
    "   </tr>\n",
    "   <tr align=\"center\"> \n",
    "     <td width=\"120\" height=\"30\" bgcolor=\"#ffffcc\" colspan=\"3\"> 差の標準誤差</td>\n",
    "     <td width=\"120\"></td>\n",
    "   </tr>\n",
    "   <tr align=\"center\"> \n",
    "     <td width=\"120\" height=\"30\" bgcolor=\"#ffffcc\" colspan=\"3\"> t値</td>\n",
    "     <td width=\"120\"></td>\n",
    "   </tr>\n",
    " </table>"
   ]
  },
  {
   "cell_type": "code",
   "execution_count": 3,
   "metadata": {
    "collapsed": true
   },
   "outputs": [],
   "source": [
    "before = [65, 70, 85, 70, 80, 80, 80, 70, 80, 70]\n",
    "after    = [80, 90, 80, 90, 90, 85, 80, 90, 85, 80]"
   ]
  },
  {
   "cell_type": "code",
   "execution_count": 4,
   "metadata": {
    "collapsed": true
   },
   "outputs": [],
   "source": [
    "# 課題5.4"
   ]
  },
  {
   "cell_type": "code",
   "execution_count": null,
   "metadata": {
    "collapsed": true
   },
   "outputs": [],
   "source": []
  }
 ],
 "metadata": {
  "kernelspec": {
   "display_name": "Python [conda env:chatbot]",
   "language": "python",
   "name": "conda-env-chatbot-py"
  },
  "language_info": {
   "codemirror_mode": {
    "name": "ipython",
    "version": 3
   },
   "file_extension": ".py",
   "mimetype": "text/x-python",
   "name": "python",
   "nbconvert_exporter": "python",
   "pygments_lexer": "ipython3",
   "version": "3.5.3"
  }
 },
 "nbformat": 4,
 "nbformat_minor": 2
}
