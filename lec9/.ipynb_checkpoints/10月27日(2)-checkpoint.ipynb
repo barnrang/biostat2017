{
 "cells": [
  {
   "cell_type": "markdown",
   "metadata": {},
   "source": [
    "<h4 style=\"padding: 0.25em 0.5em;color: #494949;background: transparent;border-left: solid 5px #7db4e6;\">課題6.1</h4>\n",
    "\n",
    "[去年の夏（最低気温込み）](https://raw.githubusercontent.com/maskot1977/ipython_notebook/master/toydata/ice_cream3.txt)のデータを用いて以下の問いに答えてください。\n",
    "\n",
    "(1)　最高気温の影響を取り除いた、最低気温と客数の偏回帰係数を求めてください。\n",
    "* a の影響を除いた、b と y の偏回帰係数 = （__r__<sub>by</sub> - (__r__<sub>ay</sub> ＊ __r__<sub>ab</sub>)) ＊ __σ__<sub>y</sub> /  ((1 - __r__<sub>ab</sub><sup>2</sup>) ＊ __σ__<sub>b</sub>)\n",
    "\n",
    "(2)　最高気温の影響を取り除いた、最低気温と客数の標準偏回帰係数を求めてください。\n",
    "* a の影響を除いた、b と y の標準偏回帰係数 = （__r__<sub>by</sub> - (__r__<sub>ay</sub> ＊ __r__<sub>ab</sub>)) /  (1 - __r__<sub>ab</sub><sup>2</sup>)"
   ]
  },
  {
   "cell_type": "code",
   "execution_count": 1,
   "metadata": {
    "collapsed": true
   },
   "outputs": [],
   "source": [
    "import urllib.request as req\n",
    "import numpy as np\n",
    "import matplotlib.pyplot as plt\n",
    "%matplotlib inline\n",
    "\n",
    "# 平均値を求める関数\n",
    "def average(list):\n",
    "    return np.sum(list)/len(list)\n",
    "# 分散を求める関数\n",
    "def variance(list):\n",
    "    mu = average(list)\n",
    "    diff = np.array(list) - mu\n",
    "    return np.sum(np.square(diff))/len(list)\n",
    "# 標準偏差を求める関数\n",
    "def standard_deviation(list):\n",
    "    return np.sqrt(variance(list))\n",
    "# 共分散 = 偏差積の平均 （偏差値、ではありません。偏差積、です）\n",
    "def covariance(list1, list2):\n",
    "    mu1,mu2 = average(list1), average(list2)\n",
    "    diff1, diff2 = np.array(list1) - mu1, np.array(list2) - mu2\n",
    "    return np.sum(diff1 * diff2)/len(list1)\n",
    "# 相関係数 = 共分散を list1, list2 の標準偏差で割ったもの\n",
    "def correlation(list1, list2):\n",
    "    return covariance(list1,list2)/(standard_deviation(list1)*standard_deviation(list2))\n",
    "\n",
    "# 回帰直線の傾き＝相関係数＊（（yの標準偏差）／（xの標準偏差））を求める関数を作ってください。\n",
    "def a_fit(xlist, ylist):\n",
    "    return correlation(xlist,ylist) * (standard_deviation(ylist)/standard_deviation(xlist))\n",
    "# y切片＝yの平均－（傾き＊xの平均）を求める関数を作ってください。\n",
    "def b_fit(xlist, ylist):\n",
    "    return average(ylist) - (a_fit(xlist,ylist) * average(xlist))\n",
    "# a の影響を除いた、b と y の偏相関係数 partial correlation coefficient を求める関数\n",
    "def partial_correlation(a, b, y):\n",
    "    def cor(m,n):\n",
    "        return correlation(m,n)\n",
    "    return (cor(b,y) - (cor(a,y) * cor(a,b)))/np.sqrt((1-cor(a,y)**2)*(1-cor(a,b)**2))"
   ]
  },
  {
   "cell_type": "code",
   "execution_count": 2,
   "metadata": {
    "collapsed": true
   },
   "outputs": [],
   "source": [
    "import urllib.request as req\n",
    "req.urlretrieve('https://raw.githubusercontent.com/maskot1977/ipython_notebook/master/toydata/ice_cream3.txt', 'ice3.txt')\n",
    "col1,col2,col3, col4 = [],[],[],[]\n",
    "for i, line in enumerate(open('ice3.txt', encoding='utf-8')):\n",
    "    if i == 0:\n",
    "        continue\n",
    "    _ = line.split(' ')\n",
    "    col1.append(int(_[0]))\n",
    "    col2.append(int(_[1]))\n",
    "    col3.append(int(_[2]))\n",
    "    col4.append(int(_[3]))"
   ]
  },
  {
   "cell_type": "code",
   "execution_count": 5,
   "metadata": {
    "collapsed": true
   },
   "outputs": [],
   "source": [
    "# a の影響を除いた、b と y の偏回帰係数 partial regression coefficient を求める関数\n",
    "def partial_regression(a, b, y):\n",
    "    rby = correlation(b,y)\n",
    "    rab = correlation(a,b)\n",
    "    ray = correlation(a,y)\n",
    "    sigy, sigb = standard_deviation(y), standard_deviation(b)\n",
    "    return (rby - (ray * rab)) * sigy / ((1 - rab**2) * sigb)"
   ]
  },
  {
   "cell_type": "code",
   "execution_count": 6,
   "metadata": {
    "collapsed": false
   },
   "outputs": [
    {
     "data": {
      "text/plain": [
       "-16.70314115041278"
      ]
     },
     "execution_count": 6,
     "metadata": {},
     "output_type": "execute_result"
    }
   ],
   "source": [
    "partial_regression(col2,col3,col4)"
   ]
  },
  {
   "cell_type": "code",
   "execution_count": 7,
   "metadata": {
    "collapsed": true
   },
   "outputs": [],
   "source": [
    "# a の影響を除いた、b と y の標準偏回帰係数 standard partial regression coefficient を求める関数\n",
    "def standard_partial_regression(a, b, y):\n",
    "    rby = correlation(b,y)\n",
    "    rab = correlation(a,b)\n",
    "    ray = correlation(a,y)\n",
    "    return (rby - (ray * rab))/ (1 - rab**2)"
   ]
  },
  {
   "cell_type": "code",
   "execution_count": 8,
   "metadata": {
    "collapsed": false
   },
   "outputs": [
    {
     "data": {
      "text/plain": [
       "-0.62257675340157437"
      ]
     },
     "execution_count": 8,
     "metadata": {},
     "output_type": "execute_result"
    }
   ],
   "source": [
    "standard_partial_regression(col2,col3,col4)"
   ]
  },
  {
   "cell_type": "markdown",
   "metadata": {},
   "source": [
    "<h4 style=\"padding: 0.25em 0.5em;color: #494949;background: transparent;border-left: solid 5px #7db4e6;\">課題6.3</h4>\n",
    "\n",
    "[去年の夏（最低気温込み）](https://raw.githubusercontent.com/maskot1977/ipython_notebook/master/toydata/ice_cream3.txt)のデータを用い、「客数の予測値　＝　定数m　＋　定数p × 最高気温　＋　定数q × 最低気温」という重回帰モデルを考えたときの、定数m, p, qを求めてください。\n",
    "  * 定数p　＝　客数と最高気温の偏回帰係数\n",
    "  * 定数q　＝　客数と最低気温の偏回帰係数\n",
    "  * 定数m　＝　客数の平均　－　p×最高気温の平均　－　q×最低気温の平均"
   ]
  },
  {
   "cell_type": "code",
   "execution_count": 9,
   "metadata": {
    "collapsed": false
   },
   "outputs": [
    {
     "data": {
      "text/plain": [
       "25.956775622525001"
      ]
     },
     "execution_count": 9,
     "metadata": {},
     "output_type": "execute_result"
    }
   ],
   "source": [
    "# 定数p　＝　客数と最高気温の偏回帰係数\n",
    "p = partial_regression(col3,col2,col4)\n",
    "p"
   ]
  },
  {
   "cell_type": "code",
   "execution_count": 10,
   "metadata": {
    "collapsed": false
   },
   "outputs": [
    {
     "data": {
      "text/plain": [
       "-16.70314115041278"
      ]
     },
     "execution_count": 10,
     "metadata": {},
     "output_type": "execute_result"
    }
   ],
   "source": [
    "# 定数q　＝　客数と最低気温の偏回帰係数\n",
    "q = partial_regression(col2,col3,col4)\n",
    "q"
   ]
  },
  {
   "cell_type": "code",
   "execution_count": 11,
   "metadata": {
    "collapsed": false
   },
   "outputs": [
    {
     "data": {
      "text/plain": [
       "-90.640452379354201"
      ]
     },
     "execution_count": 11,
     "metadata": {},
     "output_type": "execute_result"
    }
   ],
   "source": [
    "# 定数m　＝　客数の平均　－　p×最高気温の平均　－　q×最低気温の平均\n",
    "m = average(col4) - p * average(col2) - q * average(col3)\n",
    "m"
   ]
  },
  {
   "cell_type": "markdown",
   "metadata": {},
   "source": [
    "<h4 style=\"padding: 0.25em 0.5em;color: #494949;background: transparent;border-left: solid 5px #7db4e6;\">課題6.4</h4>\n",
    "\n",
    "[去年の夏（最低気温込み）](https://raw.githubusercontent.com/maskot1977/ipython_notebook/master/toydata/ice_cream3.txt)のデータを用い、「客数の予測値　＝　定数m　＋　定数p × 最高気温　＋　定数q × 最低気温」という重回帰モデルを考えたときの、重回帰モデルによる予測値と実際の客数との相関係数を求めてください。"
   ]
  },
  {
   "cell_type": "code",
   "execution_count": 13,
   "metadata": {
    "collapsed": false
   },
   "outputs": [],
   "source": [
    "# 予測値を求める\n",
    "x1,x2 = np.array(col2),np.array(col3)\n",
    "fitted_y = m + p * x1 + q * x2"
   ]
  },
  {
   "cell_type": "code",
   "execution_count": 14,
   "metadata": {
    "collapsed": false
   },
   "outputs": [
    {
     "data": {
      "text/plain": [
       "0.97571087600384254"
      ]
     },
     "execution_count": 14,
     "metadata": {},
     "output_type": "execute_result"
    }
   ],
   "source": [
    "# 予測値と実際の客数との相関係数を求める\n",
    "correlation(fitted_y, col4)"
   ]
  },
  {
   "cell_type": "markdown",
   "metadata": {},
   "source": [
    "かだい6.5"
   ]
  },
  {
   "cell_type": "code",
   "execution_count": 19,
   "metadata": {
    "collapsed": true
   },
   "outputs": [],
   "source": [
    "# a と b から y を予測する場合の重相関係数を求める関数\n",
    "def multiple_correlation(a, b, y):\n",
    "    rby = correlation(b,y)\n",
    "    rab = correlation(a,b)\n",
    "    ray = correlation(a,y)\n",
    "    return np.sqrt((ray**2 + rby**2 - 2 * ray * rby * rab) / (1 - rab**2) )"
   ]
  },
  {
   "cell_type": "code",
   "execution_count": 20,
   "metadata": {
    "collapsed": false
   },
   "outputs": [
    {
     "data": {
      "text/plain": [
       "0.97571087600384243"
      ]
     },
     "execution_count": 20,
     "metadata": {},
     "output_type": "execute_result"
    }
   ],
   "source": [
    "# 最高気温と最低気温から客数を予測する場合の重相関係数を求める\n",
    "multiple_correlation(col2,col3,col4)"
   ]
  }
 ],
 "metadata": {
  "kernelspec": {
   "display_name": "Python 3",
   "language": "python",
   "name": "python3"
  },
  "language_info": {
   "codemirror_mode": {
    "name": "ipython",
    "version": 3
   },
   "file_extension": ".py",
   "mimetype": "text/x-python",
   "name": "python",
   "nbconvert_exporter": "python",
   "pygments_lexer": "ipython3",
   "version": "3.4.4"
  }
 },
 "nbformat": 4,
 "nbformat_minor": 0
}
