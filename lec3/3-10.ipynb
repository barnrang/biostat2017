{
 "cells": [
  {
   "cell_type": "code",
   "execution_count": 2,
   "metadata": {
    "collapsed": true
   },
   "outputs": [],
   "source": [
    "import numpy as np\n",
    "import math as mt\n",
    "import urllib.request"
   ]
  },
  {
   "cell_type": "code",
   "execution_count": 3,
   "metadata": {
    "collapsed": true
   },
   "outputs": [],
   "source": [
    "# 表3.3の空欄を埋めてください"
   ]
  },
  {
   "cell_type": "markdown",
   "metadata": {},
   "source": [
    "<TABLE BORDER=\"1\" BGCOLOR=\"#FFFFFF\" cellpadding=\"0\" cellspacing=\"0\" align=\"center\">\n",
    "  <TR> \n",
    "    <th WIDTH=\"100\" HEIGHT=\"30\" BGCOLOR=\"#CCCC99\"> お店 </th>\n",
    "     <th WIDTH=\"81\" HEIGHT=\"30\" BGCOLOR=\"#FFFFCC\"> ポテト </th>\n",
    "   <th WIDTH=\"100\" HEIGHT=\"30\" BGCOLOR=\"#FFCCCC\"> チキン </th>\n",
    "   <th WIDTH=\"100\" HEIGHT=\"30\" BGCOLOR=\"#CCCCCC\"> 合計 </th>\n",
    " </TR>\n",
    " <TR align=\"center\"> \n",
    "   <TD WIDTH=\"100\" HEIGHT=\"30\" BGCOLOR=\"#CCCC99\"> ワクワク </TD>\n",
    "   <TD WIDTH=\"100\" HEIGHT=\"30\" BGCOLOR=\"#FFFFFF\"> 420</TD>\n",
    "   <TD WIDTH=\"100\" HEIGHT=\"30\" BGCOLOR=\"#FFFFFF\">　600/1000\\*300 = 180</TD>\n",
    "   <TD WIDTH=\"100\" HEIGHT=\"30\" BGCOLOR=\"#CCCCCC\"> 600</TD>\n",
    " </TR>\n",
    " <TR align=\"center\"> \n",
    "   <TD WIDTH=\"119\" HEIGHT=\"30\" BGCOLOR=\"#CCCC99\"> モグモグ </TD>\n",
    "   <TD WIDTH=\"81\" HEIGHT=\"30\" BGCOLOR=\"#FFFFFF\"> 280</TD>\n",
    "   <TD WIDTH=\"100\" HEIGHT=\"30\" BGCOLOR=\"#FFFFFF\">　 400/1000\\*300 = 120</TD>\n",
    "   <TD WIDTH=\"100\" HEIGHT=\"30\" BGCOLOR=\"#CCCCCC\"> 400</TD>\n",
    " </TR>\n",
    " <TR align=\"center\" bgcolor=\"#CCCCCC\"> \n",
    "   <TD WIDTH=\"119\" HEIGHT=\"30\">合計</TD>\n",
    "   <TD WIDTH=\"81\" HEIGHT=\"30\">700</TD>\n",
    "   <TD WIDTH=\"100\" HEIGHT=\"30\">300</TD>\n",
    "   <TD WIDTH=\"100\" HEIGHT=\"30\">1000</TD>\n",
    " </TR>\n",
    "</TABLE>"
   ]
  },
  {
   "cell_type": "raw",
   "metadata": {},
   "source": []
  }
 ],
 "metadata": {
  "kernelspec": {
   "display_name": "Python [conda env:chatbot]",
   "language": "python",
   "name": "conda-env-chatbot-py"
  },
  "language_info": {
   "codemirror_mode": {
    "name": "ipython",
    "version": 3
   },
   "file_extension": ".py",
   "mimetype": "text/x-python",
   "name": "python",
   "nbconvert_exporter": "python",
   "pygments_lexer": "ipython3",
   "version": "3.5.3"
  }
 },
 "nbformat": 4,
 "nbformat_minor": 2
}
