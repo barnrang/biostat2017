{
 "cells": [
  {
   "cell_type": "code",
   "execution_count": 1,
   "metadata": {
    "collapsed": true
   },
   "outputs": [],
   "source": [
    "import numpy as np\n",
    "import math as mt\n",
    "import urllib.request"
   ]
  },
  {
   "cell_type": "code",
   "execution_count": 2,
   "metadata": {
    "collapsed": true
   },
   "outputs": [],
   "source": [
    "# 表3.3の空欄を埋めてください "
   ]
  },
  {
   "cell_type": "markdown",
   "metadata": {},
   "source": [
    "<TABLE BORDER=\"1\" BGCOLOR=\"#FFFFFF\" cellpadding=\"0\" cellspacing=\"0\" align=\"center\">\n",
    "  <TR> \n",
    "    <th WIDTH=\"100\" HEIGHT=\"30\" BGCOLOR=\"#CCCC99\"> お店 </th>\n",
    "     <th WIDTH=\"81\" HEIGHT=\"30\" BGCOLOR=\"#FFFFCC\"> ポテト </th>\n",
    "   <th WIDTH=\"100\" HEIGHT=\"30\" BGCOLOR=\"#FFCCCC\"> チキン </th>\n",
    "   <th WIDTH=\"100\" HEIGHT=\"30\" BGCOLOR=\"#CCCCCC\"> 合計 </th>\n",
    " </TR>\n",
    " <TR align=\"center\"> \n",
    "   <TD WIDTH=\"100\" HEIGHT=\"30\" BGCOLOR=\"#CCCC99\"> ワクワク </TD>\n",
    "   <TD WIDTH=\"100\" HEIGHT=\"30\" BGCOLOR=\"#FFFFFF\"> 420</TD>\n",
    "   <TD WIDTH=\"100\" HEIGHT=\"30\" BGCOLOR=\"#FFFFFF\">　600/1000\\*300 = 180</TD>\n",
    "   <TD WIDTH=\"100\" HEIGHT=\"30\" BGCOLOR=\"#CCCCCC\"> 600</TD>\n",
    " </TR>\n",
    " <TR align=\"center\"> \n",
    "   <TD WIDTH=\"119\" HEIGHT=\"30\" BGCOLOR=\"#CCCC99\"> モグモグ </TD>\n",
    "   <TD WIDTH=\"81\" HEIGHT=\"30\" BGCOLOR=\"#FFFFFF\"> 280</TD>\n",
    "   <TD WIDTH=\"100\" HEIGHT=\"30\" BGCOLOR=\"#FFFFFF\">　 400/1000\\*300 = 120</TD>\n",
    "   <TD WIDTH=\"100\" HEIGHT=\"30\" BGCOLOR=\"#CCCCCC\"> 400</TD>\n",
    " </TR>\n",
    " <TR align=\"center\" bgcolor=\"#CCCCCC\"> \n",
    "   <TD WIDTH=\"119\" HEIGHT=\"30\">合計</TD>\n",
    "   <TD WIDTH=\"81\" HEIGHT=\"30\">700</TD>\n",
    "   <TD WIDTH=\"100\" HEIGHT=\"30\">300</TD>\n",
    "   <TD WIDTH=\"100\" HEIGHT=\"30\">1000</TD>\n",
    " </TR>\n",
    "</TABLE>"
   ]
  },
  {
   "cell_type": "code",
   "execution_count": 3,
   "metadata": {
    "collapsed": true
   },
   "outputs": [],
   "source": [
    "# 課題3.4 (a)\n",
    "# * 帰無仮説： 希望した値に合っているという仮説です。あるいは、「差はない」という仮説です。\n",
    "# * 対立仮説：　帰無仮説に否定すると「差はある」。検定して「有意ではない」となったら、対立仮説を認めることになります。"
   ]
  },
  {
   "cell_type": "markdown",
   "metadata": {},
   "source": [
    "<h4 style=\"padding: 0.25em 0.5em;color: #494949;background: transparent;border-left: solid 5px #7db4e6;\">課題3.4</h4>\n",
    "\n",
    "下表をもとに、ワクワクとモグモグのポテト・チキン・ハンバーガーの売れ方に違いがあるかをカイ２乗検定で調べたいと思います。以下の問いに答えてください。\n",
    "\n",
    "<center>表3.9　ポテトとチキンとハンバーガーの売り上げ数</center>\n",
    "<table border=\"1\" bgcolor=\"#FFFFFF\" cellpadding=\"0\" cellspacing=\"0\" align=\"center\">\n",
    "  <tr> \n",
    "    <th width=\"100\" height=\"30\" bgcolor=\"#CCCC99\"> お店 </th>\n",
    "    <th width=\"81\" height=\"30\" bgcolor=\"#FFFFCC\"> ポテト </th>\n",
    "    <th width=\"100\" height=\"30\" bgcolor=\"#FFCCCC\"> チキン </th>\n",
    "    <th width=\"100\" height=\"30\" bgcolor=\"#99FFCC\">ハンバーガー</th>\n",
    "    <th width=\"100\" height=\"30\" bgcolor=\"#CCCCCC\">合計</th>\n",
    "  </tr>\n",
    "  <tr align=\"center\"> \n",
    "    <td width=\"100\" height=\"30\" bgcolor=\"#CCCC99\"> ワクワク </td>\n",
    "    <td width=\"100\" height=\"30\" bgcolor=\"#FFFFFF\"> 435</td>\n",
    "    <td width=\"100\" height=\"30\" bgcolor=\"#FFFFFF\">165</td>\n",
    "    <td width=\"100\" height=\"30\" bgcolor=\"#FFFFFF\">650</td>\n",
    "    <td width=\"100\" height=\"30\" bgcolor=\"#CCCCCC\">1250</td>\n",
    "  </tr>\n",
    "  <tr align=\"center\"> \n",
    "    <td width=\"119\" height=\"30\" bgcolor=\"#CCCC99\"> モグモグ </td>\n",
    "    <td width=\"81\" height=\"30\" bgcolor=\"#FFFFFF\"> 265</td>\n",
    "    <td width=\"100\" height=\"30\" bgcolor=\"#FFFFFF\">135</td>\n",
    "    <td width=\"100\" height=\"30\" bgcolor=\"#FFFFFF\">350</td>\n",
    "    <td width=\"100\" height=\"30\" bgcolor=\"#CCCCCC\">750</td>\n",
    "  </tr>\n",
    "  <tr align=\"center\" bgcolor=\"#CCCCCC\"> \n",
    "    <td width=\"119\" height=\"30\">合計</td>\n",
    "    <td width=\"81\" height=\"30\">700</td>\n",
    "    <td width=\"100\" height=\"30\">300</td>\n",
    "    <td width=\"100\" height=\"30\">1000</td>\n",
    "    <td width=\"100\" height=\"30\">2000</td>\n",
    "  </tr>\n",
    "</table>"
   ]
  },
  {
   "cell_type": "code",
   "execution_count": 5,
   "metadata": {
    "collapsed": true
   },
   "outputs": [],
   "source": [
    "# 課題3.4 (b)\n",
    "tot = 2000\n",
    "wak = 1250/2000\n",
    "mog = 1 - wak"
   ]
  },
  {
   "cell_type": "code",
   "execution_count": 6,
   "metadata": {
    "collapsed": false
   },
   "outputs": [],
   "source": [
    "product = [700,300,1000]"
   ]
  },
  {
   "cell_type": "code",
   "execution_count": 7,
   "metadata": {
    "collapsed": true
   },
   "outputs": [],
   "source": [
    "wariai = []\n",
    "for x in product:\n",
    "    wariai.append([x * wak, x * mog])"
   ]
  },
  {
   "cell_type": "code",
   "execution_count": 8,
   "metadata": {
    "collapsed": false
   },
   "outputs": [
    {
     "data": {
      "text/plain": [
       "[[437.5, 262.5], [187.5, 112.5], [625.0, 375.0]]"
      ]
     },
     "execution_count": 8,
     "metadata": {},
     "output_type": "execute_result"
    }
   ],
   "source": [
    "wariai"
   ]
  },
  {
   "cell_type": "markdown",
   "metadata": {},
   "source": [
    " <center>課題3.4(b)　ポテトとチキンとハンバーガーの売り上げの求めた期待度数</center>\n",
    "<table border=\"1\" bgcolor=\"#FFFFFF\" cellpadding=\"0\" cellspacing=\"0\" align=\"center\">\n",
    "  <tr> \n",
    "    <th width=\"100\" height=\"30\" bgcolor=\"#CCCC99\"> お店 </th>\n",
    "    <th width=\"81\" height=\"30\" bgcolor=\"#FFFFCC\"> ポテト </th>\n",
    "    <th width=\"100\" height=\"30\" bgcolor=\"#FFCCCC\"> チキン </th>\n",
    "    <th width=\"100\" height=\"30\" bgcolor=\"#99FFCC\">ハンバーガー</th>\n",
    "    <th width=\"100\" height=\"30\" bgcolor=\"#CCCCCC\">合計</th>\n",
    "  </tr>\n",
    "  <tr align=\"center\"> \n",
    "    <td width=\"100\" height=\"30\" bgcolor=\"#CCCC99\"> ワクワク </td>\n",
    "    <td width=\"100\" height=\"30\" bgcolor=\"#FFFFFF\">437.5</td>\n",
    "    <td width=\"100\" height=\"30\" bgcolor=\"#FFFFFF\">187.5</td>\n",
    "    <td width=\"100\" height=\"30\" bgcolor=\"#FFFFFF\">625　</td>\n",
    "    <td width=\"100\" height=\"30\" bgcolor=\"#CCCCCC\">1250</td>\n",
    "  </tr>\n",
    "  <tr align=\"center\"> \n",
    "    <td width=\"119\" height=\"30\" bgcolor=\"#CCCC99\"> モグモグ </td>\n",
    "    <td width=\"81\" height=\"30\" bgcolor=\"#FFFFFF\">　262.5</td>\n",
    "    <td width=\"100\" height=\"30\" bgcolor=\"#FFFFFF\">　112.5</td>\n",
    "    <td width=\"100\" height=\"30\" bgcolor=\"#FFFFFF\">　375</td>\n",
    "    <td width=\"100\" height=\"30\" bgcolor=\"#CCCCCC\">750</td>\n",
    "  </tr>\n",
    "  <tr align=\"center\" bgcolor=\"#CCCCCC\"> \n",
    "    <td width=\"119\" height=\"30\">合計</td>\n",
    "    <td width=\"81\" height=\"30\">700</td>\n",
    "    <td width=\"100\" height=\"30\">300</td>\n",
    "    <td width=\"100\" height=\"30\">1000</td>\n",
    "    <td width=\"100\" height=\"30\">2000</td>\n",
    "  </tr>\n",
    "</table>"
   ]
  },
  {
   "cell_type": "code",
   "execution_count": 9,
   "metadata": {
    "collapsed": true
   },
   "outputs": [],
   "source": [
    "jissai = [[435,265],[165,135],[650,350]]"
   ]
  },
  {
   "cell_type": "code",
   "execution_count": 22,
   "metadata": {
    "collapsed": false
   },
   "outputs": [],
   "source": [
    "# 課題3.4 (c)"
   ]
  },
  {
   "cell_type": "code",
   "execution_count": 23,
   "metadata": {
    "collapsed": false
   },
   "outputs": [],
   "source": [
    "sum = 0\n",
    "for i in range(3):\n",
    "    for j in range(2):\n",
    "        sum += ((jissai[i][j] - wariai[i][j]) ** 2)/wariai[i][j]"
   ]
  },
  {
   "cell_type": "code",
   "execution_count": 24,
   "metadata": {
    "collapsed": false
   },
   "outputs": [
    {
     "data": {
      "text/plain": [
       "9.904761904761903"
      ]
     },
     "execution_count": 24,
     "metadata": {},
     "output_type": "execute_result"
    }
   ],
   "source": [
    "sum #カイ２乗"
   ]
  },
  {
   "cell_type": "code",
   "execution_count": 25,
   "metadata": {
    "collapsed": true
   },
   "outputs": [],
   "source": [
    "# 課題3.4 (d)\n",
    "jiyu = (2-1) * (3-1)"
   ]
  },
  {
   "cell_type": "code",
   "execution_count": 26,
   "metadata": {
    "collapsed": false
   },
   "outputs": [
    {
     "data": {
      "text/plain": [
       "2"
      ]
     },
     "execution_count": 26,
     "metadata": {},
     "output_type": "execute_result"
    }
   ],
   "source": [
    "jiyu"
   ]
  },
  {
   "cell_type": "code",
   "execution_count": 27,
   "metadata": {
    "collapsed": true
   },
   "outputs": [],
   "source": [
    "#課題3.4（e) 9.21"
   ]
  },
  {
   "cell_type": "code",
   "execution_count": 28,
   "metadata": {
    "collapsed": true
   },
   "outputs": [],
   "source": [
    "# 課題3.4 (f) 計算したカイ２乗9.21より大きいので、1％より小さい確率で起こりうことです。帰無仮説を廃却します。\n",
    "#だから、対立仮説をみとめて、「差はない」とまとめます。"
   ]
  }
 ],
 "metadata": {
  "kernelspec": {
   "display_name": "Python 3",
   "language": "python",
   "name": "python3"
  },
  "language_info": {
   "codemirror_mode": {
    "name": "ipython",
    "version": 3
   },
   "file_extension": ".py",
   "mimetype": "text/x-python",
   "name": "python",
   "nbconvert_exporter": "python",
   "pygments_lexer": "ipython3",
   "version": "3.4.4"
  }
 },
 "nbformat": 4,
 "nbformat_minor": 2
}
