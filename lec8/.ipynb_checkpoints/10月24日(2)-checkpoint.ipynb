{
 "cells": [
  {
   "cell_type": "markdown",
   "metadata": {},
   "source": [
    "<h4 style=\"padding: 0.25em 0.5em;color: #494949;background: transparent;border-left: solid 5px #7db4e6;\">課題4.1</h4>\n",
    "\n",
    "[去年の夏のデータ](https://raw.githubusercontent.com/maskot1977/ipython_notebook/master/toydata/ice_cream2.txt)をダウンロードし、散布図を描いてください。"
   ]
  },
  {
   "cell_type": "code",
   "execution_count": 10,
   "metadata": {
    "collapsed": false
   },
   "outputs": [
    {
     "data": {
      "text/plain": [
       "('ice_cream2.txt', <http.client.HTTPMessage at 0x10bcf1fd0>)"
      ]
     },
     "execution_count": 10,
     "metadata": {},
     "output_type": "execute_result"
    }
   ],
   "source": [
    "import urllib.request as req\n",
    "url = 'https://raw.githubusercontent.com/maskot1977/ipython_notebook/master/toydata/ice_cream2.txt'\n",
    "req.urlretrieve(url, 'ice_cream2.txt')"
   ]
  },
  {
   "cell_type": "code",
   "execution_count": 13,
   "metadata": {
    "collapsed": true
   },
   "outputs": [],
   "source": [
    "col1,col2,col3 = [],[],[]\n",
    "for i, line in enumerate(open('ice_cream2.txt', encoding='utf-8')):\n",
    "    if i == 0:\n",
    "        continue\n",
    "    _ = line.split(' ')\n",
    "    col1.append(int(_[0]))\n",
    "    col2.append(int(_[1]))\n",
    "    col3.append(int(_[2]))"
   ]
  },
  {
   "cell_type": "code",
   "execution_count": 14,
   "metadata": {
    "collapsed": false
   },
   "outputs": [
    {
     "data": {
      "text/plain": [
       "[382,\n",
       " 324,\n",
       " 338,\n",
       " 317,\n",
       " 341,\n",
       " 360,\n",
       " 339,\n",
       " 329,\n",
       " 218,\n",
       " 402,\n",
       " 342,\n",
       " 205,\n",
       " 368,\n",
       " 196,\n",
       " 304,\n",
       " 294,\n",
       " 275,\n",
       " 336,\n",
       " 384,\n",
       " 368]"
      ]
     },
     "execution_count": 14,
     "metadata": {},
     "output_type": "execute_result"
    }
   ],
   "source": [
    "col3"
   ]
  },
  {
   "cell_type": "code",
   "execution_count": 15,
   "metadata": {
    "collapsed": false,
    "scrolled": true
   },
   "outputs": [
    {
     "data": {
      "image/png": "[encoded data removed]",
      "text/plain": [
       "<matplotlib.figure.Figure at 0x10bc7fa20>"
      ]
     },
     "metadata": {},
     "output_type": "display_data"
    }
   ],
   "source": [
    "import matplotlib.pyplot as plt\n",
    "%matplotlib inline\n",
    "plt.scatter(col2,col3)\n",
    "plt.grid()\n",
    "plt.show()"
   ]
  },
  {
   "cell_type": "markdown",
   "metadata": {},
   "source": [
    "<h4 style=\"padding: 0.25em 0.5em;color: #494949;background: transparent;border-left: solid 5px #7db4e6;\">課題4.4</h4>\n",
    "\n",
    "[去年の夏のデータ](https://raw.githubusercontent.com/maskot1977/ipython_notebook/master/toydata/ice_cream2.txt)をダウンロードし、以下の問に答えてください。\n",
    "\n",
    "(1)　相関係数を求めてください。\n",
    "    * 相関係数＝偏差積の平均／（xの標準偏差＊yの標準偏差）\n",
    "\n",
    "(2)　回帰直線の傾きを求めてください。\n",
    "    * 回帰直線の傾き＝相関係数＊（（yの標準偏差）／（xの標準偏差））\n",
    "\n",
    "(3)　回帰直線のy切片を求めてください。\n",
    "\n",
    "(4)　散布図に回帰直線を描き入れてください。"
   ]
  },
  {
   "cell_type": "code",
   "execution_count": 17,
   "metadata": {
    "collapsed": true
   },
   "outputs": [],
   "source": [
    "# 平均値を求める関数\n",
    "def average(list):\n",
    "    return np.sum(list)/len(list)\n",
    "# 分散を求める関数\n",
    "def variance(list):\n",
    "    mu = average(list)\n",
    "    diff = np.array(list) - mu\n",
    "    return np.sum(np.square(diff))/len(list)\n",
    "# 標準偏差を求める関数\n",
    "def standard_deviation(list):\n",
    "    return np.sqrt(variance(list))\n",
    "# 共分散 = 偏差積の平均 （偏差値、ではありません。偏差積、です）\n",
    "def covariance(list1, list2):\n",
    "    mu1,mu2 = average(list1), average(list2)\n",
    "    diff1, diff2 = np.array(list1) - mu1, np.array(list2) - mu2\n",
    "    return np.sum(diff1 * diff2)/len(list1)\n",
    "# 相関係数 = 共分散を list1, list2 の標準偏差で割ったもの\n",
    "def correlation(list1, list2):\n",
    "    return covariance(list1,list2)/(standard_deviation(list1)*standard_deviation(list2))"
   ]
  },
  {
   "cell_type": "code",
   "execution_count": 19,
   "metadata": {
    "collapsed": false
   },
   "outputs": [
    {
     "data": {
      "text/plain": [
       "0.87035187693544258"
      ]
     },
     "execution_count": 19,
     "metadata": {},
     "output_type": "execute_result"
    }
   ],
   "source": [
    "# 相関係数を求める\n",
    "import numpy as np\n",
    "correlation(col2, col3)"
   ]
  },
  {
   "cell_type": "code",
   "execution_count": 23,
   "metadata": {
    "collapsed": false
   },
   "outputs": [],
   "source": [
    "# 回帰直線の傾き＝相関係数＊（（yの標準偏差）／（xの標準偏差））を求める関数を作ってください。\n",
    "def a_fit(xlist, ylist):\n",
    "    return correlation(xlist,ylist) * (standard_deviation(ylist)/standard_deviation(xlist))"
   ]
  },
  {
   "cell_type": "code",
   "execution_count": 24,
   "metadata": {
    "collapsed": false
   },
   "outputs": [],
   "source": [
    "# y切片＝yの平均－（傾き＊xの平均）を求める関数を作ってください。\n",
    "def b_fit(xlist, ylist):\n",
    "    return average(ylist) - (a_fit(xlist,ylist) * average(xlist))"
   ]
  },
  {
   "cell_type": "code",
   "execution_count": 25,
   "metadata": {
    "collapsed": false
   },
   "outputs": [
    {
     "name": "stdout",
     "output_type": "stream",
     "text": [
      "y = ax + b; (a, b) = (17.24825704759018, -229.9818126705062)\n"
     ]
    }
   ],
   "source": [
    "# 回帰直線の式\n",
    "print(\"y = ax + b; (a, b) = ({0}, {1})\".format(a_fit(col2, col3), b_fit(col2, col3)))"
   ]
  },
  {
   "cell_type": "code",
   "execution_count": 26,
   "metadata": {
    "collapsed": false
   },
   "outputs": [
    {
     "data": {
      "text/plain": [
       "304.71415580478936"
      ]
     },
     "execution_count": 26,
     "metadata": {},
     "output_type": "execute_result"
    }
   ],
   "source": [
    "# たとえば最高気温 31度のときの予測客数は\n",
    "a_fit(col2, col3) * 31 + b_fit(col2, col3)"
   ]
  },
  {
   "cell_type": "code",
   "execution_count": 28,
   "metadata": {
    "collapsed": true
   },
   "outputs": [],
   "source": [
    "a, b = a_fit(col2,col3), b_fit(col2,col3)"
   ]
  },
  {
   "cell_type": "code",
   "execution_count": 29,
   "metadata": {
    "collapsed": false
   },
   "outputs": [],
   "source": [
    "# 回帰直線を描くための準備として、回帰直線の式を参考に、xの最小値〜最大値の範囲のxに対応するyの予測値（fitted_y）を計算してください。\n",
    "test_x = []\n",
    "fitted_y = []\n",
    "for x in range(min(col2), max(col2)+1):\n",
    "    test_x.append(x)\n",
    "    fitted_y.append(a*x+b)"
   ]
  },
  {
   "cell_type": "code",
   "execution_count": 30,
   "metadata": {
    "collapsed": false
   },
   "outputs": [
    {
     "data": {
      "image/png": "[encoded data removed]",
      "text/plain": [
       "<matplotlib.figure.Figure at 0x10a418550>"
      ]
     },
     "metadata": {},
     "output_type": "display_data"
    }
   ],
   "source": [
    "# 散布図と回帰直線を描く。\n",
    "plt.figure(figsize=(8,5))\n",
    "plt.plot(col2,col3,'bo', label='Exp.')\n",
    "plt.plot(test_x,fitted_y,'k-', label='fitted line', linewidth=10, alpha=0.3)\n",
    "plt.title(\"Numbers of customers in last summer\")\n",
    "plt.xlabel(\"Temperature\")\n",
    "plt.ylabel(\"Customers\")\n",
    "plt.legend(loc='best',fancybox=True, shadow=True)\n",
    "plt.grid(True)\n",
    "for day, x, y in zip(col1, col2, col3):\n",
    "    plt.text(x, y, day, alpha=0.8, size=12)\n",
    "plt.show()"
   ]
  },
  {
   "cell_type": "markdown",
   "metadata": {},
   "source": [
    "<h4 style=\"padding: 0.25em 0.5em;color: #494949;background: transparent;border-left: solid 5px #7db4e6;\">課題4.5</h4>\n",
    "\n",
    "[店舗別８月の平均客数データ（12店舗）](https://raw.githubusercontent.com/maskot1977/ipython_notebook/master/toydata/shop_distance.txt)をダウンロードし、相関係数、回帰直線の傾き、回帰直線のy切片を求め、散布図に回帰直線を描き入れてください。"
   ]
  },
  {
   "cell_type": "code",
   "execution_count": 32,
   "metadata": {
    "collapsed": false
   },
   "outputs": [
    {
     "data": {
      "text/plain": [
       "('shop_distance.txt', <http.client.HTTPMessage at 0x10d3e8400>)"
      ]
     },
     "execution_count": 32,
     "metadata": {},
     "output_type": "execute_result"
    }
   ],
   "source": [
    "url = 'https://raw.githubusercontent.com/maskot1977/ipython_notebook/master/toydata/shop_distance.txt'\n",
    "req.urlretrieve(url, 'shop_distance.txt')"
   ]
  },
  {
   "cell_type": "code",
   "execution_count": 35,
   "metadata": {
    "collapsed": true
   },
   "outputs": [],
   "source": [
    "col1,col2,col3 = [],[],[]\n",
    "for i, line in enumerate(open('shop_distance.txt', encoding='utf-8')):\n",
    "    if i == 0:\n",
    "        continue\n",
    "    _ = line.split(' ')\n",
    "    col1.append(int(_[0]))\n",
    "    col2.append(int(_[1]))\n",
    "    col3.append(int(_[2]))"
   ]
  },
  {
   "cell_type": "code",
   "execution_count": 36,
   "metadata": {
    "collapsed": false
   },
   "outputs": [
    {
     "data": {
      "text/plain": [
       "-0.9795221182977909"
      ]
     },
     "execution_count": 36,
     "metadata": {},
     "output_type": "execute_result"
    }
   ],
   "source": [
    "correlation(col2,col3)"
   ]
  },
  {
   "cell_type": "code",
   "execution_count": 37,
   "metadata": {
    "collapsed": false
   },
   "outputs": [
    {
     "name": "stdout",
     "output_type": "stream",
     "text": [
      "y = ax + b; (-0.47614044298381675,755.3495972099588)\n"
     ]
    }
   ],
   "source": [
    "a, b = a_fit(col2,col3), b_fit(col2,col3)\n",
    "print('y = ax + b; ({0},{1})'.format(a,b))"
   ]
  },
  {
   "cell_type": "code",
   "execution_count": 38,
   "metadata": {
    "collapsed": true
   },
   "outputs": [],
   "source": [
    "test_x = []\n",
    "fitted_y = []\n",
    "for x in range(min(col2), max(col2)+1):\n",
    "    test_x.append(x)\n",
    "    fitted_y.append(a*x+b)"
   ]
  },
  {
   "cell_type": "code",
   "execution_count": 41,
   "metadata": {
    "collapsed": false,
    "scrolled": true
   },
   "outputs": [
    {
     "data": {
      "image/png": "[encoded data removed]",
      "text/plain": [
       "<matplotlib.figure.Figure at 0x10d601940>"
      ]
     },
     "metadata": {},
     "output_type": "display_data"
    }
   ],
   "source": [
    "# 散布図と回帰直線を描く。\n",
    "plt.figure(figsize=(8,5))\n",
    "plt.plot(col2,col3,'bo', label='Exp.')\n",
    "plt.plot(test_x,fitted_y,'k-', label='fitted line', linewidth=10, alpha=0.3)\n",
    "plt.title(\"Numbers of customers compare to distance\")\n",
    "plt.xlabel(\"Distance\")\n",
    "plt.ylabel(\"Customers\")\n",
    "plt.legend(loc='best',fancybox=True, shadow=True)\n",
    "plt.grid(True)\n",
    "for day, x, y in zip(col1, col2, col3):\n",
    "    plt.text(x, y, day, alpha=0.8, size=12)\n",
    "plt.show()"
   ]
  }
 ],
 "metadata": {
  "kernelspec": {
   "display_name": "Python 3",
   "language": "python",
   "name": "python3"
  },
  "language_info": {
   "codemirror_mode": {
    "name": "ipython",
    "version": 3
   },
   "file_extension": ".py",
   "mimetype": "text/x-python",
   "name": "python",
   "nbconvert_exporter": "python",
   "pygments_lexer": "ipython3",
   "version": "3.4.4"
  }
 },
 "nbformat": 4,
 "nbformat_minor": 0
}
