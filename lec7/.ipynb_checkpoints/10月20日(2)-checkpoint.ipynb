{
 "cells": [
  {
   "cell_type": "markdown",
   "metadata": {},
   "source": [
    "<h4 style=\"padding: 0.25em 0.5em;color: #494949;background: transparent;border-left: solid 5px #7db4e6;\">課題2.1</h4>\n",
    "\n",
    "[店舗Aと店舗Bの８月の客数データ](https://raw.githubusercontent.com/maskot1977/ipython_notebook/master/toydata/shopAandB.txt)をダウンロードし、下記の例のように散布図を描いてください。\n",
    "\n",
    "__ヒント__：今度のデータは全部で４列。４列目は店舗AかBかを表す列なので、これを利用して場合分けをする必要があります。Aの０列目、１列目、２列目をそれぞれ col1a, col2a, col3a、Bの０列目、１列目、２列目をそれぞれ col2a, col2b, col2c という名のリストに格納してください。"
   ]
  },
  {
   "cell_type": "code",
   "execution_count": 1,
   "metadata": {
    "collapsed": false
   },
   "outputs": [
    {
     "data": {
      "text/plain": [
       "('icecreamab.txt', <http.client.HTTPMessage at 0x10334fa58>)"
      ]
     },
     "execution_count": 1,
     "metadata": {},
     "output_type": "execute_result"
    }
   ],
   "source": [
    "import urllib.request as req\n",
    "req.urlretrieve('https://raw.githubusercontent.com/maskot1977/ipython_notebook/master/toydata/shopAandB.txt', 'icecreamab.txt')"
   ]
  },
  {
   "cell_type": "code",
   "execution_count": 2,
   "metadata": {
    "collapsed": false
   },
   "outputs": [],
   "source": [
    "col1a, col2a, col3a = [],[],[]\n",
    "col1b, col2b, col3b = [],[],[]\n",
    "for i, line in enumerate(open('icecreamab.txt', encoding='utf-8')):\n",
    "    if i == 0:\n",
    "        continue\n",
    "    tmp = line.split(' ')\n",
    "    #print(tmp)\n",
    "    if tmp[3] == 'A\\n':\n",
    "        col1a.append(int(tmp[0]))\n",
    "        col2a.append(int(tmp[1]))\n",
    "        col3a.append(int(tmp[2]))\n",
    "    else:\n",
    "        col1b.append(int(tmp[0]))\n",
    "        col2b.append(int(tmp[1]))\n",
    "        col3b.append(int(tmp[2]))"
   ]
  },
  {
   "cell_type": "code",
   "execution_count": 3,
   "metadata": {
    "collapsed": false
   },
   "outputs": [
    {
     "data": {
      "text/plain": [
       "[1, 2, 3, 4, 5, 6, 7, 8, 9, 10]"
      ]
     },
     "execution_count": 3,
     "metadata": {},
     "output_type": "execute_result"
    }
   ],
   "source": [
    "col1a"
   ]
  },
  {
   "cell_type": "code",
   "execution_count": 4,
   "metadata": {
    "collapsed": false,
    "scrolled": true
   },
   "outputs": [
    {
     "data": {
      "image/png": "[encoded data removed]",
      "text/plain": [
       "<matplotlib.figure.Figure at 0x103372f28>"
      ]
     },
     "metadata": {},
     "output_type": "display_data"
    }
   ],
   "source": [
    "#２つのサブプロットを使って散布図を描く。\n",
    "import matplotlib.pyplot as plt\n",
    "%matplotlib inline\n",
    "\n",
    "plt.figure(figsize=(8, 4))\n",
    "\n",
    "plt.subplot(1, 2, 1)\n",
    "plt.scatter(col2a, col3a, alpha=0.5)\n",
    "plt.title(\"ShopA\")\n",
    "plt.xlabel(\"Temperature\")\n",
    "plt.ylabel(\"Customers\")\n",
    "plt.xlim([25, 35])\n",
    "plt.ylim([250, 500])\n",
    "for day, x, y in zip(col1a, col2a, col3a):\n",
    "    plt.text(x, y, day, alpha=0.8, size=12)\n",
    "plt.grid()\n",
    "\n",
    "plt.subplot(1, 2, 2)\n",
    "plt.scatter(col2b, col3b, alpha=0.5)\n",
    "plt.title(\"ShopB\")\n",
    "plt.xlabel(\"Tempareture\")\n",
    "plt.xlim([25, 35])\n",
    "plt.ylim([250, 500])\n",
    "for day, x, y in zip(col1b, col2b, col3b):\n",
    "    plt.text(x, y, day, alpha=0.8, size=12)\n",
    "plt.grid()\n",
    "\n",
    "plt.show()"
   ]
  },
  {
   "cell_type": "markdown",
   "metadata": {},
   "source": [
    "<h4 style=\"padding: 0.25em 0.5em;color: #494949;background: transparent;border-left: solid 5px #7db4e6;\">課題2.2</h4>\n",
    "\n",
    "[店舗Aと店舗Bの８月の客数データ](https://raw.githubusercontent.com/maskot1977/ipython_notebook/master/toydata/shopAandB.txt)のデータを用い、店Aにおける最高気温と来客数の間の相関係数、店Bにおける最高気温と来客数の間の相関係数をそれぞれ求めてください。"
   ]
  },
  {
   "cell_type": "markdown",
   "metadata": {},
   "source": [
    "* 平均は、全体の合計を個数で割ったものです。"
   ]
  },
  {
   "cell_type": "code",
   "execution_count": 5,
   "metadata": {
    "collapsed": false
   },
   "outputs": [],
   "source": [
    "# 平均値を求める関数\n",
    "def average(list):\n",
    "    return np.sum(list)/len(list)"
   ]
  },
  {
   "cell_type": "markdown",
   "metadata": {},
   "source": [
    "* 標準偏差は、データのばらつきを表したものです。具体的には、それぞれのデータの平均からの差の二乗をすべて合計したものを個数で割り（これが「分散」）、そのルート（平方根）をとったものです。"
   ]
  },
  {
   "cell_type": "code",
   "execution_count": 6,
   "metadata": {
    "collapsed": true
   },
   "outputs": [],
   "source": [
    "# 分散を求める関数\n",
    "def variance(list):\n",
    "    mu = average(list)\n",
    "    diff = np.array(list) - mu\n",
    "    return np.sum(np.square(diff))/len(list)"
   ]
  },
  {
   "cell_type": "code",
   "execution_count": 7,
   "metadata": {
    "collapsed": true
   },
   "outputs": [],
   "source": [
    "# 標準偏差を求める関数\n",
    "def standard_deviation(list):\n",
    "    return np.sqrt(variance(list))"
   ]
  },
  {
   "cell_type": "markdown",
   "metadata": {},
   "source": [
    "* 平均からの差を、偏差と呼びます。Xの偏差とYの偏差を掛け合わせたものを偏差積と呼びます。偏差積の平均を共分散と呼びます。"
   ]
  },
  {
   "cell_type": "code",
   "execution_count": 8,
   "metadata": {
    "collapsed": true
   },
   "outputs": [],
   "source": [
    "# 共分散 = 偏差積の平均 （偏差値、ではありません。偏差積、です）\n",
    "def covariance(list1, list2):\n",
    "    mu1,mu2 = average(list1), average(list2)\n",
    "    diff1, diff2 = np.array(list1) - mu1, np.array(list2) - mu2\n",
    "    return np.sum(diff1 * diff2)/len(list1)"
   ]
  },
  {
   "cell_type": "code",
   "execution_count": 9,
   "metadata": {
    "collapsed": true
   },
   "outputs": [],
   "source": [
    "# 相関係数 = 共分散を list1, list2 の標準偏差で割ったもの\n",
    "def correlation(list1, list2):\n",
    "    return covariance(list1,list2)/(standard_deviation(list1)*standard_deviation(list2))"
   ]
  },
  {
   "cell_type": "code",
   "execution_count": 10,
   "metadata": {
    "collapsed": false
   },
   "outputs": [
    {
     "data": {
      "text/plain": [
       "('icecreamco.txt', <http.client.HTTPMessage at 0x10804df60>)"
      ]
     },
     "execution_count": 10,
     "metadata": {},
     "output_type": "execute_result"
    }
   ],
   "source": [
    "# 課題2.2を解いてください。\n",
    "url = 'https://raw.githubusercontent.com/maskot1977/ipython_notebook/master/toydata/shopAandB.txt'\n",
    "req.urlretrieve(url, 'icecreamco.txt')"
   ]
  },
  {
   "cell_type": "code",
   "execution_count": 11,
   "metadata": {
    "collapsed": true
   },
   "outputs": [],
   "source": [
    "col1a,col2a,col3a,col1b,col2b,col3b = [],[],[],[],[],[]\n",
    "for i, line in enumerate(open('icecreamco.txt', encoding='utf-8')):\n",
    "    if i == 0:\n",
    "        continue\n",
    "    tmp = line.split(' ')\n",
    "    if tmp[3] == 'A\\n':\n",
    "        col1a.append(int(tmp[0]))\n",
    "        col2a.append(int(tmp[1]))\n",
    "        col3a.append(int(tmp[2]))\n",
    "    else:\n",
    "        col1b.append(int(tmp[0]))\n",
    "        col2b.append(int(tmp[1]))\n",
    "        col3b.append(int(tmp[2]))"
   ]
  },
  {
   "cell_type": "code",
   "execution_count": 20,
   "metadata": {
    "collapsed": false,
    "scrolled": true
   },
   "outputs": [
    {
     "data": {
      "image/png": "[encoded data removed]",
      "text/plain": [
       "<matplotlib.figure.Figure at 0x104764d30>"
      ]
     },
     "metadata": {},
     "output_type": "display_data"
    }
   ],
   "source": [
    "plt.figure(figsize=(8, 4))\n",
    "plt.subplot(1,2,1)\n",
    "plt.scatter(col2a, col3a)\n",
    "plt.title('shop A')\n",
    "plt.xlabel('temp')\n",
    "plt.ylabel('customer')\n",
    "for day, x, y in zip(col1a, col2a, col3a):\n",
    "    plt.text(x, y, day, alpha=0.8, size=12)\n",
    "plt.grid()\n",
    "plt.subplot(1,2,2)\n",
    "plt.scatter(col2b, col3b)\n",
    "plt.title('shop B')\n",
    "plt.xlabel('temp')\n",
    "plt.ylabel('customer')\n",
    "for day, x, y in zip(col1b, col2b, col3b):\n",
    "    plt.text(x, y, day, alpha=0.8, size=12)\n",
    "plt.grid()\n",
    "plt.show()"
   ]
  },
  {
   "cell_type": "code",
   "execution_count": 21,
   "metadata": {
    "collapsed": false
   },
   "outputs": [
    {
     "data": {
      "text/plain": [
       "(0.76002645836790872, 0.96353813884969519)"
      ]
     },
     "execution_count": 21,
     "metadata": {},
     "output_type": "execute_result"
    }
   ],
   "source": [
    "import numpy as np\n",
    "correlation(col2a,col3a), correlation(col2b, col3b)"
   ]
  },
  {
   "cell_type": "markdown",
   "metadata": {},
   "source": [
    "<h4 style=\"padding: 0.25em 0.5em;color: #494949;background: transparent;border-left: solid 5px #7db4e6;\">課題2.5</h4>\n",
    "\n",
    "[店舗別８月の平均客数データ（12店舗）](https://raw.githubusercontent.com/maskot1977/ipython_notebook/master/toydata/shop_distance.txt)を用い、駅からの距離(m)と平均客数の間の相関係数を求めてください。"
   ]
  },
  {
   "cell_type": "code",
   "execution_count": 15,
   "metadata": {
    "collapsed": false
   },
   "outputs": [
    {
     "data": {
      "text/plain": [
       "('icecreamdist.txt', <http.client.HTTPMessage at 0x10821ba90>)"
      ]
     },
     "execution_count": 15,
     "metadata": {},
     "output_type": "execute_result"
    }
   ],
   "source": [
    "url = 'https://raw.githubusercontent.com/maskot1977/ipython_notebook/master/toydata/shop_distance.txt'\n",
    "req.urlretrieve(url, 'icecreamdist.txt')"
   ]
  },
  {
   "cell_type": "code",
   "execution_count": 16,
   "metadata": {
    "collapsed": true
   },
   "outputs": [],
   "source": [
    "col1,col2,col3 = [],[],[]\n",
    "for i, line in enumerate(open('icecreamdist.txt', encoding='utf-8')):\n",
    "    if i == 0:\n",
    "        continue\n",
    "    tmp = line.split(' ')\n",
    "    col1.append(int(tmp[0]))\n",
    "    col2.append(int(tmp[1]))\n",
    "    col3.append(int(tmp[2]))"
   ]
  },
  {
   "cell_type": "code",
   "execution_count": 17,
   "metadata": {
    "collapsed": false
   },
   "outputs": [
    {
     "data": {
      "image/png": "[encoded data removed]",
      "text/plain": [
       "<matplotlib.figure.Figure at 0x10817b908>"
      ]
     },
     "metadata": {},
     "output_type": "display_data"
    }
   ],
   "source": [
    "plt.scatter(col2,col3)\n",
    "plt.title('dist-shop')\n",
    "plt.xlabel('dist')\n",
    "plt.ylabel('customer')\n",
    "plt.show()"
   ]
  },
  {
   "cell_type": "code",
   "execution_count": 18,
   "metadata": {
    "collapsed": false
   },
   "outputs": [
    {
     "data": {
      "text/plain": [
       "-0.9795221182977909"
      ]
     },
     "execution_count": 18,
     "metadata": {},
     "output_type": "execute_result"
    }
   ],
   "source": [
    "correlation(col2,col3)"
   ]
  },
  {
   "cell_type": "markdown",
   "metadata": {},
   "source": [
    "<h4 style=\"border-bottom: solid 1px black;\">相関の強さ</h4>\n",
    "<p class=\"photo\"><img src=\"image/aiko-hirameku.jpg\" width=\"185\" height=\"135\"></p>\n",
    "<P class=\"speech\">───約マイナス0.98。最小で、マイナス1ですから、非常に強い負の相関ですね。三ヶ島先輩。</P>\n",
    "<P class=\"speech\">「そう、強い負の相関だね。相関係数をコトバで形容するときは、慣例で次のような言い回しが使われているよ」</P>\n",
    "<P class=\"photo\"><img src=\"image/senpai-setsumei.jpg\" width=\"135\" height=\"136\"></P>\n",
    "<table width=\"40%\" border=\"1\" align=\"center\" cellpadding=\"0\" cellspacing=\"0\">\n",
    "  <tr bgcolor=\"#FFFF66\"> \n",
    "    <td width=\"43%\"> \n",
    "      <div align=\"center\">±0.7～±1</div></td>\n",
    "    <td width=\"57%\"> \n",
    "      <div align=\"center\">強い相関がある</div></td>\n",
    "  </tr>\n",
    "  <tr bgcolor=\"#FFFF99\"> \n",
    "    <td> \n",
    "      <div align=\"center\">±0.4～±0.7</div></td>\n",
    "    <td> \n",
    "      <div align=\"center\">中程度の相関がある</div></td>\n",
    "  </tr>\n",
    "  <tr bgcolor=\"#FFFFCC\"> \n",
    "    <td> \n",
    "      <div align=\"center\">±0.2～±0.4</div></td>\n",
    "    <td> \n",
    "      <div align=\"center\">弱い相関がある</div></td>\n",
    "  </tr>\n",
    "  <tr bgcolor=\"#FFFFFF\"> \n",
    "    <td> \n",
    "      <div align=\"center\">±0～±0.2</div></td>\n",
    "    <td> \n",
    "      <div align=\"center\">ほとんど相関がない</div></td>\n",
    "  </tr>\n",
    "</table>\n",
    "\n"
   ]
  },
  {
   "cell_type": "code",
   "execution_count": null,
   "metadata": {
    "collapsed": true
   },
   "outputs": [],
   "source": [
    "# アイスクリーム統計学 第２章 課題"
   ]
  }
 ],
 "metadata": {
  "kernelspec": {
   "display_name": "Python 3",
   "language": "python",
   "name": "python3"
  },
  "language_info": {
   "codemirror_mode": {
    "name": "ipython",
    "version": 3
   },
   "file_extension": ".py",
   "mimetype": "text/x-python",
   "name": "python",
   "nbconvert_exporter": "python",
   "pygments_lexer": "ipython3",
   "version": "3.4.4"
  }
 },
 "nbformat": 4,
 "nbformat_minor": 0
}
