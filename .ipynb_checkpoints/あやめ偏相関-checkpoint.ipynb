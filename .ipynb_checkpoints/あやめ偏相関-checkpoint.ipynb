{
 "cells": [
  {
   "cell_type": "code",
   "execution_count": 1,
   "metadata": {
    "collapsed": true
   },
   "outputs": [],
   "source": [
    "import math\n",
    "import numpy as np\n",
    "import pandas as pd\n",
    "import urllib.request\n",
    "import matplotlib.pyplot as plt\n",
    "%matplotlib inline\n",
    "from sklearn import linear_model\n",
    "urllib.request.urlretrieve('https://raw.githubusercontent.com/maskot1977/ipython_notebook/master/toydata/iris.txt', 'iris.txt')\n",
    "df = pd.read_csv('iris.txt', sep='\\t', index_col=0)\n",
    "\n",
    "def ave(list):\n",
    "    sum=0\n",
    "    for x in list:\n",
    "        sum+=x\n",
    "    return sum/len(list)\n",
    "#ave = average of all elements of a list\n",
    "\n",
    "def variance(list):\n",
    "    a=ave(list)\n",
    "    sum=0\n",
    "    for x in list:\n",
    "        sum+=(x-a)**2\n",
    "    return sum/len(list)\n",
    "\n",
    "def sd(list): \n",
    "    return math.sqrt(variance(list))\n",
    "#sd = standard deviation\n",
    "\n",
    "def covariance(list1,list2):\n",
    "    ave1=ave(list1);ave2=ave(list2)\n",
    "    sum=0\n",
    "    for x,y in zip(list1,list2):\n",
    "        sum+=(x-ave1)*(y-ave2)\n",
    "    return sum/len(list1)\n",
    "\n",
    "def correlation(list1,list2):\n",
    "    return covariance(list1,list2)/(sd(list1)*sd(list2))\n",
    "\n",
    "def pc(a, b, y):\n",
    "    return (correlation(b,y)-(correlation(a,y)*correlation(a,b)))/math.sqrt((1-(correlation(a,y)**2))*(1-(correlation(a,b)**2)))\n",
    "#pc = partial correlation coefficient between b and y without the influence of a\n",
    "\n",
    "def pc2(a, b, x, y):\n",
    "    return (pc(a,x,y)-(pc(a,b,y)*pc(a,b,x)))/math.sqrt((1-(pc(a,b,y)**2))*(1-(pc(a,b,x)**2)))\n",
    "#pc2 = partial correlation coefficient between x and y without the influence of a and b"
   ]
  },
  {
   "cell_type": "code",
   "execution_count": 2,
   "metadata": {
    "collapsed": false
   },
   "outputs": [],
   "source": [
    "sl0=[];sw0=[];pl0=[];pw0=[]\n",
    "sl1=[];sw1=[];pl1=[];pw1=[]\n",
    "sl2=[];sw2=[];pl2=[];pw2=[]\n",
    "for i,line in enumerate(open('iris.txt')):\n",
    "    if i==0:  continue\n",
    "    c=line.split()\n",
    "    if c[5]==\"0\":\n",
    "        sl0.append((float(c[1])));sw0.append(float(c[2]));pl0.append(float(c[3]));pw0.append(float(c[4]))\n",
    "    if c[5]==\"1\":\n",
    "        sl1.append((float(c[1])));sw1.append(float(c[2]));pl1.append(float(c[3]));pw1.append(float(c[4]))\n",
    "    if c[5]==\"2\":\n",
    "        sl2.append((float(c[1])));sw2.append(float(c[2]));pl2.append(float(c[3]));pw2.append(float(c[4]))  "
   ]
  },
  {
   "cell_type": "code",
   "execution_count": 3,
   "metadata": {
    "collapsed": false
   },
   "outputs": [],
   "source": [
    "def sort_pc(sl,sw,pl,pw):\n",
    "    new={'Sepal.Length & Sepal.Width':pc2(pw,pl,sl,sw),\n",
    "                'Sepal.Length & Patal.Length':pc2(sw,pw,sl,pl),\n",
    "                'Sepal.Length & Patal.Width':pc2(sw,pl,sl,pw),\n",
    "                'Sepal.Width & Petal.Length':pc2(sl,pw,sw,pl),\n",
    "                'Sepal.Width & Petal.Width':pc2(sl,pl,sw,pw),\n",
    "                'Petal.Length & Petal.Width':pc2(sl,sw,pl,pw)}\n",
    "    return sorted(new.items(), key=lambda x:x[1],reverse=True)"
   ]
  },
  {
   "cell_type": "code",
   "execution_count": 4,
   "metadata": {
    "collapsed": false,
    "scrolled": true
   },
   "outputs": [
    {
     "name": "stdout",
     "output_type": "stream",
     "text": [
      "Species 0\n",
      "  Partial correlation coefficient     value\n",
      "0      Sepal.Length & Sepal.Width  0.722286\n",
      "1      Petal.Length & Petal.Width  0.279687\n",
      "2     Sepal.Length & Patal.Length  0.166043\n",
      "3      Sepal.Length & Patal.Width  0.106561\n",
      "4       Sepal.Width & Petal.Width  0.051781\n",
      "5      Sepal.Width & Petal.Length -0.045218\n",
      "Species 1\n",
      "  Partial correlation coefficient     value\n",
      "0      Petal.Length & Petal.Width  0.648051\n",
      "1     Sepal.Length & Patal.Length  0.629214\n",
      "2       Sepal.Width & Petal.Width  0.469756\n",
      "3      Sepal.Length & Sepal.Width  0.268610\n",
      "4      Sepal.Width & Petal.Length -0.107101\n",
      "5      Sepal.Length & Patal.Width -0.224165\n",
      "Species 2\n",
      "  Partial correlation coefficient     value\n",
      "0     Sepal.Length & Patal.Length  0.838156\n",
      "1       Sepal.Width & Petal.Width  0.483871\n",
      "2      Sepal.Length & Sepal.Width  0.269084\n",
      "3      Petal.Length & Petal.Width  0.179660\n",
      "4      Sepal.Width & Petal.Length -0.075586\n",
      "5      Sepal.Length & Patal.Width -0.125364\n"
     ]
    }
   ],
   "source": [
    "print(\"Species 0\")\n",
    "print(pd.DataFrame(sort_pc(sl0,sw0,pl0,pw0), columns=['Partial correlation coefficient', 'value']))\n",
    "print(\"Species 1\")\n",
    "print(pd.DataFrame(sort_pc(sl1,sw1,pl1,pw1), columns=['Partial correlation coefficient', 'value']))\n",
    "print(\"Species 2\")\n",
    "print(pd.DataFrame(sort_pc(sl2,sw2,pl2,pw2), columns=['Partial correlation coefficient', 'value']))"
   ]
  },
  {
   "cell_type": "code",
   "execution_count": 5,
   "metadata": {
    "collapsed": false
   },
   "outputs": [],
   "source": [
    "def pctable(sl,sw,pl,pw):\n",
    "    slsw=pc2(pw,pl,sl,sw)\n",
    "    slpl=pc2(sw,pw,sl,pl)\n",
    "    slpw=pc2(sw,pl,sl,pw)\n",
    "    swpl=pc2(sl,pw,sw,pl)\n",
    "    swpw=pc2(sl,pl,sw,pw)\n",
    "    plpw=pc2(sl,sw,pl,pw)\n",
    "    table=[[1,slsw,slpl,slpw],[slsw,1,swpl,swpw],[slpl,swpl,1,plpw],[slpw,swpw,plpw,1]]\n",
    "    return table\n",
    "\n",
    "def clm(sl,sw,pl,pw,sp):    \n",
    "    valname=('Sepal.Length','Sepal.Width','Petal.Length','Petal.Width')\n",
    "    fig = plt.figure(figsize=(6, 6))\n",
    "    plt.imshow(pctable(sl,sw,pl,pw), interpolation='nearest', cmap=plt.cm.Blues)\n",
    "    plt.colorbar()\n",
    "    plt.xticks(np.arange(4),valname, rotation=45)\n",
    "    plt.yticks(np.arange(4),valname)\n",
    "    plt.title('Partial correlation coefficient of species '+str(sp))\n",
    "    plt.tight_layout()"
   ]
  },
  {
   "cell_type": "code",
   "execution_count": 6,
   "metadata": {
    "collapsed": false
   },
   "outputs": [
    {
     "data": {
      "text/html": [
       "<div>\n",
       "<table border=\"1\" class=\"dataframe\">\n",
       "  <thead>\n",
       "    <tr style=\"text-align: right;\">\n",
       "      <th></th>\n",
       "      <th>0</th>\n",
       "      <th>1</th>\n",
       "      <th>2</th>\n",
       "      <th>3</th>\n",
       "    </tr>\n",
       "  </thead>\n",
       "  <tbody>\n",
       "    <tr>\n",
       "      <th>0</th>\n",
       "      <td>1.000000</td>\n",
       "      <td>0.722286</td>\n",
       "      <td>0.166043</td>\n",
       "      <td>0.106561</td>\n",
       "    </tr>\n",
       "    <tr>\n",
       "      <th>1</th>\n",
       "      <td>0.722286</td>\n",
       "      <td>1.000000</td>\n",
       "      <td>-0.045218</td>\n",
       "      <td>0.051781</td>\n",
       "    </tr>\n",
       "    <tr>\n",
       "      <th>2</th>\n",
       "      <td>0.166043</td>\n",
       "      <td>-0.045218</td>\n",
       "      <td>1.000000</td>\n",
       "      <td>0.279687</td>\n",
       "    </tr>\n",
       "    <tr>\n",
       "      <th>3</th>\n",
       "      <td>0.106561</td>\n",
       "      <td>0.051781</td>\n",
       "      <td>0.279687</td>\n",
       "      <td>1.000000</td>\n",
       "    </tr>\n",
       "  </tbody>\n",
       "</table>\n",
       "</div>"
      ],
      "text/plain": [
       "          0         1         2         3\n",
       "0  1.000000  0.722286  0.166043  0.106561\n",
       "1  0.722286  1.000000 -0.045218  0.051781\n",
       "2  0.166043 -0.045218  1.000000  0.279687\n",
       "3  0.106561  0.051781  0.279687  1.000000"
      ]
     },
     "execution_count": 6,
     "metadata": {},
     "output_type": "execute_result"
    }
   ],
   "source": [
    "pd.DataFrame(pctable(sl0,sw0,pl0,pw0))"
   ]
  },
  {
   "cell_type": "code",
   "execution_count": 7,
   "metadata": {
    "collapsed": false
   },
   "outputs": [
    {
     "data": {
      "image/png": "[encoded data removed]",
      "text/plain": [
       "<matplotlib.figure.Figure at 0x105dfd860>"
      ]
     },
     "metadata": {},
     "output_type": "display_data"
    }
   ],
   "source": [
    "clm(sl0,sw0,pl0,pw0,0)"
   ]
  },
  {
   "cell_type": "code",
   "execution_count": 8,
   "metadata": {
    "collapsed": false
   },
   "outputs": [
    {
     "data": {
      "image/png": "[encoded data removed]",
      "text/plain": [
       "<matplotlib.figure.Figure at 0x10dde4ac8>"
      ]
     },
     "metadata": {},
     "output_type": "display_data"
    }
   ],
   "source": [
    "clm(sl1,sw1,pl1,pw1,1)"
   ]
  },
  {
   "cell_type": "code",
   "execution_count": 9,
   "metadata": {
    "collapsed": false
   },
   "outputs": [
    {
     "data": {
      "image/png": "[encoded data removed]",
      "text/plain": [
       "<matplotlib.figure.Figure at 0x10de22390>"
      ]
     },
     "metadata": {},
     "output_type": "display_data"
    }
   ],
   "source": [
    "clm(sl2,sw2,pl2,pw2,2)"
   ]
  },
  {
   "cell_type": "code",
   "execution_count": null,
   "metadata": {
    "collapsed": false
   },
   "outputs": [],
   "source": []
  },
  {
   "cell_type": "code",
   "execution_count": null,
   "metadata": {
    "collapsed": false
   },
   "outputs": [],
   "source": []
  },
  {
   "cell_type": "code",
   "execution_count": 10,
   "metadata": {
    "collapsed": true
   },
   "outputs": [],
   "source": [
    "df0=df.loc[1:50,:]\n",
    "df1=df.loc[50:100,:]\n",
    "df2=df.loc[101:150,:]"
   ]
  },
  {
   "cell_type": "code",
   "execution_count": 11,
   "metadata": {
    "collapsed": false
   },
   "outputs": [
    {
     "name": "stdout",
     "output_type": "stream",
     "text": [
      "種0のslと他の重回帰（正規化なし）\n",
      "y切片= 2.35188984001\n",
      "   Coefficients          Name\n",
      "0      0.654835   Sepal.Width\n",
      "2      0.252126   Petal.Width\n",
      "1      0.237560  Petal.Length\n",
      "決定係数= 0.575\n",
      "\n",
      "種0のslと他の重回帰（正規化あり）\n",
      "   Coefficients          Name\n",
      "0      1.375153   Sepal.Width\n",
      "1      0.213804  Petal.Length\n",
      "2      0.126063   Petal.Width\n",
      "決定係数= 0.575\n"
     ]
    },
    {
     "name": "stderr",
     "output_type": "stream",
     "text": [
      "/opt/local/Library/Frameworks/Python.framework/Versions/3.4/lib/python3.4/site-packages/scipy/linalg/basic.py:884: RuntimeWarning: internal gelsd driver lwork query error, required iwork dimension not returned. This is likely the result of LAPACK bug 0038, fixed in LAPACK 3.2.2 (released July 21, 2010). Falling back to 'gelss' driver.\n",
      "  warnings.warn(mesg, RuntimeWarning)\n"
     ]
    }
   ],
   "source": [
    "print(\"種0のslと他の重回帰（正規化なし）\")\n",
    "clf = linear_model.LinearRegression()\n",
    "df0_no_sl = df0.drop(['Sepal.Length','Species'], axis=1)\n",
    "X = df0_no_sl.as_matrix()\n",
    "Y = df0['Sepal.Length'].as_matrix()\n",
    "# 予測モデルを作成\n",
    "clf.fit(X, Y)\n",
    "# 切片 (誤差)\n",
    "print(\"y切片=\",clf.intercept_)\n",
    "# 偏回帰係数\n",
    "print(pd.DataFrame({'Name':df0_no_sl.columns, 'Coefficients':clf.coef_}).sort_values('Coefficients', ascending=False) )\n",
    "# 決定係数\n",
    "print(\"決定係数=\",round(clf.score(X, Y),3))\n",
    "print()\n",
    "print(\"種0のslと他の重回帰（正規化あり）\")\n",
    "clf = linear_model.LinearRegression()\n",
    "# データフレームの各列を正規化\n",
    "df0s = df0.apply(lambda x: (x - np.mean(x)) / (np.max(x) - np.min(x)))\n",
    "df0s_no_sl = df0s.drop(['Sepal.Length','Species'], axis=1)\n",
    "X = df0s_no_sl.as_matrix()\n",
    "Y = df0['Sepal.Length'].as_matrix()\n",
    "# 予測モデルを作成\n",
    "clf.fit(X, Y)\n",
    "# 偏回帰係数(絶対値)\n",
    "print(pd.DataFrame({'Name':df0s_no_sl.columns,\n",
    "                    'Coefficients':np.abs(clf.coef_)}).sort_values('Coefficients', ascending=False) )\n",
    "# 決定係数\n",
    "print(\"決定係数=\",round(clf.score(X, Y),3))"
   ]
  },
  {
   "cell_type": "code",
   "execution_count": null,
   "metadata": {
    "collapsed": true
   },
   "outputs": [],
   "source": []
  }
 ],
 "metadata": {
  "kernelspec": {
   "display_name": "Python 3",
   "language": "python",
   "name": "python3"
  },
  "language_info": {
   "codemirror_mode": {
    "name": "ipython",
    "version": 3
   },
   "file_extension": ".py",
   "mimetype": "text/x-python",
   "name": "python",
   "nbconvert_exporter": "python",
   "pygments_lexer": "ipython3",
   "version": "3.4.4"
  }
 },
 "nbformat": 4,
 "nbformat_minor": 0
}
