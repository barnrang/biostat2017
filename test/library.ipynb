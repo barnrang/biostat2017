{
 "cells": [
  {
   "cell_type": "code",
   "execution_count": 2,
   "metadata": {},
   "outputs": [],
   "source": [
    "import numpy as np\n",
    "import pandas as pd\n",
    "import urllib.request as req\n",
    "from sklearn import linear_model\n",
    "import matplotlib.pyplot as plt\n",
    "%matplotlib inline\n",
    "from scipy import stats\n",
    "\n",
    "def average(list):\n",
    "    return np.sum(list)/len(list)\n",
    "# 分散を求める関数\n",
    "def variance(list):\n",
    "    mu = average(list)\n",
    "    diff = np.array(list) - mu\n",
    "    return np.sum(np.square(diff))/len(list)\n",
    "# 標準偏差を求める関数\n",
    "def standard_deviation(list):\n",
    "    return np.sqrt(variance(list))\n",
    "# 共分散 = 偏差積の平均 （偏差値、ではありません。偏差積、です）\n",
    "def covariance(list1, list2):\n",
    "    mu1,mu2 = average(list1), average(list2)\n",
    "    diff1, diff2 = np.array(list1) - mu1, np.array(list2) - mu2\n",
    "    return np.sum(diff1 * diff2)/len(list1)\n",
    "# 相関係数 = 共分散を list1, list2 の標準偏差で割ったもの\n",
    "def correlation(list1, list2):\n",
    "    return covariance(list1,list2)/(standard_deviation(list1)*standard_deviation(list2))\n",
    "\n",
    "# 回帰直線の傾き＝相関係数＊（（yの標準偏差）／（xの標準偏差））を求める関数を作ってください。\n",
    "def a_fit(xlist, ylist):\n",
    "    return correlation(xlist,ylist) * (standard_deviation(ylist)/standard_deviation(xlist))\n",
    "# y切片＝yの平均－（傾き＊xの平均）を求める関数を作ってください。\n",
    "def b_fit(xlist, ylist):\n",
    "    return average(ylist) - (a_fit(xlist,ylist) * average(xlist))\n",
    "# a の影響を除いた、b と y の偏相関係数 partial correlation coefficient を求める関数\n",
    "def partial_correlation(a, b, y):\n",
    "    def cor(m,n):\n",
    "        return correlation(m,n)\n",
    "    return (cor(b,y) - (cor(a,y) * cor(a,b)))/np.sqrt((1-cor(a,y)**2)*(1-cor(a,b)**2))\n",
    "\n",
    "def standard_partial_regression(a, b, y):\n",
    "    rby = correlation(b,y)\n",
    "    rab = correlation(a,b)\n",
    "    ray = correlation(a,y)\n",
    "    return (rby - (ray * rab))/ (1 - rab**2)\n",
    "def multiple_correlation(a, b, y):\n",
    "    rby = correlation(b,y)\n",
    "    rab = correlation(a,b)\n",
    "    ray = correlation(a,y)\n",
    "    return np.sqrt((ray**2 + rby**2 - 2 * ray * rby * rab) / (1 - rab**2))\n",
    "\n"
   ]
  },
  {
   "cell_type": "markdown",
   "metadata": {},
   "source": [
    "# カイ２乗 and 検定"
   ]
  },
  {
   "cell_type": "code",
   "execution_count": 53,
   "metadata": {},
   "outputs": [],
   "source": [
    "#1 jigen\n",
    "significance = 0.05\n",
    "def d1chi2(o,e):\n",
    "    #o = [17, 10, 6, 7, 15, 5] # 実測値（観測度数）\n",
    "    #e = [10, 10, 10, 10, 10, 10] # 理論値（期待度数）\n",
    "\n",
    "    chi2, p = stats.chisquare(o, f_exp = e)\n",
    "\n",
    "    print( \"chi2 値は %(chi2)s\" %locals() )\n",
    "    print( \"確率は %(p)s\" %locals() )\n",
    "\n",
    "    if p < significance:\n",
    "        print(\"有意水準 %(significance)s で、有意な差があります\" %locals())\n",
    "    else:\n",
    "        print(\"有意水準 %(significance)s で、有意な差がありません\" %locals())\n",
    "\n",
    "#2 jigen\n",
    "def d2chi2(observed):\n",
    "    significance = 0.05 # 有意水準\n",
    "    #observed = [[24,18], [8, 18]] # 実測値（観測度数）\n",
    "    expected = stats.contingency.expected_freq(observed) # 理論値（期待度数）\n",
    "    o = [item for sublist in observed for item in sublist] # 平滑化した実測値（観測度数）\n",
    "    e = [item for sublist in expected for item in sublist] # 平滑化した理論値（期待度数）\n",
    "    dof = (len(observed) - 1) * (len(observed[0]) - 1) # 自由度\n",
    "\n",
    "    chi2, p = stats.chisquare(o, f_exp = e, ddof = dof)\n",
    "\n",
    "    print( \"chi2 値は %(chi2)s\" %locals() )\n",
    "    print( \"p 値は %(p)s\" %locals() )\n",
    "\n",
    "    if p < significance:\n",
    "        print(\"有意水準 %(significance)s で、有意な差があります\" %locals())\n",
    "    else:\n",
    "        print(\"有意水準 %(significance)s で、有意な差がありません\" %locals())\n",
    "\n",
    "\n",
    "def tnashi(momo,sakura):\n",
    "    t, p = stats.ttest_ind(momo,sakura)\n",
    "\n",
    "    print( \"t 値は %(t).3f\" %locals() )\n",
    "    print( \"確率は %(p)s\" %locals() )\n",
    "\n",
    "    if p < significance:\n",
    "        print(\"有意水準 %(significance)s で、有意な差があります\" %locals())\n",
    "    else:\n",
    "        print(\"有意水準 %(significance)s で、有意な差がありません\" %locals())\n",
    "        \n",
    "def tari(bef,aft):\n",
    "    t, p = stats.ttest_rel(bef,aft)\n",
    "\n",
    "    print( \"t 値は %(t).3f\" %locals() )\n",
    "    print( \"確率は %(p)s\" %locals() )\n",
    "\n",
    "    if p < significance:\n",
    "        print(\"有意水準 %(significance)s で、有意な差があります\" %locals())\n",
    "    else:\n",
    "        print(\"有意水準 %(significance)s で、有意な差がありません\" %locals())\n",
    "\n",
    "def fkentei(ori, old, new):\n",
    "    f, p = stats.f_oneway(ori,old,new)\n",
    "\n",
    "    print( \"f 値は %(f)s\" %locals() )\n",
    "    print( \"確率は %(p)s\" %locals() )\n",
    "\n",
    "    if p < significance:\n",
    "        print(\"有意水準 %(significance)s で、有意な差があります\" %locals())\n",
    "    else:\n",
    "        print(\"有意水準 %(significance)s で、有意な差がありません\" %locals())"
   ]
  },
  {
   "cell_type": "code",
   "execution_count": 47,
   "metadata": {
    "collapsed": true
   },
   "outputs": [],
   "source": [
    "def linear_regress_taiou(X,y,name):\n",
    "    model = linear_model.LinearRegression()\n",
    "    model.fit(X,y)\n",
    "    X_col = X.columns\n",
    "    coef = model.coef_\n",
    "    intercept = model.intercept_\n",
    "    out = '' + name + '='\n",
    "    for i,j in zip(X_col, coef):\n",
    "        out += '{:.6f}*{}+'.format(j,i)\n",
    "    out += '{:.6f}'.format(intercept)\n",
    "    print(out)"
   ]
  },
  {
   "cell_type": "code",
   "execution_count": 48,
   "metadata": {},
   "outputs": [],
   "source": [
    "url = 'https://raw.githubusercontent.com/maskot1977/ipython_notebook/master/toydata/entrance_exam2.txt'\n",
    "req.urlretrieve(url,'data.txt')\n",
    "df = pd.read_csv('data.txt','\\s+',usecols=range(1,4))"
   ]
  },
  {
   "cell_type": "code",
   "execution_count": 49,
   "metadata": {},
   "outputs": [],
   "source": [
    "df.columns = ['test', 'grade', 'high']\n",
    "X = df.drop('grade',1)\n",
    "y = df['grade']"
   ]
  },
  {
   "cell_type": "code",
   "execution_count": 50,
   "metadata": {},
   "outputs": [
    {
     "data": {
      "text/plain": [
       "Index(['test', 'high'], dtype='object')"
      ]
     },
     "execution_count": 50,
     "metadata": {},
     "output_type": "execute_result"
    }
   ],
   "source": [
    "X.columns"
   ]
  },
  {
   "cell_type": "code",
   "execution_count": 51,
   "metadata": {},
   "outputs": [
    {
     "name": "stdout",
     "output_type": "stream",
     "text": [
      "grade=0.006935*test+0.128121*high+-2.094111\n"
     ]
    }
   ],
   "source": [
    "linear_regress_taiou(X,y,'grade')"
   ]
  },
  {
   "cell_type": "code",
   "execution_count": 54,
   "metadata": {},
   "outputs": [
    {
     "name": "stdout",
     "output_type": "stream",
     "text": [
      "chi2 値は 4.48351648352\n",
      "p 値は 0.106271489049\n",
      "有意水準 0.05 で、有意な差がありません\n"
     ]
    }
   ],
   "source": [
    "d2chi2([[24,18], [8, 18]])"
   ]
  },
  {
   "cell_type": "code",
   "execution_count": null,
   "metadata": {
    "collapsed": true
   },
   "outputs": [],
   "source": []
  }
 ],
 "metadata": {
  "kernelspec": {
   "display_name": "Python [default]",
   "language": "python",
   "name": "python3"
  },
  "language_info": {
   "codemirror_mode": {
    "name": "ipython",
    "version": 3
   },
   "file_extension": ".py",
   "mimetype": "text/x-python",
   "name": "python",
   "nbconvert_exporter": "python",
   "pygments_lexer": "ipython3",
   "version": "3.5.3"
  }
 },
 "nbformat": 4,
 "nbformat_minor": 1
}
