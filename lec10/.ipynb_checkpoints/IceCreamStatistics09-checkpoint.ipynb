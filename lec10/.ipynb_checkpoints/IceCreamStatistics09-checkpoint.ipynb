{
 "cells": [
  {
   "cell_type": "markdown",
   "metadata": {},
   "source": [
    "<h4 style=\"padding: 0.25em 0.5em;color: #494949;background: transparent;border-left: solid 5px #7db4e6;\">課題9.1</h4>\n",
    "\n",
    "「アイスクリームの好みについてのアンケート」のデータから13種類のアイスクリームのデータを利用して因子分析を行った。次のファイルは、因子得点のデータである。\n",
    "\n",
    "<a href=\"fscore.txt\">因子得点のデータ</a>\n",
    "\n",
    "ケースの1から40番は女性のデータ、41から80番は男性のデータである。\n",
    "\n",
    "(1)　男女それぞれについて、因子1から4の因子得点の平均値と標準偏差を求めなさい。\n",
    "\n",
    "(2)　(1)から言えることを書きなさい。\n",
    "\n",
    "(3)　(2)について、統計学的に検討するためには、どのような検定方法を使えばいいか。その方法の名前を書きなさい。"
   ]
  },
  {
   "cell_type": "code",
   "execution_count": 1,
   "metadata": {},
   "outputs": [
    {
     "data": {
      "text/plain": [
       "('fscore.txt', <http.client.HTTPMessage at 0x1635fdee048>)"
      ]
     },
     "execution_count": 1,
     "metadata": {},
     "output_type": "execute_result"
    }
   ],
   "source": [
    "import urllib.request as req\n",
    "req.urlretrieve('http://nbviewer.jupyter.org/github/maskot1977/Statistics2017/blob/master/fscore.txt','fscore.txt')"
   ]
  },
  {
   "cell_type": "code",
   "execution_count": 2,
   "metadata": {
    "collapsed": true
   },
   "outputs": [],
   "source": [
    "import pandas as pd\n",
    "import numpy as np\n",
    "import matplotlib.pyplot as plt\n",
    "%matplotlib inline"
   ]
  },
  {
   "cell_type": "code",
   "execution_count": 3,
   "metadata": {
    "collapsed": true
   },
   "outputs": [],
   "source": [
    "df = pd.read_csv('fscore.txt', sep='\\s+', index_col=0)"
   ]
  },
  {
   "cell_type": "code",
   "execution_count": 17,
   "metadata": {},
   "outputs": [],
   "source": [
    "g, b = df[:40], df[40:]"
   ]
  },
  {
   "cell_type": "code",
   "execution_count": 18,
   "metadata": {
    "collapsed": true
   },
   "outputs": [],
   "source": [
    "g_mean, g_sd = g.mean(axis=0), g.std(axis=0)\n",
    "b_mean, b_sd = b.mean(axis=0), b.std(axis=0)"
   ]
  },
  {
   "cell_type": "code",
   "execution_count": 19,
   "metadata": {},
   "outputs": [
    {
     "data": {
      "text/html": [
       "<div>\n",
       "<style>\n",
       "    .dataframe thead tr:only-child th {\n",
       "        text-align: right;\n",
       "    }\n",
       "\n",
       "    .dataframe thead th {\n",
       "        text-align: left;\n",
       "    }\n",
       "\n",
       "    .dataframe tbody tr th {\n",
       "        vertical-align: top;\n",
       "    }\n",
       "</style>\n",
       "<table border=\"1\" class=\"dataframe\">\n",
       "  <thead>\n",
       "    <tr style=\"text-align: right;\">\n",
       "      <th></th>\n",
       "      <th>0</th>\n",
       "    </tr>\n",
       "  </thead>\n",
       "  <tbody>\n",
       "    <tr>\n",
       "      <th>factor1</th>\n",
       "      <td>-0.160878</td>\n",
       "    </tr>\n",
       "    <tr>\n",
       "      <th>factor2</th>\n",
       "      <td>0.034183</td>\n",
       "    </tr>\n",
       "    <tr>\n",
       "      <th>factor3</th>\n",
       "      <td>-0.185733</td>\n",
       "    </tr>\n",
       "    <tr>\n",
       "      <th>factor4</th>\n",
       "      <td>0.101128</td>\n",
       "    </tr>\n",
       "  </tbody>\n",
       "</table>\n",
       "</div>"
      ],
      "text/plain": [
       "                0\n",
       "factor1 -0.160878\n",
       "factor2  0.034183\n",
       "factor3 -0.185733\n",
       "factor4  0.101128"
      ]
     },
     "execution_count": 19,
     "metadata": {},
     "output_type": "execute_result"
    }
   ],
   "source": [
    "pd.DataFrame(g_mean)"
   ]
  },
  {
   "cell_type": "code",
   "execution_count": 20,
   "metadata": {},
   "outputs": [
    {
     "data": {
      "text/html": [
       "<div>\n",
       "<style>\n",
       "    .dataframe thead tr:only-child th {\n",
       "        text-align: right;\n",
       "    }\n",
       "\n",
       "    .dataframe thead th {\n",
       "        text-align: left;\n",
       "    }\n",
       "\n",
       "    .dataframe tbody tr th {\n",
       "        vertical-align: top;\n",
       "    }\n",
       "</style>\n",
       "<table border=\"1\" class=\"dataframe\">\n",
       "  <thead>\n",
       "    <tr style=\"text-align: right;\">\n",
       "      <th></th>\n",
       "      <th>0</th>\n",
       "    </tr>\n",
       "  </thead>\n",
       "  <tbody>\n",
       "    <tr>\n",
       "      <th>factor1</th>\n",
       "      <td>0.160878</td>\n",
       "    </tr>\n",
       "    <tr>\n",
       "      <th>factor2</th>\n",
       "      <td>-0.034183</td>\n",
       "    </tr>\n",
       "    <tr>\n",
       "      <th>factor3</th>\n",
       "      <td>0.185733</td>\n",
       "    </tr>\n",
       "    <tr>\n",
       "      <th>factor4</th>\n",
       "      <td>-0.101128</td>\n",
       "    </tr>\n",
       "  </tbody>\n",
       "</table>\n",
       "</div>"
      ],
      "text/plain": [
       "                0\n",
       "factor1  0.160878\n",
       "factor2 -0.034183\n",
       "factor3  0.185733\n",
       "factor4 -0.101128"
      ]
     },
     "execution_count": 20,
     "metadata": {},
     "output_type": "execute_result"
    }
   ],
   "source": [
    "pd.DataFrame(b_mean)"
   ]
  },
  {
   "cell_type": "code",
   "execution_count": 15,
   "metadata": {},
   "outputs": [
    {
     "data": {
      "text/html": [
       "<div>\n",
       "<style>\n",
       "    .dataframe thead tr:only-child th {\n",
       "        text-align: right;\n",
       "    }\n",
       "\n",
       "    .dataframe thead th {\n",
       "        text-align: left;\n",
       "    }\n",
       "\n",
       "    .dataframe tbody tr th {\n",
       "        vertical-align: top;\n",
       "    }\n",
       "</style>\n",
       "<table border=\"1\" class=\"dataframe\">\n",
       "  <thead>\n",
       "    <tr style=\"text-align: right;\">\n",
       "      <th></th>\n",
       "      <th>0</th>\n",
       "    </tr>\n",
       "  </thead>\n",
       "  <tbody>\n",
       "    <tr>\n",
       "      <th>factor1</th>\n",
       "      <td>0.808369</td>\n",
       "    </tr>\n",
       "    <tr>\n",
       "      <th>factor2</th>\n",
       "      <td>1.063163</td>\n",
       "    </tr>\n",
       "    <tr>\n",
       "      <th>factor3</th>\n",
       "      <td>0.739570</td>\n",
       "    </tr>\n",
       "    <tr>\n",
       "      <th>factor4</th>\n",
       "      <td>0.858090</td>\n",
       "    </tr>\n",
       "  </tbody>\n",
       "</table>\n",
       "</div>"
      ],
      "text/plain": [
       "                0\n",
       "factor1  0.808369\n",
       "factor2  1.063163\n",
       "factor3  0.739570\n",
       "factor4  0.858090"
      ]
     },
     "execution_count": 15,
     "metadata": {},
     "output_type": "execute_result"
    }
   ],
   "source": [
    "pd.DataFrame(g_sd)"
   ]
  },
  {
   "cell_type": "code",
   "execution_count": 16,
   "metadata": {},
   "outputs": [
    {
     "data": {
      "text/html": [
       "<div>\n",
       "<style>\n",
       "    .dataframe thead tr:only-child th {\n",
       "        text-align: right;\n",
       "    }\n",
       "\n",
       "    .dataframe thead th {\n",
       "        text-align: left;\n",
       "    }\n",
       "\n",
       "    .dataframe tbody tr th {\n",
       "        vertical-align: top;\n",
       "    }\n",
       "</style>\n",
       "<table border=\"1\" class=\"dataframe\">\n",
       "  <thead>\n",
       "    <tr style=\"text-align: right;\">\n",
       "      <th></th>\n",
       "      <th>0</th>\n",
       "    </tr>\n",
       "  </thead>\n",
       "  <tbody>\n",
       "    <tr>\n",
       "      <th>factor1</th>\n",
       "      <td>0.930342</td>\n",
       "    </tr>\n",
       "    <tr>\n",
       "      <th>factor2</th>\n",
       "      <td>0.873882</td>\n",
       "    </tr>\n",
       "    <tr>\n",
       "      <th>factor3</th>\n",
       "      <td>1.202719</td>\n",
       "    </tr>\n",
       "    <tr>\n",
       "      <th>factor4</th>\n",
       "      <td>0.916529</td>\n",
       "    </tr>\n",
       "  </tbody>\n",
       "</table>\n",
       "</div>"
      ],
      "text/plain": [
       "                0\n",
       "factor1  0.930342\n",
       "factor2  0.873882\n",
       "factor3  1.202719\n",
       "factor4  0.916529"
      ]
     },
     "execution_count": 16,
     "metadata": {},
     "output_type": "execute_result"
    }
   ],
   "source": [
    "pd.DataFrame(b_sd)"
   ]
  },
  {
   "cell_type": "markdown",
   "metadata": {},
   "source": [
    "2.女性と男性の因子の平均はちょうど逆らっていそうですから好みも逆であるかもしれません。(例:factor2の因子得点係数がマイナスである味は男性の好み、逆に因子得点係数がプラスである味は女性の好み)"
   ]
  },
  {
   "cell_type": "markdown",
   "metadata": {},
   "source": [
    "3.仮説を立てたら \"男性と女性の因子得点はちょうど逆らっている\" という仮説もいいけれども、何の検定も使えないので、同じ意味 <br>\n",
    "\"男性の因子得点をサインチェンジ(-1をかけること）すると、女性の因子得点と差がない\" なら t-検定を使えるはずです。"
   ]
  },
  {
   "cell_type": "markdown",
   "metadata": {},
   "source": [
    "<h2 STYLE=\"background: #c2edff;padding: 0.5em;\">アイスクリーム統計学 第９章 課題</h2>\n",
    "\n",
    "__課題9.1__ を解いて、指定のメールアドレスまでメールしてください。メール送信後は、エラーが帰ってきてないことを確認してください（メールアドレスを間違える人がときどき居ます）。\n",
    "* 締切：11月3日（今すぐでなくても結構です）\n",
    "* メールタイトル：「アイスクリーム統計学 第９章」\n",
    "* 学籍番号と氏名を明記すること。\n",
    "* 感想などがあれば書いてくれると嬉しいです。次回以降の講義の改善につながるかも知れません。"
   ]
  }
 ],
 "metadata": {
  "kernelspec": {
   "display_name": "Python [default]",
   "language": "python",
   "name": "python3"
  },
  "language_info": {
   "codemirror_mode": {
    "name": "ipython",
    "version": 3
   },
   "file_extension": ".py",
   "mimetype": "text/x-python",
   "name": "python",
   "nbconvert_exporter": "python",
   "pygments_lexer": "ipython3",
   "version": "3.5.3"
  }
 },
 "nbformat": 4,
 "nbformat_minor": 1
}
